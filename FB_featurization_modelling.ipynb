{
 "cells": [
  {
   "cell_type": "markdown",
   "metadata": {
    "id": "4CIERlpkAIw-"
   },
   "source": [
    "<p style=\"font-size:32px;text-align:center\"> <b>Social network Graph Link Prediction - Facebook Challenge</b> </p>"
   ]
  },
  {
   "cell_type": "code",
   "execution_count": 2,
   "metadata": {
    "executionInfo": {
     "elapsed": 2069,
     "status": "ok",
     "timestamp": 1629296670422,
     "user": {
      "displayName": "Sagar Saha",
      "photoUrl": "https://lh3.googleusercontent.com/a-/AOh14GicLETJuVBRiET1eCxKwWcSMrdeomVWv6nl6pk9JQ=s64",
      "userId": "04756931713955304096"
     },
     "user_tz": -360
    },
    "id": "YcH-1yYBAIxP"
   },
   "outputs": [],
   "source": [
    "#Importing Libraries\n",
    "# please do go through this python notebook: \n",
    "import warnings\n",
    "warnings.filterwarnings(\"ignore\")\n",
    "\n",
    "import csv\n",
    "import pandas as pd#pandas to create small dataframes \n",
    "import datetime #Convert to unix time\n",
    "import time #Convert to unix time\n",
    "# if numpy is not installed already : pip3 install numpy\n",
    "import numpy as np#Do aritmetic operations on arrays\n",
    "# matplotlib: used to plot graphs\n",
    "import matplotlib\n",
    "import matplotlib.pylab as plt\n",
    "import seaborn as sns#Plots\n",
    "from matplotlib import rcParams#Size of plots  \n",
    "from sklearn.cluster import MiniBatchKMeans, KMeans#Clustering\n",
    "import math\n",
    "import pickle\n",
    "import os\n",
    "# to install xgboost: pip3 install xgboost\n",
    "import xgboost as xgb\n",
    "\n",
    "import warnings\n",
    "import networkx as nx\n",
    "import pdb\n",
    "import pickle\n",
    "from pandas import HDFStore,DataFrame\n",
    "from pandas import read_hdf\n",
    "from scipy.sparse.linalg import svds, eigs\n",
    "import gc\n",
    "from tqdm import tqdm"
   ]
  },
  {
   "cell_type": "markdown",
   "metadata": {
    "id": "8Ztz_KxBAIxP"
   },
   "source": [
    "# 1. Reading Data"
   ]
  },
  {
   "cell_type": "code",
   "execution_count": 3,
   "metadata": {
    "colab": {
     "base_uri": "https://localhost:8080/"
    },
    "executionInfo": {
     "elapsed": 71272,
     "status": "ok",
     "timestamp": 1629296807253,
     "user": {
      "displayName": "Sagar Saha",
      "photoUrl": "https://lh3.googleusercontent.com/a-/AOh14GicLETJuVBRiET1eCxKwWcSMrdeomVWv6nl6pk9JQ=s64",
      "userId": "04756931713955304096"
     },
     "user_tz": -360
    },
    "id": "UlVSI2OaAIxP",
    "outputId": "e6c9e22c-e43a-47f5-d806-72835e7ff13d"
   },
   "outputs": [
    {
     "name": "stdout",
     "output_type": "stream",
     "text": [
      "DiGraph with 1780722 nodes and 7550015 edges\n"
     ]
    }
   ],
   "source": [
    "if os.path.isfile('data/after_eda/train_pos_after_eda.csv'):\n",
    "    train_graph=nx.read_edgelist('data/after_eda/train_pos_after_eda.csv',delimiter=',',create_using=nx.DiGraph(),nodetype=int)\n",
    "    print(nx.info(train_graph))\n",
    "else:\n",
    "    print(\"please run the FB_EDA.ipynb or download the files from drive\")"
   ]
  },
  {
   "cell_type": "markdown",
   "metadata": {
    "id": "-Evg6HoeAIxP"
   },
   "source": [
    " # 2. Similarity measures"
   ]
  },
  {
   "cell_type": "markdown",
   "metadata": {
    "id": "2-x0uWaAAIxP"
   },
   "source": [
    "## 2.1 Jaccard Distance:\n",
    "http://www.statisticshowto.com/jaccard-index/"
   ]
  },
  {
   "cell_type": "markdown",
   "metadata": {
    "id": "Khe2CZkMAIxP"
   },
   "source": [
    "\\begin{equation}\n",
    "j = \\frac{|X\\cap Y|}{|X \\cup Y|} \n",
    "\\end{equation}"
   ]
  },
  {
   "cell_type": "code",
   "execution_count": 4,
   "metadata": {
    "executionInfo": {
     "elapsed": 45,
     "status": "ok",
     "timestamp": 1629296807254,
     "user": {
      "displayName": "Sagar Saha",
      "photoUrl": "https://lh3.googleusercontent.com/a-/AOh14GicLETJuVBRiET1eCxKwWcSMrdeomVWv6nl6pk9JQ=s64",
      "userId": "04756931713955304096"
     },
     "user_tz": -360
    },
    "id": "hwPIb7jVAIxP"
   },
   "outputs": [],
   "source": [
    "#for followees\n",
    "def jaccard_for_followees(a,b):\n",
    "    try:\n",
    "        if len(set(train_graph.successors(a))) == 0  | len(set(train_graph.successors(b))) == 0:\n",
    "            return 0\n",
    "        sim = (len(set(train_graph.successors(a)).intersection(set(train_graph.successors(b)))))/\\\n",
    "                                    (len(set(train_graph.successors(a)).union(set(train_graph.successors(b)))))\n",
    "    except:\n",
    "        return 0\n",
    "    return sim"
   ]
  },
  {
   "cell_type": "code",
   "execution_count": 5,
   "metadata": {
    "colab": {
     "base_uri": "https://localhost:8080/"
    },
    "executionInfo": {
     "elapsed": 38,
     "status": "ok",
     "timestamp": 1629296807255,
     "user": {
      "displayName": "Sagar Saha",
      "photoUrl": "https://lh3.googleusercontent.com/a-/AOh14GicLETJuVBRiET1eCxKwWcSMrdeomVWv6nl6pk9JQ=s64",
      "userId": "04756931713955304096"
     },
     "user_tz": -360
    },
    "id": "O0f9VLWjAIxP",
    "outputId": "c86510cc-5891-4d6d-bde4-ee2aa61aa6b1"
   },
   "outputs": [
    {
     "name": "stdout",
     "output_type": "stream",
     "text": [
      "0.0\n"
     ]
    }
   ],
   "source": [
    "#one test case\n",
    "print(jaccard_for_followees(273084,1505602))"
   ]
  },
  {
   "cell_type": "code",
   "execution_count": 6,
   "metadata": {
    "colab": {
     "base_uri": "https://localhost:8080/"
    },
    "executionInfo": {
     "elapsed": 34,
     "status": "ok",
     "timestamp": 1629296807255,
     "user": {
      "displayName": "Sagar Saha",
      "photoUrl": "https://lh3.googleusercontent.com/a-/AOh14GicLETJuVBRiET1eCxKwWcSMrdeomVWv6nl6pk9JQ=s64",
      "userId": "04756931713955304096"
     },
     "user_tz": -360
    },
    "id": "mEk1v-dEAIxP",
    "outputId": "bed14fe2-5c1c-4926-f289-555d84c1841d"
   },
   "outputs": [
    {
     "name": "stdout",
     "output_type": "stream",
     "text": [
      "0.0\n"
     ]
    }
   ],
   "source": [
    "#node 1635354 not in graph \n",
    "print(jaccard_for_followees(273084,1505602))"
   ]
  },
  {
   "cell_type": "code",
   "execution_count": 7,
   "metadata": {
    "executionInfo": {
     "elapsed": 29,
     "status": "ok",
     "timestamp": 1629296807256,
     "user": {
      "displayName": "Sagar Saha",
      "photoUrl": "https://lh3.googleusercontent.com/a-/AOh14GicLETJuVBRiET1eCxKwWcSMrdeomVWv6nl6pk9JQ=s64",
      "userId": "04756931713955304096"
     },
     "user_tz": -360
    },
    "id": "QKHF6pK2AIxQ"
   },
   "outputs": [],
   "source": [
    "#for followers\n",
    "def jaccard_for_followers(a,b):\n",
    "    try:\n",
    "        if len(set(train_graph.predecessors(a))) == 0  | len(set(g.predecessors(b))) == 0:\n",
    "            return 0\n",
    "        sim = (len(set(train_graph.predecessors(a)).intersection(set(train_graph.predecessors(b)))))/\\\n",
    "                                 (len(set(train_graph.predecessors(a)).union(set(train_graph.predecessors(b)))))\n",
    "        return sim\n",
    "    except:\n",
    "        return 0"
   ]
  },
  {
   "cell_type": "code",
   "execution_count": 8,
   "metadata": {
    "colab": {
     "base_uri": "https://localhost:8080/"
    },
    "executionInfo": {
     "elapsed": 28,
     "status": "ok",
     "timestamp": 1629296807256,
     "user": {
      "displayName": "Sagar Saha",
      "photoUrl": "https://lh3.googleusercontent.com/a-/AOh14GicLETJuVBRiET1eCxKwWcSMrdeomVWv6nl6pk9JQ=s64",
      "userId": "04756931713955304096"
     },
     "user_tz": -360
    },
    "id": "V-6JHfFFAIxQ",
    "outputId": "cc50ad83-5dbe-4e43-be4a-d06cab60bdd6"
   },
   "outputs": [
    {
     "name": "stdout",
     "output_type": "stream",
     "text": [
      "0\n"
     ]
    }
   ],
   "source": [
    "print(jaccard_for_followers(273084,470294))"
   ]
  },
  {
   "cell_type": "code",
   "execution_count": 9,
   "metadata": {
    "colab": {
     "base_uri": "https://localhost:8080/"
    },
    "executionInfo": {
     "elapsed": 24,
     "status": "ok",
     "timestamp": 1629296807256,
     "user": {
      "displayName": "Sagar Saha",
      "photoUrl": "https://lh3.googleusercontent.com/a-/AOh14GicLETJuVBRiET1eCxKwWcSMrdeomVWv6nl6pk9JQ=s64",
      "userId": "04756931713955304096"
     },
     "user_tz": -360
    },
    "id": "es5LuNx_AIxQ",
    "outputId": "514a9dda-6888-40d7-bdba-c0282786ebe1"
   },
   "outputs": [
    {
     "name": "stdout",
     "output_type": "stream",
     "text": [
      "0\n"
     ]
    }
   ],
   "source": [
    "#node 1635354 not in graph \n",
    "print(jaccard_for_followees(669354,1635354))"
   ]
  },
  {
   "cell_type": "markdown",
   "metadata": {
    "id": "K0FUIFLBAIxQ"
   },
   "source": [
    "## 2.2 Cosine distance"
   ]
  },
  {
   "cell_type": "markdown",
   "metadata": {
    "id": "_iOOaGboAIxQ"
   },
   "source": [
    "\\begin{equation}\n",
    "CosineDistance = \\frac{|X\\cap Y|}{|X|\\cdot|Y|} \n",
    "\\end{equation}"
   ]
  },
  {
   "cell_type": "code",
   "execution_count": 10,
   "metadata": {
    "executionInfo": {
     "elapsed": 21,
     "status": "ok",
     "timestamp": 1629296807257,
     "user": {
      "displayName": "Sagar Saha",
      "photoUrl": "https://lh3.googleusercontent.com/a-/AOh14GicLETJuVBRiET1eCxKwWcSMrdeomVWv6nl6pk9JQ=s64",
      "userId": "04756931713955304096"
     },
     "user_tz": -360
    },
    "id": "880U0mD9AIxQ"
   },
   "outputs": [],
   "source": [
    "#for followees\n",
    "def cosine_for_followees(a,b):\n",
    "    try:\n",
    "        if len(set(train_graph.successors(a))) == 0  | len(set(train_graph.successors(b))) == 0:\n",
    "            return 0\n",
    "        sim = (len(set(train_graph.successors(a)).intersection(set(train_graph.successors(b)))))/\\\n",
    "                                    (math.sqrt(len(set(train_graph.successors(a)))*len((set(train_graph.successors(b))))))\n",
    "        return sim\n",
    "    except:\n",
    "        return 0"
   ]
  },
  {
   "cell_type": "code",
   "execution_count": 11,
   "metadata": {
    "colab": {
     "base_uri": "https://localhost:8080/"
    },
    "executionInfo": {
     "elapsed": 21,
     "status": "ok",
     "timestamp": 1629296807257,
     "user": {
      "displayName": "Sagar Saha",
      "photoUrl": "https://lh3.googleusercontent.com/a-/AOh14GicLETJuVBRiET1eCxKwWcSMrdeomVWv6nl6pk9JQ=s64",
      "userId": "04756931713955304096"
     },
     "user_tz": -360
    },
    "id": "vbM8_enxAIxQ",
    "outputId": "fb3bc7f3-9954-418b-a6d4-0b02c6219eae"
   },
   "outputs": [
    {
     "name": "stdout",
     "output_type": "stream",
     "text": [
      "0.0\n"
     ]
    }
   ],
   "source": [
    "print(cosine_for_followees(273084,1505602))"
   ]
  },
  {
   "cell_type": "code",
   "execution_count": 12,
   "metadata": {
    "colab": {
     "base_uri": "https://localhost:8080/"
    },
    "executionInfo": {
     "elapsed": 18,
     "status": "ok",
     "timestamp": 1629296807258,
     "user": {
      "displayName": "Sagar Saha",
      "photoUrl": "https://lh3.googleusercontent.com/a-/AOh14GicLETJuVBRiET1eCxKwWcSMrdeomVWv6nl6pk9JQ=s64",
      "userId": "04756931713955304096"
     },
     "user_tz": -360
    },
    "id": "UTQmZSphAIxQ",
    "outputId": "0a15d8a6-7a3f-4817-ceb9-d8c0b8c670e1"
   },
   "outputs": [
    {
     "name": "stdout",
     "output_type": "stream",
     "text": [
      "0\n"
     ]
    }
   ],
   "source": [
    "print(cosine_for_followees(273084,1635354))"
   ]
  },
  {
   "cell_type": "code",
   "execution_count": 13,
   "metadata": {
    "executionInfo": {
     "elapsed": 15,
     "status": "ok",
     "timestamp": 1629296807258,
     "user": {
      "displayName": "Sagar Saha",
      "photoUrl": "https://lh3.googleusercontent.com/a-/AOh14GicLETJuVBRiET1eCxKwWcSMrdeomVWv6nl6pk9JQ=s64",
      "userId": "04756931713955304096"
     },
     "user_tz": -360
    },
    "id": "yTRFmNbrAIxQ"
   },
   "outputs": [],
   "source": [
    "def cosine_for_followers(a,b):\n",
    "    try:\n",
    "        \n",
    "        if len(set(train_graph.predecessors(a))) == 0  | len(set(train_graph.predecessors(b))) == 0:\n",
    "            return 0\n",
    "        sim = (len(set(train_graph.predecessors(a)).intersection(set(train_graph.predecessors(b)))))/\\\n",
    "                                     (math.sqrt(len(set(train_graph.predecessors(a))))*(len(set(train_graph.predecessors(b)))))\n",
    "        return sim\n",
    "    except:\n",
    "        return 0"
   ]
  },
  {
   "cell_type": "code",
   "execution_count": 14,
   "metadata": {
    "colab": {
     "base_uri": "https://localhost:8080/"
    },
    "executionInfo": {
     "elapsed": 14,
     "status": "ok",
     "timestamp": 1629296807258,
     "user": {
      "displayName": "Sagar Saha",
      "photoUrl": "https://lh3.googleusercontent.com/a-/AOh14GicLETJuVBRiET1eCxKwWcSMrdeomVWv6nl6pk9JQ=s64",
      "userId": "04756931713955304096"
     },
     "user_tz": -360
    },
    "id": "Eke6lMaOAIxR",
    "outputId": "1af9f482-7398-4454-d236-8eff9a21e0ba"
   },
   "outputs": [
    {
     "name": "stdout",
     "output_type": "stream",
     "text": [
      "0.02886751345948129\n"
     ]
    }
   ],
   "source": [
    "print(cosine_for_followers(2,470294))"
   ]
  },
  {
   "cell_type": "code",
   "execution_count": 15,
   "metadata": {
    "colab": {
     "base_uri": "https://localhost:8080/"
    },
    "executionInfo": {
     "elapsed": 13,
     "status": "ok",
     "timestamp": 1629296807259,
     "user": {
      "displayName": "Sagar Saha",
      "photoUrl": "https://lh3.googleusercontent.com/a-/AOh14GicLETJuVBRiET1eCxKwWcSMrdeomVWv6nl6pk9JQ=s64",
      "userId": "04756931713955304096"
     },
     "user_tz": -360
    },
    "id": "osQAYV79AIxR",
    "outputId": "89c6f5f0-1e0d-4a7d-8d6d-54b0597d8599"
   },
   "outputs": [
    {
     "name": "stdout",
     "output_type": "stream",
     "text": [
      "0\n"
     ]
    }
   ],
   "source": [
    "print(cosine_for_followers(669354,1635354))"
   ]
  },
  {
   "cell_type": "markdown",
   "metadata": {
    "id": "sOygyAmvAIxR"
   },
   "source": [
    "## 3. Ranking Measures"
   ]
  },
  {
   "cell_type": "markdown",
   "metadata": {
    "id": "J5YkqB2jAIxR"
   },
   "source": [
    "https://networkx.github.io/documentation/networkx-1.10/reference/generated/networkx.algorithms.link_analysis.pagerank_alg.pagerank.html\n",
    "\n",
    "PageRank computes a ranking of the nodes in the graph G based on the structure of the incoming links.\n",
    "\n",
    "<img src='PageRanks-Example.jpg'/>\n",
    "\n",
    "Mathematical PageRanks for a simple network, expressed as percentages. (Google uses a logarithmic scale.) Page C has a higher PageRank than Page E, even though there are fewer links to C; the one link to C comes from an important page and hence is of high value. If web surfers who start on a random page have an 85% likelihood of choosing a random link from the page they are currently visiting, and a 15% likelihood of jumping to a page chosen at random from the entire web, they will reach Page E 8.1% of the time. <b>(The 15% likelihood of jumping to an arbitrary page corresponds to a damping factor of 85%.) Without damping, all web surfers would eventually end up on Pages A, B, or C, and all other pages would have PageRank zero. In the presence of damping, Page A effectively links to all pages in the web, even though it has no outgoing links of its own.</b>"
   ]
  },
  {
   "cell_type": "markdown",
   "metadata": {
    "id": "xmQobLXeAIxR"
   },
   "source": [
    "## 3.1 Page Ranking\n",
    "\n",
    "https://en.wikipedia.org/wiki/PageRank\n"
   ]
  },
  {
   "cell_type": "code",
   "execution_count": 16,
   "metadata": {
    "executionInfo": {
     "elapsed": 1792,
     "status": "ok",
     "timestamp": 1629296811079,
     "user": {
      "displayName": "Sagar Saha",
      "photoUrl": "https://lh3.googleusercontent.com/a-/AOh14GicLETJuVBRiET1eCxKwWcSMrdeomVWv6nl6pk9JQ=s64",
      "userId": "04756931713955304096"
     },
     "user_tz": -360
    },
    "id": "AvommP_XAIxR"
   },
   "outputs": [],
   "source": [
    "if not os.path.isfile('data/fea_sample/page_rank.p'):\n",
    "    pr = nx.pagerank(train_graph, alpha=0.85)\n",
    "    pickle.dump(pr,open('page_rank.p','wb'))\n",
    "else:\n",
    "    pr = pickle.load(open('data/fea_sample/page_rank.p','rb'))"
   ]
  },
  {
   "cell_type": "code",
   "execution_count": 17,
   "metadata": {
    "colab": {
     "base_uri": "https://localhost:8080/"
    },
    "executionInfo": {
     "elapsed": 701,
     "status": "ok",
     "timestamp": 1629296811778,
     "user": {
      "displayName": "Sagar Saha",
      "photoUrl": "https://lh3.googleusercontent.com/a-/AOh14GicLETJuVBRiET1eCxKwWcSMrdeomVWv6nl6pk9JQ=s64",
      "userId": "04756931713955304096"
     },
     "user_tz": -360
    },
    "id": "FDcWc-p5AIxR",
    "outputId": "135e623f-7612-49a8-e223-962ae475e167"
   },
   "outputs": [
    {
     "name": "stdout",
     "output_type": "stream",
     "text": [
      "min 1.6556497245737814e-07\n",
      "max 2.7098251341935827e-05\n",
      "mean 5.615699699389075e-07\n"
     ]
    }
   ],
   "source": [
    "print('min',pr[min(pr, key=pr.get)])\n",
    "print('max',pr[max(pr, key=pr.get)])\n",
    "print('mean',float(sum(pr.values())) / len(pr))"
   ]
  },
  {
   "cell_type": "code",
   "execution_count": 18,
   "metadata": {
    "colab": {
     "base_uri": "https://localhost:8080/"
    },
    "executionInfo": {
     "elapsed": 12,
     "status": "ok",
     "timestamp": 1629296811779,
     "user": {
      "displayName": "Sagar Saha",
      "photoUrl": "https://lh3.googleusercontent.com/a-/AOh14GicLETJuVBRiET1eCxKwWcSMrdeomVWv6nl6pk9JQ=s64",
      "userId": "04756931713955304096"
     },
     "user_tz": -360
    },
    "id": "vOSZxJJbAIxR",
    "outputId": "b6b8887b-0456-42bf-f983-535dc583e024"
   },
   "outputs": [
    {
     "name": "stdout",
     "output_type": "stream",
     "text": [
      "5.615699699389075e-07\n"
     ]
    }
   ],
   "source": [
    "#for imputing to nodes which are not there in Train data\n",
    "mean_pr = float(sum(pr.values())) / len(pr)\n",
    "print(mean_pr)"
   ]
  },
  {
   "cell_type": "markdown",
   "metadata": {
    "id": "ta_fTXhlAIxR"
   },
   "source": [
    "# 4. Other Graph Features"
   ]
  },
  {
   "cell_type": "markdown",
   "metadata": {
    "id": "fv6ppWmSAIxR"
   },
   "source": [
    "## 4.1 Shortest path:"
   ]
  },
  {
   "cell_type": "markdown",
   "metadata": {
    "id": "7rvp2ShVAIxS"
   },
   "source": [
    "Getting Shortest path between twoo nodes, if nodes have direct path i.e directly connected then we are removing that edge and calculating path. "
   ]
  },
  {
   "cell_type": "code",
   "execution_count": 19,
   "metadata": {
    "executionInfo": {
     "elapsed": 373,
     "status": "ok",
     "timestamp": 1629296823207,
     "user": {
      "displayName": "Sagar Saha",
      "photoUrl": "https://lh3.googleusercontent.com/a-/AOh14GicLETJuVBRiET1eCxKwWcSMrdeomVWv6nl6pk9JQ=s64",
      "userId": "04756931713955304096"
     },
     "user_tz": -360
    },
    "id": "E3ykerNXAIxS"
   },
   "outputs": [],
   "source": [
    "#if has direct edge then deleting that edge and calculating shortest path\n",
    "def compute_shortest_path_length(a,b):\n",
    "    p=-1\n",
    "    try:\n",
    "        if train_graph.has_edge(a,b):\n",
    "            train_graph.remove_edge(a,b)\n",
    "            p= nx.shortest_path_length(train_graph,source=a,target=b)\n",
    "            train_graph.add_edge(a,b)\n",
    "        else:\n",
    "            p= nx.shortest_path_length(train_graph,source=a,target=b)\n",
    "        return p\n",
    "    except:\n",
    "        return -1"
   ]
  },
  {
   "cell_type": "code",
   "execution_count": 20,
   "metadata": {
    "colab": {
     "base_uri": "https://localhost:8080/"
    },
    "executionInfo": {
     "elapsed": 382,
     "status": "ok",
     "timestamp": 1629296826441,
     "user": {
      "displayName": "Sagar Saha",
      "photoUrl": "https://lh3.googleusercontent.com/a-/AOh14GicLETJuVBRiET1eCxKwWcSMrdeomVWv6nl6pk9JQ=s64",
      "userId": "04756931713955304096"
     },
     "user_tz": -360
    },
    "id": "ZSFr52FzAIxS",
    "outputId": "f57b2c81-5b6f-4deb-c57b-6a2cb6673bc1"
   },
   "outputs": [
    {
     "data": {
      "text/plain": [
       "10"
      ]
     },
     "execution_count": 20,
     "metadata": {
      "tags": []
     },
     "output_type": "execute_result"
    }
   ],
   "source": [
    "#testing\n",
    "compute_shortest_path_length(77697, 826021)"
   ]
  },
  {
   "cell_type": "code",
   "execution_count": 21,
   "metadata": {
    "colab": {
     "base_uri": "https://localhost:8080/"
    },
    "executionInfo": {
     "elapsed": 11,
     "status": "ok",
     "timestamp": 1629296827779,
     "user": {
      "displayName": "Sagar Saha",
      "photoUrl": "https://lh3.googleusercontent.com/a-/AOh14GicLETJuVBRiET1eCxKwWcSMrdeomVWv6nl6pk9JQ=s64",
      "userId": "04756931713955304096"
     },
     "user_tz": -360
    },
    "id": "x9SBWDprAIxS",
    "outputId": "1382c7d8-a50c-4787-bf4f-cefb6ef8ce67"
   },
   "outputs": [
    {
     "data": {
      "text/plain": [
       "-1"
      ]
     },
     "execution_count": 21,
     "metadata": {
      "tags": []
     },
     "output_type": "execute_result"
    }
   ],
   "source": [
    "#testing\n",
    "compute_shortest_path_length(669354,1635354)"
   ]
  },
  {
   "cell_type": "markdown",
   "metadata": {
    "id": "kkVy2V4hAIxS"
   },
   "source": [
    "## 4.2 Checking for same community"
   ]
  },
  {
   "cell_type": "code",
   "execution_count": 22,
   "metadata": {
    "executionInfo": {
     "elapsed": 18051,
     "status": "ok",
     "timestamp": 1629296847818,
     "user": {
      "displayName": "Sagar Saha",
      "photoUrl": "https://lh3.googleusercontent.com/a-/AOh14GicLETJuVBRiET1eCxKwWcSMrdeomVWv6nl6pk9JQ=s64",
      "userId": "04756931713955304096"
     },
     "user_tz": -360
    },
    "id": "xaGl5FNMAIxS"
   },
   "outputs": [],
   "source": [
    "#getting weekly connected edges from graph \n",
    "wcc=list(nx.weakly_connected_components(train_graph))\n",
    "def belongs_to_same_wcc(a,b):\n",
    "    index = []\n",
    "    if train_graph.has_edge(b,a):\n",
    "        return 1\n",
    "    if train_graph.has_edge(a,b):\n",
    "            for i in wcc:\n",
    "                if a in i:\n",
    "                    index= i\n",
    "                    break\n",
    "            if (b in index):\n",
    "                train_graph.remove_edge(a,b)\n",
    "                if compute_shortest_path_length(a,b)==-1:\n",
    "                    train_graph.add_edge(a,b)\n",
    "                    return 0\n",
    "                else:\n",
    "                    train_graph.add_edge(a,b)\n",
    "                    return 1\n",
    "            else:\n",
    "                return 0\n",
    "    else:\n",
    "            for i in wcc:\n",
    "                if a in i:\n",
    "                    index= i\n",
    "                    break\n",
    "            if(b in index):\n",
    "                return 1\n",
    "            else:\n",
    "                return 0"
   ]
  },
  {
   "cell_type": "code",
   "execution_count": 23,
   "metadata": {
    "colab": {
     "base_uri": "https://localhost:8080/"
    },
    "executionInfo": {
     "elapsed": 40,
     "status": "ok",
     "timestamp": 1629296847819,
     "user": {
      "displayName": "Sagar Saha",
      "photoUrl": "https://lh3.googleusercontent.com/a-/AOh14GicLETJuVBRiET1eCxKwWcSMrdeomVWv6nl6pk9JQ=s64",
      "userId": "04756931713955304096"
     },
     "user_tz": -360
    },
    "id": "FL10SUaZAIxS",
    "outputId": "9d374ae7-d06b-4e49-d480-7b251227a9cc"
   },
   "outputs": [
    {
     "data": {
      "text/plain": [
       "0"
      ]
     },
     "execution_count": 23,
     "metadata": {
      "tags": []
     },
     "output_type": "execute_result"
    }
   ],
   "source": [
    "belongs_to_same_wcc(861, 1659750)"
   ]
  },
  {
   "cell_type": "code",
   "execution_count": 24,
   "metadata": {
    "colab": {
     "base_uri": "https://localhost:8080/"
    },
    "executionInfo": {
     "elapsed": 34,
     "status": "ok",
     "timestamp": 1629296847819,
     "user": {
      "displayName": "Sagar Saha",
      "photoUrl": "https://lh3.googleusercontent.com/a-/AOh14GicLETJuVBRiET1eCxKwWcSMrdeomVWv6nl6pk9JQ=s64",
      "userId": "04756931713955304096"
     },
     "user_tz": -360
    },
    "id": "d9YWenVSAIxS",
    "outputId": "cf9798ab-79fc-4afe-b945-83d8226f6c37"
   },
   "outputs": [
    {
     "data": {
      "text/plain": [
       "0"
      ]
     },
     "execution_count": 24,
     "metadata": {
      "tags": []
     },
     "output_type": "execute_result"
    }
   ],
   "source": [
    "belongs_to_same_wcc(669354,1635354)"
   ]
  },
  {
   "cell_type": "markdown",
   "metadata": {
    "id": "WJbB1i3FAIxS"
   },
   "source": [
    "## 4.3 Adamic/Adar Index:\n",
    "Adamic/Adar measures is defined as inverted sum of degrees of common neighbours for given two vertices.\n",
    "$$A(x,y)=\\sum_{u \\in N(x) \\cap N(y)}\\frac{1}{log(|N(u)|)}$$"
   ]
  },
  {
   "cell_type": "code",
   "execution_count": 25,
   "metadata": {
    "executionInfo": {
     "elapsed": 27,
     "status": "ok",
     "timestamp": 1629296847819,
     "user": {
      "displayName": "Sagar Saha",
      "photoUrl": "https://lh3.googleusercontent.com/a-/AOh14GicLETJuVBRiET1eCxKwWcSMrdeomVWv6nl6pk9JQ=s64",
      "userId": "04756931713955304096"
     },
     "user_tz": -360
    },
    "id": "A89IWGg7AIxS"
   },
   "outputs": [],
   "source": [
    "#adar index\n",
    "def calc_adar_in(a,b):\n",
    "    sum=0\n",
    "    try:\n",
    "        n=list(set(train_graph.successors(a)).intersection(set(train_graph.successors(b))))\n",
    "        if len(n)!=0:\n",
    "            for i in n:\n",
    "                sum=sum+(1/np.log10(len(list(train_graph.predecessors(i)))))\n",
    "            return sum\n",
    "        else:\n",
    "            return 0\n",
    "    except:\n",
    "        return 0"
   ]
  },
  {
   "cell_type": "code",
   "execution_count": 26,
   "metadata": {
    "colab": {
     "base_uri": "https://localhost:8080/"
    },
    "executionInfo": {
     "elapsed": 27,
     "status": "ok",
     "timestamp": 1629296847820,
     "user": {
      "displayName": "Sagar Saha",
      "photoUrl": "https://lh3.googleusercontent.com/a-/AOh14GicLETJuVBRiET1eCxKwWcSMrdeomVWv6nl6pk9JQ=s64",
      "userId": "04756931713955304096"
     },
     "user_tz": -360
    },
    "id": "7QqfRPhbAIxT",
    "outputId": "11a20dc8-02f4-4e7c-f80b-cadc6ce8f672"
   },
   "outputs": [
    {
     "data": {
      "text/plain": [
       "0"
      ]
     },
     "execution_count": 26,
     "metadata": {
      "tags": []
     },
     "output_type": "execute_result"
    }
   ],
   "source": [
    "calc_adar_in(1,189226)"
   ]
  },
  {
   "cell_type": "code",
   "execution_count": 27,
   "metadata": {
    "colab": {
     "base_uri": "https://localhost:8080/"
    },
    "executionInfo": {
     "elapsed": 22,
     "status": "ok",
     "timestamp": 1629296847820,
     "user": {
      "displayName": "Sagar Saha",
      "photoUrl": "https://lh3.googleusercontent.com/a-/AOh14GicLETJuVBRiET1eCxKwWcSMrdeomVWv6nl6pk9JQ=s64",
      "userId": "04756931713955304096"
     },
     "user_tz": -360
    },
    "id": "kBb8_gY3AIxT",
    "outputId": "f5dada3f-0307-4029-90d8-2f4b3024a316"
   },
   "outputs": [
    {
     "data": {
      "text/plain": [
       "0"
      ]
     },
     "execution_count": 27,
     "metadata": {
      "tags": []
     },
     "output_type": "execute_result"
    }
   ],
   "source": [
    "calc_adar_in(669354,1635354)"
   ]
  },
  {
   "cell_type": "markdown",
   "metadata": {
    "id": "9z2AU9YOAIxT"
   },
   "source": [
    "## 4.4 Is persion was following back:"
   ]
  },
  {
   "cell_type": "code",
   "execution_count": 28,
   "metadata": {
    "executionInfo": {
     "elapsed": 20,
     "status": "ok",
     "timestamp": 1629296847820,
     "user": {
      "displayName": "Sagar Saha",
      "photoUrl": "https://lh3.googleusercontent.com/a-/AOh14GicLETJuVBRiET1eCxKwWcSMrdeomVWv6nl6pk9JQ=s64",
      "userId": "04756931713955304096"
     },
     "user_tz": -360
    },
    "id": "7dnAthN5AIxT"
   },
   "outputs": [],
   "source": [
    "def follows_back(a,b):\n",
    "    if train_graph.has_edge(b,a):\n",
    "        return 1\n",
    "    else:\n",
    "        return 0"
   ]
  },
  {
   "cell_type": "code",
   "execution_count": 29,
   "metadata": {
    "colab": {
     "base_uri": "https://localhost:8080/"
    },
    "executionInfo": {
     "elapsed": 20,
     "status": "ok",
     "timestamp": 1629296847821,
     "user": {
      "displayName": "Sagar Saha",
      "photoUrl": "https://lh3.googleusercontent.com/a-/AOh14GicLETJuVBRiET1eCxKwWcSMrdeomVWv6nl6pk9JQ=s64",
      "userId": "04756931713955304096"
     },
     "user_tz": -360
    },
    "id": "kNHZFlJVAIxT",
    "outputId": "3b199283-7762-4301-8b20-7aaafc6b1750"
   },
   "outputs": [
    {
     "data": {
      "text/plain": [
       "1"
      ]
     },
     "execution_count": 29,
     "metadata": {
      "tags": []
     },
     "output_type": "execute_result"
    }
   ],
   "source": [
    "follows_back(1,189226)"
   ]
  },
  {
   "cell_type": "code",
   "execution_count": 30,
   "metadata": {
    "colab": {
     "base_uri": "https://localhost:8080/"
    },
    "executionInfo": {
     "elapsed": 17,
     "status": "ok",
     "timestamp": 1629296847821,
     "user": {
      "displayName": "Sagar Saha",
      "photoUrl": "https://lh3.googleusercontent.com/a-/AOh14GicLETJuVBRiET1eCxKwWcSMrdeomVWv6nl6pk9JQ=s64",
      "userId": "04756931713955304096"
     },
     "user_tz": -360
    },
    "id": "rX7QsC4DAIxT",
    "outputId": "4ed98d0d-5140-4f8a-e3d7-0f35addef2fc"
   },
   "outputs": [
    {
     "data": {
      "text/plain": [
       "0"
      ]
     },
     "execution_count": 30,
     "metadata": {
      "tags": []
     },
     "output_type": "execute_result"
    }
   ],
   "source": [
    "follows_back(669354,1635354)"
   ]
  },
  {
   "cell_type": "markdown",
   "metadata": {
    "id": "3OFSam7rAIxT"
   },
   "source": [
    "## 4.5 Katz Centrality:\n",
    "https://en.wikipedia.org/wiki/Katz_centrality\n",
    "\n",
    "https://www.geeksforgeeks.org/katz-centrality-centrality-measure/\n",
    " Katz centrality computes the centrality for a node \n",
    "    based on the centrality of its neighbors. It is a \n",
    "    generalization of the eigenvector centrality. The\n",
    "    Katz centrality for node `i` is\n",
    " \n",
    "$$x_i = \\alpha \\sum_{j} A_{ij} x_j + \\beta,$$\n",
    "where `A` is the adjacency matrix of the graph G \n",
    "with eigenvalues $$\\lambda$$.\n",
    "\n",
    "The parameter $$\\beta$$ controls the initial centrality and \n",
    "\n",
    "$$\\alpha < \\frac{1}{\\lambda_{max}}.$$"
   ]
  },
  {
   "cell_type": "code",
   "execution_count": 31,
   "metadata": {
    "executionInfo": {
     "elapsed": 645,
     "status": "ok",
     "timestamp": 1629296848451,
     "user": {
      "displayName": "Sagar Saha",
      "photoUrl": "https://lh3.googleusercontent.com/a-/AOh14GicLETJuVBRiET1eCxKwWcSMrdeomVWv6nl6pk9JQ=s64",
      "userId": "04756931713955304096"
     },
     "user_tz": -360
    },
    "id": "k3xjqEmNAIxT"
   },
   "outputs": [],
   "source": [
    "if not os.path.isfile('data/fea_sample/katz.p'):\n",
    "    katz = nx.katz.katz_centrality(train_graph,alpha=0.005,beta=1)\n",
    "    pickle.dump(katz,open('katz.p','wb'))\n",
    "else:\n",
    "    katz = pickle.load(open('data/fea_sample/katz.p','rb'))"
   ]
  },
  {
   "cell_type": "code",
   "execution_count": 32,
   "metadata": {
    "colab": {
     "base_uri": "https://localhost:8080/"
    },
    "executionInfo": {
     "elapsed": 406,
     "status": "ok",
     "timestamp": 1629296848855,
     "user": {
      "displayName": "Sagar Saha",
      "photoUrl": "https://lh3.googleusercontent.com/a-/AOh14GicLETJuVBRiET1eCxKwWcSMrdeomVWv6nl6pk9JQ=s64",
      "userId": "04756931713955304096"
     },
     "user_tz": -360
    },
    "id": "NSclpdLmAIxT",
    "outputId": "ba251119-39fa-4dcd-bbf1-70de4a6652a7"
   },
   "outputs": [
    {
     "name": "stdout",
     "output_type": "stream",
     "text": [
      "min 0.0007313532484065916\n",
      "max 0.003394554981699122\n",
      "mean 0.0007483800935562018\n"
     ]
    }
   ],
   "source": [
    "print('min',katz[min(katz, key=katz.get)])\n",
    "print('max',katz[max(katz, key=katz.get)])\n",
    "print('mean',float(sum(katz.values())) / len(katz))"
   ]
  },
  {
   "cell_type": "code",
   "execution_count": 33,
   "metadata": {
    "colab": {
     "base_uri": "https://localhost:8080/"
    },
    "executionInfo": {
     "elapsed": 4,
     "status": "ok",
     "timestamp": 1629296848855,
     "user": {
      "displayName": "Sagar Saha",
      "photoUrl": "https://lh3.googleusercontent.com/a-/AOh14GicLETJuVBRiET1eCxKwWcSMrdeomVWv6nl6pk9JQ=s64",
      "userId": "04756931713955304096"
     },
     "user_tz": -360
    },
    "id": "Je8dVJVLAIxT",
    "outputId": "138f78b3-74b9-419e-99d7-af0be49d5477"
   },
   "outputs": [
    {
     "name": "stdout",
     "output_type": "stream",
     "text": [
      "0.0007483800935562018\n"
     ]
    }
   ],
   "source": [
    "mean_katz = float(sum(katz.values())) / len(katz)\n",
    "print(mean_katz)"
   ]
  },
  {
   "cell_type": "markdown",
   "metadata": {
    "id": "SQTlzpj6AIxU"
   },
   "source": [
    "## 4.6 Hits Score\n",
    "The HITS algorithm computes two numbers for a node. Authorities estimates the node value based on the incoming links. Hubs estimates the node value based on outgoing links.\n",
    "\n",
    "https://en.wikipedia.org/wiki/HITS_algorithm"
   ]
  },
  {
   "cell_type": "code",
   "execution_count": 34,
   "metadata": {
    "executionInfo": {
     "elapsed": 1516,
     "status": "ok",
     "timestamp": 1629296850917,
     "user": {
      "displayName": "Sagar Saha",
      "photoUrl": "https://lh3.googleusercontent.com/a-/AOh14GicLETJuVBRiET1eCxKwWcSMrdeomVWv6nl6pk9JQ=s64",
      "userId": "04756931713955304096"
     },
     "user_tz": -360
    },
    "id": "aAd-3W-MAIxU"
   },
   "outputs": [],
   "source": [
    "if not os.path.isfile('data/fea_sample/hits.p'):\n",
    "    hits = nx.hits(train_graph, max_iter=100, tol=1e-08, nstart=None, normalized=True)\n",
    "    pickle.dump(hits,open('hits.p','wb'))\n",
    "else:\n",
    "    hits = pickle.load(open('data/fea_sample/hits.p','rb'))"
   ]
  },
  {
   "cell_type": "code",
   "execution_count": 35,
   "metadata": {
    "colab": {
     "base_uri": "https://localhost:8080/"
    },
    "executionInfo": {
     "elapsed": 555,
     "status": "ok",
     "timestamp": 1629296851471,
     "user": {
      "displayName": "Sagar Saha",
      "photoUrl": "https://lh3.googleusercontent.com/a-/AOh14GicLETJuVBRiET1eCxKwWcSMrdeomVWv6nl6pk9JQ=s64",
      "userId": "04756931713955304096"
     },
     "user_tz": -360
    },
    "id": "0TGpvBV5AIxU",
    "outputId": "546b0127-dca6-4678-dd6d-4f76a12357ce"
   },
   "outputs": [
    {
     "name": "stdout",
     "output_type": "stream",
     "text": [
      "min 0.0\n",
      "max 0.004868653378780953\n",
      "mean 5.615699699344123e-07\n"
     ]
    }
   ],
   "source": [
    "print('min',hits[0][min(hits[0], key=hits[0].get)])\n",
    "print('max',hits[0][max(hits[0], key=hits[0].get)])\n",
    "print('mean',float(sum(hits[0].values())) / len(hits[0]))"
   ]
  },
  {
   "cell_type": "markdown",
   "metadata": {
    "id": "ghUZ5Q3cAIxU"
   },
   "source": [
    "# 5. Featurization"
   ]
  },
  {
   "cell_type": "code",
   "execution_count": 36,
   "metadata": {
    "executionInfo": {
     "elapsed": 34417,
     "status": "ok",
     "timestamp": 1629296885886,
     "user": {
      "displayName": "Sagar Saha",
      "photoUrl": "https://lh3.googleusercontent.com/a-/AOh14GicLETJuVBRiET1eCxKwWcSMrdeomVWv6nl6pk9JQ=s64",
      "userId": "04756931713955304096"
     },
     "user_tz": -360
    },
    "id": "t_MHUcXpAIxU"
   },
   "outputs": [],
   "source": [
    "import random\n",
    "if os.path.isfile('train_after_eda.csv'):\n",
    "    filename = \"train_after_eda.csv\"\n",
    "    # you uncomment this line, if you dont know the lentgh of the file name\n",
    "    # here we have hardcoded the number of lines as 15100030\n",
    "    # n_train = sum(1 for line in open(filename)) #number of records in file (excludes header)\n",
    "    n_train =  15100028\n",
    "    s = 100000 #desired sample size\n",
    "    skip_train = sorted(random.sample(range(1,n_train+1),n_train-s))\n",
    "    #https://stackoverflow.com/a/22259008/4084039"
   ]
  },
  {
   "cell_type": "code",
   "execution_count": 37,
   "metadata": {
    "executionInfo": {
     "elapsed": 7647,
     "status": "ok",
     "timestamp": 1629296893532,
     "user": {
      "displayName": "Sagar Saha",
      "photoUrl": "https://lh3.googleusercontent.com/a-/AOh14GicLETJuVBRiET1eCxKwWcSMrdeomVWv6nl6pk9JQ=s64",
      "userId": "04756931713955304096"
     },
     "user_tz": -360
    },
    "id": "ikiFMi9DAIxU"
   },
   "outputs": [],
   "source": [
    "if os.path.isfile('train_after_eda.csv'):\n",
    "    filename = \"test_after_eda.csv\"\n",
    "    # you uncomment this line, if you dont know the lentgh of the file name\n",
    "    # here we have hardcoded the number of lines as 3775008\n",
    "    # n_test = sum(1 for line in open(filename)) #number of records in file (excludes header)\n",
    "    n_test = 3775006\n",
    "    s = 50000 #desired sample size\n",
    "    skip_test = sorted(random.sample(range(1,n_test+1),n_test-s))\n",
    "    #https://stackoverflow.com/a/22259008/4084039"
   ]
  },
  {
   "cell_type": "code",
   "execution_count": 38,
   "metadata": {
    "colab": {
     "base_uri": "https://localhost:8080/"
    },
    "executionInfo": {
     "elapsed": 4,
     "status": "ok",
     "timestamp": 1629296893534,
     "user": {
      "displayName": "Sagar Saha",
      "photoUrl": "https://lh3.googleusercontent.com/a-/AOh14GicLETJuVBRiET1eCxKwWcSMrdeomVWv6nl6pk9JQ=s64",
      "userId": "04756931713955304096"
     },
     "user_tz": -360
    },
    "id": "WYPBWgugAIxU",
    "outputId": "7d5fe8c1-c95d-4b7e-f367-b9ee049a89b1"
   },
   "outputs": [
    {
     "name": "stdout",
     "output_type": "stream",
     "text": [
      "Number of rows in the train data file: 15100028\n",
      "Number of rows we are going to elimiate in train data are 15000028\n",
      "Number of rows in the test data file: 3775006\n",
      "Number of rows we are going to elimiate in test data are 3725006\n"
     ]
    }
   ],
   "source": [
    "print(\"Number of rows in the train data file:\", n_train)\n",
    "print(\"Number of rows we are going to elimiate in train data are\",len(skip_train))\n",
    "print(\"Number of rows in the test data file:\", n_test)\n",
    "print(\"Number of rows we are going to elimiate in test data are\",len(skip_test))"
   ]
  },
  {
   "cell_type": "code",
   "execution_count": 39,
   "metadata": {
    "colab": {
     "base_uri": "https://localhost:8080/",
     "height": 130
    },
    "executionInfo": {
     "elapsed": 8840,
     "status": "ok",
     "timestamp": 1629296903973,
     "user": {
      "displayName": "Sagar Saha",
      "photoUrl": "https://lh3.googleusercontent.com/a-/AOh14GicLETJuVBRiET1eCxKwWcSMrdeomVWv6nl6pk9JQ=s64",
      "userId": "04756931713955304096"
     },
     "user_tz": -360
    },
    "id": "fvdKDLiAAIxU",
    "outputId": "9fa267de-9d98-44f6-c204-6877e82a6907"
   },
   "outputs": [
    {
     "name": "stdout",
     "output_type": "stream",
     "text": [
      "Our train matrix size  (100002, 3)\n"
     ]
    },
    {
     "data": {
      "text/html": [
       "<div>\n",
       "<style scoped>\n",
       "    .dataframe tbody tr th:only-of-type {\n",
       "        vertical-align: middle;\n",
       "    }\n",
       "\n",
       "    .dataframe tbody tr th {\n",
       "        vertical-align: top;\n",
       "    }\n",
       "\n",
       "    .dataframe thead th {\n",
       "        text-align: right;\n",
       "    }\n",
       "</style>\n",
       "<table border=\"1\" class=\"dataframe\">\n",
       "  <thead>\n",
       "    <tr style=\"text-align: right;\">\n",
       "      <th></th>\n",
       "      <th>source_node</th>\n",
       "      <th>destination_node</th>\n",
       "      <th>indicator_link</th>\n",
       "    </tr>\n",
       "  </thead>\n",
       "  <tbody>\n",
       "    <tr>\n",
       "      <th>0</th>\n",
       "      <td>273084</td>\n",
       "      <td>1505602</td>\n",
       "      <td>1</td>\n",
       "    </tr>\n",
       "    <tr>\n",
       "      <th>1</th>\n",
       "      <td>1811820</td>\n",
       "      <td>1395145</td>\n",
       "      <td>1</td>\n",
       "    </tr>\n",
       "  </tbody>\n",
       "</table>\n",
       "</div>"
      ],
      "text/plain": [
       "   source_node  destination_node  indicator_link\n",
       "0       273084           1505602               1\n",
       "1      1811820           1395145               1"
      ]
     },
     "execution_count": 39,
     "metadata": {
      "tags": []
     },
     "output_type": "execute_result"
    }
   ],
   "source": [
    "df_final_train = pd.read_csv('train_after_eda.csv', skiprows=skip_train, names=['source_node', 'destination_node'])\n",
    "df_final_train['indicator_link'] = pd.read_csv('train_y.csv', skiprows=skip_train, names=['indicator_link'])\n",
    "print(\"Our train matrix size \",df_final_train.shape)\n",
    "df_final_train.head(2)"
   ]
  },
  {
   "cell_type": "code",
   "execution_count": 40,
   "metadata": {
    "colab": {
     "base_uri": "https://localhost:8080/",
     "height": 130
    },
    "executionInfo": {
     "elapsed": 2307,
     "status": "ok",
     "timestamp": 1629296906276,
     "user": {
      "displayName": "Sagar Saha",
      "photoUrl": "https://lh3.googleusercontent.com/a-/AOh14GicLETJuVBRiET1eCxKwWcSMrdeomVWv6nl6pk9JQ=s64",
      "userId": "04756931713955304096"
     },
     "user_tz": -360
    },
    "id": "OUnkrmAZAIxU",
    "outputId": "b3a1f061-4dff-4761-ea4f-1d9446d71835"
   },
   "outputs": [
    {
     "name": "stdout",
     "output_type": "stream",
     "text": [
      "Our test matrix size  (50002, 3)\n"
     ]
    },
    {
     "data": {
      "text/html": [
       "<div>\n",
       "<style scoped>\n",
       "    .dataframe tbody tr th:only-of-type {\n",
       "        vertical-align: middle;\n",
       "    }\n",
       "\n",
       "    .dataframe tbody tr th {\n",
       "        vertical-align: top;\n",
       "    }\n",
       "\n",
       "    .dataframe thead th {\n",
       "        text-align: right;\n",
       "    }\n",
       "</style>\n",
       "<table border=\"1\" class=\"dataframe\">\n",
       "  <thead>\n",
       "    <tr style=\"text-align: right;\">\n",
       "      <th></th>\n",
       "      <th>source_node</th>\n",
       "      <th>destination_node</th>\n",
       "      <th>indicator_link</th>\n",
       "    </tr>\n",
       "  </thead>\n",
       "  <tbody>\n",
       "    <tr>\n",
       "      <th>0</th>\n",
       "      <td>848424</td>\n",
       "      <td>784690</td>\n",
       "      <td>1</td>\n",
       "    </tr>\n",
       "    <tr>\n",
       "      <th>1</th>\n",
       "      <td>623796</td>\n",
       "      <td>71904</td>\n",
       "      <td>1</td>\n",
       "    </tr>\n",
       "  </tbody>\n",
       "</table>\n",
       "</div>"
      ],
      "text/plain": [
       "   source_node  destination_node  indicator_link\n",
       "0       848424            784690               1\n",
       "1       623796             71904               1"
      ]
     },
     "execution_count": 40,
     "metadata": {
      "tags": []
     },
     "output_type": "execute_result"
    }
   ],
   "source": [
    "df_final_test = pd.read_csv('test_after_eda.csv', skiprows=skip_test, names=['source_node', 'destination_node'])\n",
    "df_final_test['indicator_link'] = pd.read_csv('test_y.csv', skiprows=skip_test, names=['indicator_link'])\n",
    "print(\"Our test matrix size \",df_final_test.shape)\n",
    "df_final_test.head(2)"
   ]
  },
  {
   "cell_type": "markdown",
   "metadata": {
    "id": "kWWJgFYMAIxV"
   },
   "source": [
    "## 5.2 Adding a set of features\n",
    "\n",
    "__we will create these each of these features for both train and test data points__\n",
    "<ol>\n",
    "<li>jaccard_followers</li>\n",
    "<li>jaccard_followees</li>\n",
    "<li>cosine_followers</li>\n",
    "<li>cosine_followees</li>\n",
    "<li>num_followers_s</li>\n",
    "<li>num_followees_s</li>\n",
    "<li>num_followers_d</li>\n",
    "<li>num_followees_d</li>\n",
    "<li>inter_followers</li>\n",
    "<li>inter_followees</li>\n",
    "</ol>"
   ]
  },
  {
   "cell_type": "code",
   "execution_count": 62,
   "metadata": {
    "executionInfo": {
     "elapsed": 25851,
     "status": "ok",
     "timestamp": 1629297317509,
     "user": {
      "displayName": "Sagar Saha",
      "photoUrl": "https://lh3.googleusercontent.com/a-/AOh14GicLETJuVBRiET1eCxKwWcSMrdeomVWv6nl6pk9JQ=s64",
      "userId": "04756931713955304096"
     },
     "user_tz": -360
    },
    "id": "brJPN1liAIxV"
   },
   "outputs": [],
   "source": [
    "if not os.path.isfile('data/fea_sample/storage_sample_stage1.h5'):\n",
    "    #mapping jaccrd followers to train and test data\n",
    "    df_final_train['jaccard_followers'] = df_final_train.apply(lambda row:\n",
    "                                            jaccard_for_followers(row['source_node'],row['destination_node']),axis=1)\n",
    "    df_final_test['jaccard_followers'] = df_final_test.apply(lambda row:\n",
    "                                            jaccard_for_followers(row['source_node'],row['destination_node']),axis=1)\n",
    "\n",
    "    #mapping jaccrd followees to train and test data\n",
    "    df_final_train['jaccard_followees'] = df_final_train.apply(lambda row:\n",
    "                                            jaccard_for_followees(row['source_node'],row['destination_node']),axis=1)\n",
    "    df_final_test['jaccard_followees'] = df_final_test.apply(lambda row:\n",
    "                                            jaccard_for_followees(row['source_node'],row['destination_node']),axis=1)\n",
    "    \n",
    "\n",
    "        #mapping jaccrd followers to train and test data\n",
    "    df_final_train['cosine_followers'] = df_final_train.apply(lambda row:\n",
    "                                            cosine_for_followers(row['source_node'],row['destination_node']),axis=1)\n",
    "    df_final_test['cosine_followers'] = df_final_test.apply(lambda row:\n",
    "                                            cosine_for_followers(row['source_node'],row['destination_node']),axis=1)\n",
    "\n",
    "    #mapping jaccrd followees to train and test data\n",
    "    df_final_train['cosine_followees'] = df_final_train.apply(lambda row:\n",
    "                                            cosine_for_followees(row['source_node'],row['destination_node']),axis=1)\n",
    "    df_final_test['cosine_followees'] = df_final_test.apply(lambda row:\n",
    "                                            cosine_for_followees(row['source_node'],row['destination_node']),axis=1)"
   ]
  },
  {
   "cell_type": "code",
   "execution_count": 63,
   "metadata": {
    "executionInfo": {
     "elapsed": 3,
     "status": "ok",
     "timestamp": 1629297317510,
     "user": {
      "displayName": "Sagar Saha",
      "photoUrl": "https://lh3.googleusercontent.com/a-/AOh14GicLETJuVBRiET1eCxKwWcSMrdeomVWv6nl6pk9JQ=s64",
      "userId": "04756931713955304096"
     },
     "user_tz": -360
    },
    "id": "OytGuBPsAIxV"
   },
   "outputs": [],
   "source": [
    "def compute_features_stage1(df_final):\n",
    "    #calculating no of followers followees for source and destination\n",
    "    #calculating intersection of followers and followees for source and destination\n",
    "    num_followers_s=[]\n",
    "    num_followees_s=[]\n",
    "    num_followers_d=[]\n",
    "    num_followees_d=[]\n",
    "    inter_followers=[]\n",
    "    inter_followees=[]\n",
    "    for i,row in df_final.iterrows():\n",
    "        try:\n",
    "            s1=set(train_graph.predecessors(row['source_node']))\n",
    "            s2=set(train_graph.successors(row['source_node']))\n",
    "        except:\n",
    "            s1 = set()\n",
    "            s2 = set()\n",
    "        try:\n",
    "            d1=set(train_graph.predecessors(row['destination_node']))\n",
    "            d2=set(train_graph.successors(row['destination_node']))\n",
    "        except:\n",
    "            d1 = set()\n",
    "            d2 = set()\n",
    "        num_followers_s.append(len(s1))\n",
    "        num_followees_s.append(len(s2))\n",
    "\n",
    "        num_followers_d.append(len(d1))\n",
    "        num_followees_d.append(len(d2))\n",
    "\n",
    "        inter_followers.append(len(s1.intersection(d1)))\n",
    "        inter_followees.append(len(s2.intersection(d2)))\n",
    "    \n",
    "    return num_followers_s, num_followers_d, num_followees_s, num_followees_d, inter_followers, inter_followees"
   ]
  },
  {
   "cell_type": "code",
   "execution_count": 64,
   "metadata": {
    "executionInfo": {
     "elapsed": 2,
     "status": "ok",
     "timestamp": 1629297317510,
     "user": {
      "displayName": "Sagar Saha",
      "photoUrl": "https://lh3.googleusercontent.com/a-/AOh14GicLETJuVBRiET1eCxKwWcSMrdeomVWv6nl6pk9JQ=s64",
      "userId": "04756931713955304096"
     },
     "user_tz": -360
    },
    "id": "_mFbOg_jAIxV"
   },
   "outputs": [],
   "source": [
    "if not os.path.isfile('storage_sample_stage1.h5'):\n",
    "    df_final_train['num_followers_s'], df_final_train['num_followers_d'], \\\n",
    "    df_final_train['num_followees_s'], df_final_train['num_followees_d'], \\\n",
    "    df_final_train['inter_followers'], df_final_train['inter_followees']= compute_features_stage1(df_final_train)\n",
    "    \n",
    "    df_final_test['num_followers_s'], df_final_test['num_followers_d'], \\\n",
    "    df_final_test['num_followees_s'], df_final_test['num_followees_d'], \\\n",
    "    df_final_test['inter_followers'], df_final_test['inter_followees']= compute_features_stage1(df_final_test)\n",
    "    \n",
    "    hdf = HDFStore('storage_sample_stage1.h5')\n",
    "    hdf.put('train_df',df_final_train, format='table', data_columns=True)\n",
    "    hdf.put('test_df',df_final_test, format='table', data_columns=True)\n",
    "    hdf.close()\n",
    "else:\n",
    "    df_final_train = read_hdf('storage_sample_stage1.h5', 'train_df',mode='r')\n",
    "    df_final_test = read_hdf('storage_sample_stage1.h5', 'test_df',mode='r')"
   ]
  },
  {
   "cell_type": "markdown",
   "metadata": {
    "id": "H7ZA18OqAIxV"
   },
   "source": [
    "## 5.3 Adding new set of features\n",
    "\n",
    "__we will create these each of these features for both train and test data points__\n",
    "<ol>\n",
    "<li>adar index</li>\n",
    "<li>is following back</li>\n",
    "<li>belongs to same weakly connect components</li>\n",
    "<li>shortest path between source and destination</li>\n",
    "</ol>"
   ]
  },
  {
   "cell_type": "code",
   "execution_count": 65,
   "metadata": {
    "executionInfo": {
     "elapsed": 2,
     "status": "ok",
     "timestamp": 1629297317510,
     "user": {
      "displayName": "Sagar Saha",
      "photoUrl": "https://lh3.googleusercontent.com/a-/AOh14GicLETJuVBRiET1eCxKwWcSMrdeomVWv6nl6pk9JQ=s64",
      "userId": "04756931713955304096"
     },
     "user_tz": -360
    },
    "id": "2uBOD8O-AIxV"
   },
   "outputs": [],
   "source": [
    "if not os.path.isfile('storage_sample_stage2.h5'):\n",
    "    #mapping adar index on train\n",
    "    df_final_train['adar_index'] = df_final_train.apply(lambda row: calc_adar_in(row['source_node'],row['destination_node']),axis=1)\n",
    "    #mapping adar index on test\n",
    "    df_final_test['adar_index'] = df_final_test.apply(lambda row: calc_adar_in(row['source_node'],row['destination_node']),axis=1)\n",
    "\n",
    "    #--------------------------------------------------------------------------------------------------------\n",
    "    #mapping followback or not on train\n",
    "    df_final_train['follows_back'] = df_final_train.apply(lambda row: follows_back(row['source_node'],row['destination_node']),axis=1)\n",
    "\n",
    "    #mapping followback or not on test\n",
    "    df_final_test['follows_back'] = df_final_test.apply(lambda row: follows_back(row['source_node'],row['destination_node']),axis=1)\n",
    "\n",
    "    #--------------------------------------------------------------------------------------------------------\n",
    "    #mapping same component of wcc or not on train\n",
    "    df_final_train['same_comp'] = df_final_train.apply(lambda row: belongs_to_same_wcc(row['source_node'],row['destination_node']),axis=1)\n",
    "\n",
    "    ##mapping same component of wcc or not on train\n",
    "    df_final_test['same_comp'] = df_final_test.apply(lambda row: belongs_to_same_wcc(row['source_node'],row['destination_node']),axis=1)\n",
    "    \n",
    " \n",
    "    #mapping shortest path on train \n",
    "    df_final_train['shortest_path'] = df_final_train.apply(lambda row: compute_shortest_path_length(row['source_node'],row['destination_node']),axis=1)\n",
    "    #mapping shortest path on test\n",
    "    df_final_test['shortest_path'] = df_final_test.apply(lambda row: compute_shortest_path_length(row['source_node'],row['destination_node']),axis=1)\n",
    "\n",
    "    hdf = HDFStore('storage_sample_stage2.h5')\n",
    "    hdf.put('train_df',df_final_train, format='table', data_columns=True)\n",
    "    hdf.put('test_df',df_final_test, format='table', data_columns=True)\n",
    "    hdf.close()\n",
    "else:\n",
    "    df_final_train = read_hdf('storage_sample_stage2.h5', 'train_df',mode='r')\n",
    "    df_final_test = read_hdf('storage_sample_stage2.h5', 'test_df',mode='r')"
   ]
  },
  {
   "cell_type": "markdown",
   "metadata": {
    "id": "CZhZ0mbxAIxV"
   },
   "source": [
    "## 5.4 Adding new set of features\n",
    "\n",
    "__we will create these each of these features for both train and test data points__\n",
    "<ol>\n",
    "<li>Weight Features\n",
    "    <ul>\n",
    "        <li>weight of incoming edges</li>\n",
    "        <li>weight of outgoing edges</li>\n",
    "        <li>weight of incoming edges + weight of outgoing edges</li>\n",
    "        <li>weight of incoming edges * weight of outgoing edges</li>\n",
    "        <li>2*weight of incoming edges + weight of outgoing edges</li>\n",
    "        <li>weight of incoming edges + 2*weight of outgoing edges</li>\n",
    "    </ul>\n",
    "</li>\n",
    "<li>Page Ranking of source</li>\n",
    "<li>Page Ranking of dest</li>\n",
    "<li>katz of source</li>\n",
    "<li>katz of dest</li>\n",
    "<li>hubs of source</li>\n",
    "<li>hubs of dest</li>\n",
    "<li>authorities_s of source</li>\n",
    "<li>authorities_s of dest</li>\n",
    "</ol>"
   ]
  },
  {
   "cell_type": "markdown",
   "metadata": {
    "id": "IAbzSHVIAIxW"
   },
   "source": [
    "#### Weight Features"
   ]
  },
  {
   "cell_type": "markdown",
   "metadata": {
    "id": "a61apBWgAIxW"
   },
   "source": [
    "In order to determine the similarity of nodes, an edge weight value was calculated between nodes. Edge weight decreases as the neighbor count goes up. Intuitively, consider one million people following a celebrity on a social network then chances are most of them never met each other or the celebrity. On the other hand, if a user has 30 contacts in his/her social network, the chances are higher that many of them know each other. \n",
    "`credit` - Graph-based Features for Supervised Link Prediction\n",
    "William Cukierski, Benjamin Hamner, Bo Yang"
   ]
  },
  {
   "cell_type": "markdown",
   "metadata": {
    "id": "AIEt5lFfAIxW"
   },
   "source": [
    "\\begin{equation}\n",
    "W = \\frac{1}{\\sqrt{1+|X|}}\n",
    "\\end{equation}"
   ]
  },
  {
   "cell_type": "markdown",
   "metadata": {
    "id": "4eKn-o57AIxW"
   },
   "source": [
    "it is directed graph so calculated Weighted in and Weighted out differently"
   ]
  },
  {
   "cell_type": "code",
   "execution_count": 66,
   "metadata": {
    "colab": {
     "base_uri": "https://localhost:8080/"
    },
    "executionInfo": {
     "elapsed": 18595,
     "status": "ok",
     "timestamp": 1629297336103,
     "user": {
      "displayName": "Sagar Saha",
      "photoUrl": "https://lh3.googleusercontent.com/a-/AOh14GicLETJuVBRiET1eCxKwWcSMrdeomVWv6nl6pk9JQ=s64",
      "userId": "04756931713955304096"
     },
     "user_tz": -360
    },
    "id": "MRCONxhiAIxW",
    "outputId": "0d66c9a9-ecb4-4a5e-8f06-0aad5c1b96b2"
   },
   "outputs": [
    {
     "name": "stderr",
     "output_type": "stream",
     "text": [
      "100%|██████████| 1780722/1780722 [00:17<00:00, 100419.00it/s]\n"
     ]
    }
   ],
   "source": [
    "#weight for source and destination of each link\n",
    "Weight_in = {}\n",
    "Weight_out = {}\n",
    "for i in  tqdm(train_graph.nodes()):\n",
    "    s1=set(train_graph.predecessors(i))\n",
    "    w_in = 1.0/(np.sqrt(1+len(s1)))\n",
    "    Weight_in[i]=w_in\n",
    "    \n",
    "    s2=set(train_graph.successors(i))\n",
    "    w_out = 1.0/(np.sqrt(1+len(s2)))\n",
    "    Weight_out[i]=w_out\n",
    "    \n",
    "#for imputing with mean\n",
    "mean_weight_in = np.mean(list(Weight_in.values()))\n",
    "mean_weight_out = np.mean(list(Weight_out.values()))"
   ]
  },
  {
   "cell_type": "code",
   "execution_count": 67,
   "metadata": {
    "executionInfo": {
     "elapsed": 9,
     "status": "ok",
     "timestamp": 1629297336103,
     "user": {
      "displayName": "Sagar Saha",
      "photoUrl": "https://lh3.googleusercontent.com/a-/AOh14GicLETJuVBRiET1eCxKwWcSMrdeomVWv6nl6pk9JQ=s64",
      "userId": "04756931713955304096"
     },
     "user_tz": -360
    },
    "id": "615TJlx5AIxW"
   },
   "outputs": [],
   "source": [
    "if not os.path.isfile('storage_sample_stage3.h5'):\n",
    "    #mapping to pandas train\n",
    "    df_final_train['weight_in'] = df_final_train.destination_node.apply(lambda x: Weight_in.get(x,mean_weight_in))\n",
    "    df_final_train['weight_out'] = df_final_train.source_node.apply(lambda x: Weight_out.get(x,mean_weight_out))\n",
    "\n",
    "    #mapping to pandas test\n",
    "    df_final_test['weight_in'] = df_final_test.destination_node.apply(lambda x: Weight_in.get(x,mean_weight_in))\n",
    "    df_final_test['weight_out'] = df_final_test.source_node.apply(lambda x: Weight_out.get(x,mean_weight_out))\n",
    "\n",
    "\n",
    "    #some features engineerings on the in and out weights\n",
    "    df_final_train['weight_f1'] = df_final_train.weight_in + df_final_train.weight_out\n",
    "    df_final_train['weight_f2'] = df_final_train.weight_in * df_final_train.weight_out\n",
    "    df_final_train['weight_f3'] = (2*df_final_train.weight_in + 1*df_final_train.weight_out)\n",
    "    df_final_train['weight_f4'] = (1*df_final_train.weight_in + 2*df_final_train.weight_out)\n",
    "\n",
    "    #some features engineerings on the in and out weights\n",
    "    df_final_test['weight_f1'] = df_final_test.weight_in + df_final_test.weight_out\n",
    "    df_final_test['weight_f2'] = df_final_test.weight_in * df_final_test.weight_out\n",
    "    df_final_test['weight_f3'] = (2*df_final_test.weight_in + 1*df_final_test.weight_out)\n",
    "    df_final_test['weight_f4'] = (1*df_final_test.weight_in + 2*df_final_test.weight_out)"
   ]
  },
  {
   "cell_type": "code",
   "execution_count": 68,
   "metadata": {
    "executionInfo": {
     "elapsed": 683,
     "status": "ok",
     "timestamp": 1629297336777,
     "user": {
      "displayName": "Sagar Saha",
      "photoUrl": "https://lh3.googleusercontent.com/a-/AOh14GicLETJuVBRiET1eCxKwWcSMrdeomVWv6nl6pk9JQ=s64",
      "userId": "04756931713955304096"
     },
     "user_tz": -360
    },
    "id": "_1-bb0rjAIxW"
   },
   "outputs": [],
   "source": [
    "if not os.path.isfile('storage_sample_stage3.h5'):\n",
    "    \n",
    "    #page rank for source and destination in Train and Test\n",
    "    #if anything not there in train graph then adding mean page rank \n",
    "    df_final_train['page_rank_s'] = df_final_train.source_node.apply(lambda x:pr.get(x,mean_pr))\n",
    "    df_final_train['page_rank_d'] = df_final_train.destination_node.apply(lambda x:pr.get(x,mean_pr))\n",
    "\n",
    "    df_final_test['page_rank_s'] = df_final_test.source_node.apply(lambda x:pr.get(x,mean_pr))\n",
    "    df_final_test['page_rank_d'] = df_final_test.destination_node.apply(lambda x:pr.get(x,mean_pr))\n",
    "    #================================================================================\n",
    "\n",
    "    #Katz centrality score for source and destination in Train and test\n",
    "    #if anything not there in train graph then adding mean katz score\n",
    "    df_final_train['katz_s'] = df_final_train.source_node.apply(lambda x: katz.get(x,mean_katz))\n",
    "    df_final_train['katz_d'] = df_final_train.destination_node.apply(lambda x: katz.get(x,mean_katz))\n",
    "\n",
    "    df_final_test['katz_s'] = df_final_test.source_node.apply(lambda x: katz.get(x,mean_katz))\n",
    "    df_final_test['katz_d'] = df_final_test.destination_node.apply(lambda x: katz.get(x,mean_katz))\n",
    "    #================================================================================\n",
    "\n",
    "    #Hits algorithm score for source and destination in Train and test\n",
    "    #if anything not there in train graph then adding 0\n",
    "    df_final_train['hubs_s'] = df_final_train.source_node.apply(lambda x: hits[0].get(x,0))\n",
    "    df_final_train['hubs_d'] = df_final_train.destination_node.apply(lambda x: hits[0].get(x,0))\n",
    "\n",
    "    df_final_test['hubs_s'] = df_final_test.source_node.apply(lambda x: hits[0].get(x,0))\n",
    "    df_final_test['hubs_d'] = df_final_test.destination_node.apply(lambda x: hits[0].get(x,0))\n",
    "    #================================================================================\n",
    "\n",
    "    #Hits algorithm score for source and destination in Train and Test\n",
    "    #if anything not there in train graph then adding 0\n",
    "    df_final_train['authorities_s'] = df_final_train.source_node.apply(lambda x: hits[1].get(x,0))\n",
    "    df_final_train['authorities_d'] = df_final_train.destination_node.apply(lambda x: hits[1].get(x,0))\n",
    "\n",
    "    df_final_test['authorities_s'] = df_final_test.source_node.apply(lambda x: hits[1].get(x,0))\n",
    "    df_final_test['authorities_d'] = df_final_test.destination_node.apply(lambda x: hits[1].get(x,0))\n",
    "    #================================================================================\n",
    "\n",
    "    hdf = HDFStore('storage_sample_stage3.h5')\n",
    "    hdf.put('train_df',df_final_train, format='table', data_columns=True)\n",
    "    hdf.put('test_df',df_final_test, format='table', data_columns=True)\n",
    "    hdf.close()\n",
    "else:\n",
    "    df_final_train = read_hdf('storage_sample_stage3.h5', 'train_df',mode='r')\n",
    "    df_final_test = read_hdf('storage_sample_stage3.h5', 'test_df',mode='r')"
   ]
  },
  {
   "cell_type": "code",
   "execution_count": 69,
   "metadata": {
    "colab": {
     "base_uri": "https://localhost:8080/",
     "height": 312
    },
    "executionInfo": {
     "elapsed": 5,
     "status": "ok",
     "timestamp": 1629297336778,
     "user": {
      "displayName": "Sagar Saha",
      "photoUrl": "https://lh3.googleusercontent.com/a-/AOh14GicLETJuVBRiET1eCxKwWcSMrdeomVWv6nl6pk9JQ=s64",
      "userId": "04756931713955304096"
     },
     "user_tz": -360
    },
    "id": "2za9REkBAIxW",
    "outputId": "48edc334-ef99-480c-c654-94b38da83d4c"
   },
   "outputs": [
    {
     "data": {
      "text/html": [
       "<div>\n",
       "<style scoped>\n",
       "    .dataframe tbody tr th:only-of-type {\n",
       "        vertical-align: middle;\n",
       "    }\n",
       "\n",
       "    .dataframe tbody tr th {\n",
       "        vertical-align: top;\n",
       "    }\n",
       "\n",
       "    .dataframe thead th {\n",
       "        text-align: right;\n",
       "    }\n",
       "</style>\n",
       "<table border=\"1\" class=\"dataframe\">\n",
       "  <thead>\n",
       "    <tr style=\"text-align: right;\">\n",
       "      <th></th>\n",
       "      <th>source_node</th>\n",
       "      <th>destination_node</th>\n",
       "      <th>indicator_link</th>\n",
       "      <th>num_followers_s</th>\n",
       "      <th>num_followers_d</th>\n",
       "      <th>num_followees_s</th>\n",
       "      <th>num_followees_d</th>\n",
       "      <th>inter_followers</th>\n",
       "      <th>inter_followees</th>\n",
       "      <th>adar_index</th>\n",
       "      <th>follows_back</th>\n",
       "      <th>same_comp</th>\n",
       "      <th>shortest_path</th>\n",
       "      <th>weight_in</th>\n",
       "      <th>weight_out</th>\n",
       "      <th>weight_f1</th>\n",
       "      <th>weight_f2</th>\n",
       "      <th>weight_f3</th>\n",
       "      <th>weight_f4</th>\n",
       "      <th>page_rank_s</th>\n",
       "      <th>page_rank_d</th>\n",
       "      <th>katz_s</th>\n",
       "      <th>katz_d</th>\n",
       "      <th>hubs_s</th>\n",
       "      <th>hubs_d</th>\n",
       "      <th>authorities_s</th>\n",
       "      <th>authorities_d</th>\n",
       "    </tr>\n",
       "  </thead>\n",
       "  <tbody>\n",
       "    <tr>\n",
       "      <th>0</th>\n",
       "      <td>273084</td>\n",
       "      <td>1505602</td>\n",
       "      <td>1</td>\n",
       "      <td>11</td>\n",
       "      <td>6</td>\n",
       "      <td>15</td>\n",
       "      <td>8</td>\n",
       "      <td>0</td>\n",
       "      <td>0</td>\n",
       "      <td>0.000000</td>\n",
       "      <td>0</td>\n",
       "      <td>1</td>\n",
       "      <td>4</td>\n",
       "      <td>0.377964</td>\n",
       "      <td>0.250000</td>\n",
       "      <td>0.627964</td>\n",
       "      <td>0.094491</td>\n",
       "      <td>1.005929</td>\n",
       "      <td>0.877964</td>\n",
       "      <td>0.000002</td>\n",
       "      <td>3.459963e-07</td>\n",
       "      <td>0.000773</td>\n",
       "      <td>0.000756</td>\n",
       "      <td>1.943132e-13</td>\n",
       "      <td>1.941103e-13</td>\n",
       "      <td>9.226339e-16</td>\n",
       "      <td>2.231877e-15</td>\n",
       "    </tr>\n",
       "    <tr>\n",
       "      <th>1</th>\n",
       "      <td>1219779</td>\n",
       "      <td>706355</td>\n",
       "      <td>1</td>\n",
       "      <td>44</td>\n",
       "      <td>61</td>\n",
       "      <td>20</td>\n",
       "      <td>0</td>\n",
       "      <td>26</td>\n",
       "      <td>0</td>\n",
       "      <td>0.000000</td>\n",
       "      <td>0</td>\n",
       "      <td>1</td>\n",
       "      <td>2</td>\n",
       "      <td>0.127000</td>\n",
       "      <td>0.218218</td>\n",
       "      <td>0.345218</td>\n",
       "      <td>0.027714</td>\n",
       "      <td>0.472218</td>\n",
       "      <td>0.563436</td>\n",
       "      <td>0.000001</td>\n",
       "      <td>1.244706e-06</td>\n",
       "      <td>0.000915</td>\n",
       "      <td>0.001013</td>\n",
       "      <td>5.999138e-11</td>\n",
       "      <td>0.000000e+00</td>\n",
       "      <td>2.734890e-09</td>\n",
       "      <td>4.859173e-09</td>\n",
       "    </tr>\n",
       "    <tr>\n",
       "      <th>2</th>\n",
       "      <td>1059200</td>\n",
       "      <td>1664635</td>\n",
       "      <td>1</td>\n",
       "      <td>14</td>\n",
       "      <td>6</td>\n",
       "      <td>17</td>\n",
       "      <td>13</td>\n",
       "      <td>5</td>\n",
       "      <td>11</td>\n",
       "      <td>11.424889</td>\n",
       "      <td>1</td>\n",
       "      <td>1</td>\n",
       "      <td>2</td>\n",
       "      <td>0.377964</td>\n",
       "      <td>0.235702</td>\n",
       "      <td>0.613667</td>\n",
       "      <td>0.089087</td>\n",
       "      <td>0.991631</td>\n",
       "      <td>0.849369</td>\n",
       "      <td>0.000001</td>\n",
       "      <td>3.825109e-07</td>\n",
       "      <td>0.000785</td>\n",
       "      <td>0.000754</td>\n",
       "      <td>1.791779e-17</td>\n",
       "      <td>1.799380e-17</td>\n",
       "      <td>1.414347e-17</td>\n",
       "      <td>5.376350e-19</td>\n",
       "    </tr>\n",
       "    <tr>\n",
       "      <th>3</th>\n",
       "      <td>1363018</td>\n",
       "      <td>752401</td>\n",
       "      <td>1</td>\n",
       "      <td>61</td>\n",
       "      <td>47</td>\n",
       "      <td>70</td>\n",
       "      <td>9</td>\n",
       "      <td>0</td>\n",
       "      <td>0</td>\n",
       "      <td>0.000000</td>\n",
       "      <td>0</td>\n",
       "      <td>1</td>\n",
       "      <td>3</td>\n",
       "      <td>0.144338</td>\n",
       "      <td>0.118678</td>\n",
       "      <td>0.263016</td>\n",
       "      <td>0.017130</td>\n",
       "      <td>0.407353</td>\n",
       "      <td>0.381694</td>\n",
       "      <td>0.000003</td>\n",
       "      <td>2.661763e-06</td>\n",
       "      <td>0.000997</td>\n",
       "      <td>0.000927</td>\n",
       "      <td>2.214160e-13</td>\n",
       "      <td>9.683343e-14</td>\n",
       "      <td>1.643200e-13</td>\n",
       "      <td>6.327230e-14</td>\n",
       "    </tr>\n",
       "    <tr>\n",
       "      <th>4</th>\n",
       "      <td>602034</td>\n",
       "      <td>1200986</td>\n",
       "      <td>1</td>\n",
       "      <td>11</td>\n",
       "      <td>4</td>\n",
       "      <td>13</td>\n",
       "      <td>5</td>\n",
       "      <td>0</td>\n",
       "      <td>0</td>\n",
       "      <td>0.000000</td>\n",
       "      <td>1</td>\n",
       "      <td>1</td>\n",
       "      <td>4</td>\n",
       "      <td>0.447214</td>\n",
       "      <td>0.267261</td>\n",
       "      <td>0.714475</td>\n",
       "      <td>0.119523</td>\n",
       "      <td>1.161688</td>\n",
       "      <td>0.981736</td>\n",
       "      <td>0.000001</td>\n",
       "      <td>7.796304e-07</td>\n",
       "      <td>0.000773</td>\n",
       "      <td>0.000746</td>\n",
       "      <td>1.915209e-13</td>\n",
       "      <td>3.479478e-18</td>\n",
       "      <td>1.029497e-17</td>\n",
       "      <td>1.439926e-15</td>\n",
       "    </tr>\n",
       "  </tbody>\n",
       "</table>\n",
       "</div>"
      ],
      "text/plain": [
       "   source_node  destination_node  ...  authorities_s  authorities_d\n",
       "0       273084           1505602  ...   9.226339e-16   2.231877e-15\n",
       "1      1219779            706355  ...   2.734890e-09   4.859173e-09\n",
       "2      1059200           1664635  ...   1.414347e-17   5.376350e-19\n",
       "3      1363018            752401  ...   1.643200e-13   6.327230e-14\n",
       "4       602034           1200986  ...   1.029497e-17   1.439926e-15\n",
       "\n",
       "[5 rows x 27 columns]"
      ]
     },
     "execution_count": 69,
     "metadata": {
      "tags": []
     },
     "output_type": "execute_result"
    }
   ],
   "source": [
    "df_final_train.head()"
   ]
  },
  {
   "cell_type": "markdown",
   "metadata": {
    "id": "YpoNQOnpAIxW"
   },
   "source": [
    "### Adding new feature Preferential Attachement "
   ]
  },
  {
   "cell_type": "markdown",
   "metadata": {
    "id": "RgvFAk10AIxW"
   },
   "source": [
    " One well-known concept in social networks is that users with many friends tend to create more connections in the future. This is due to the fact that in some social networks, like in finance, the rich get richer. We estimate how ”rich” our two vertices are by calculating the multiplication between the number of friends (|Γ(x)|) or followers each vertex has."
   ]
  },
  {
   "cell_type": "markdown",
   "metadata": {
    "id": "OJj698onAIxX"
   },
   "source": [
    "### Preferential Attachement for followers (ASSIGNMENT)"
   ]
  },
  {
   "cell_type": "code",
   "execution_count": 70,
   "metadata": {
    "colab": {
     "base_uri": "https://localhost:8080/",
     "height": 312
    },
    "executionInfo": {
     "elapsed": 681,
     "status": "ok",
     "timestamp": 1629297337455,
     "user": {
      "displayName": "Sagar Saha",
      "photoUrl": "https://lh3.googleusercontent.com/a-/AOh14GicLETJuVBRiET1eCxKwWcSMrdeomVWv6nl6pk9JQ=s64",
      "userId": "04756931713955304096"
     },
     "user_tz": -360
    },
    "id": "q-HWS6kGAIxX",
    "outputId": "bd369c12-0ef1-4f3a-90e9-48a6d3fbae0d"
   },
   "outputs": [
    {
     "data": {
      "text/html": [
       "<div>\n",
       "<style scoped>\n",
       "    .dataframe tbody tr th:only-of-type {\n",
       "        vertical-align: middle;\n",
       "    }\n",
       "\n",
       "    .dataframe tbody tr th {\n",
       "        vertical-align: top;\n",
       "    }\n",
       "\n",
       "    .dataframe thead th {\n",
       "        text-align: right;\n",
       "    }\n",
       "</style>\n",
       "<table border=\"1\" class=\"dataframe\">\n",
       "  <thead>\n",
       "    <tr style=\"text-align: right;\">\n",
       "      <th></th>\n",
       "      <th>source_node</th>\n",
       "      <th>destination_node</th>\n",
       "      <th>indicator_link</th>\n",
       "      <th>num_followers_s</th>\n",
       "      <th>num_followers_d</th>\n",
       "      <th>num_followees_s</th>\n",
       "      <th>num_followees_d</th>\n",
       "      <th>inter_followers</th>\n",
       "      <th>inter_followees</th>\n",
       "      <th>adar_index</th>\n",
       "      <th>follows_back</th>\n",
       "      <th>same_comp</th>\n",
       "      <th>shortest_path</th>\n",
       "      <th>weight_in</th>\n",
       "      <th>weight_out</th>\n",
       "      <th>weight_f1</th>\n",
       "      <th>weight_f2</th>\n",
       "      <th>weight_f3</th>\n",
       "      <th>weight_f4</th>\n",
       "      <th>page_rank_s</th>\n",
       "      <th>page_rank_d</th>\n",
       "      <th>katz_s</th>\n",
       "      <th>katz_d</th>\n",
       "      <th>hubs_s</th>\n",
       "      <th>hubs_d</th>\n",
       "      <th>authorities_s</th>\n",
       "      <th>authorities_d</th>\n",
       "      <th>prefer_Attach_followers</th>\n",
       "    </tr>\n",
       "  </thead>\n",
       "  <tbody>\n",
       "    <tr>\n",
       "      <th>0</th>\n",
       "      <td>273084</td>\n",
       "      <td>1505602</td>\n",
       "      <td>1</td>\n",
       "      <td>11</td>\n",
       "      <td>6</td>\n",
       "      <td>15</td>\n",
       "      <td>8</td>\n",
       "      <td>0</td>\n",
       "      <td>0</td>\n",
       "      <td>0.000000</td>\n",
       "      <td>0</td>\n",
       "      <td>1</td>\n",
       "      <td>4</td>\n",
       "      <td>0.377964</td>\n",
       "      <td>0.250000</td>\n",
       "      <td>0.627964</td>\n",
       "      <td>0.094491</td>\n",
       "      <td>1.005929</td>\n",
       "      <td>0.877964</td>\n",
       "      <td>0.000002</td>\n",
       "      <td>3.459963e-07</td>\n",
       "      <td>0.000773</td>\n",
       "      <td>0.000756</td>\n",
       "      <td>1.943132e-13</td>\n",
       "      <td>1.941103e-13</td>\n",
       "      <td>9.226339e-16</td>\n",
       "      <td>2.231877e-15</td>\n",
       "      <td>66</td>\n",
       "    </tr>\n",
       "    <tr>\n",
       "      <th>1</th>\n",
       "      <td>1219779</td>\n",
       "      <td>706355</td>\n",
       "      <td>1</td>\n",
       "      <td>44</td>\n",
       "      <td>61</td>\n",
       "      <td>20</td>\n",
       "      <td>0</td>\n",
       "      <td>26</td>\n",
       "      <td>0</td>\n",
       "      <td>0.000000</td>\n",
       "      <td>0</td>\n",
       "      <td>1</td>\n",
       "      <td>2</td>\n",
       "      <td>0.127000</td>\n",
       "      <td>0.218218</td>\n",
       "      <td>0.345218</td>\n",
       "      <td>0.027714</td>\n",
       "      <td>0.472218</td>\n",
       "      <td>0.563436</td>\n",
       "      <td>0.000001</td>\n",
       "      <td>1.244706e-06</td>\n",
       "      <td>0.000915</td>\n",
       "      <td>0.001013</td>\n",
       "      <td>5.999138e-11</td>\n",
       "      <td>0.000000e+00</td>\n",
       "      <td>2.734890e-09</td>\n",
       "      <td>4.859173e-09</td>\n",
       "      <td>2684</td>\n",
       "    </tr>\n",
       "    <tr>\n",
       "      <th>2</th>\n",
       "      <td>1059200</td>\n",
       "      <td>1664635</td>\n",
       "      <td>1</td>\n",
       "      <td>14</td>\n",
       "      <td>6</td>\n",
       "      <td>17</td>\n",
       "      <td>13</td>\n",
       "      <td>5</td>\n",
       "      <td>11</td>\n",
       "      <td>11.424889</td>\n",
       "      <td>1</td>\n",
       "      <td>1</td>\n",
       "      <td>2</td>\n",
       "      <td>0.377964</td>\n",
       "      <td>0.235702</td>\n",
       "      <td>0.613667</td>\n",
       "      <td>0.089087</td>\n",
       "      <td>0.991631</td>\n",
       "      <td>0.849369</td>\n",
       "      <td>0.000001</td>\n",
       "      <td>3.825109e-07</td>\n",
       "      <td>0.000785</td>\n",
       "      <td>0.000754</td>\n",
       "      <td>1.791779e-17</td>\n",
       "      <td>1.799380e-17</td>\n",
       "      <td>1.414347e-17</td>\n",
       "      <td>5.376350e-19</td>\n",
       "      <td>84</td>\n",
       "    </tr>\n",
       "    <tr>\n",
       "      <th>3</th>\n",
       "      <td>1363018</td>\n",
       "      <td>752401</td>\n",
       "      <td>1</td>\n",
       "      <td>61</td>\n",
       "      <td>47</td>\n",
       "      <td>70</td>\n",
       "      <td>9</td>\n",
       "      <td>0</td>\n",
       "      <td>0</td>\n",
       "      <td>0.000000</td>\n",
       "      <td>0</td>\n",
       "      <td>1</td>\n",
       "      <td>3</td>\n",
       "      <td>0.144338</td>\n",
       "      <td>0.118678</td>\n",
       "      <td>0.263016</td>\n",
       "      <td>0.017130</td>\n",
       "      <td>0.407353</td>\n",
       "      <td>0.381694</td>\n",
       "      <td>0.000003</td>\n",
       "      <td>2.661763e-06</td>\n",
       "      <td>0.000997</td>\n",
       "      <td>0.000927</td>\n",
       "      <td>2.214160e-13</td>\n",
       "      <td>9.683343e-14</td>\n",
       "      <td>1.643200e-13</td>\n",
       "      <td>6.327230e-14</td>\n",
       "      <td>2867</td>\n",
       "    </tr>\n",
       "    <tr>\n",
       "      <th>4</th>\n",
       "      <td>602034</td>\n",
       "      <td>1200986</td>\n",
       "      <td>1</td>\n",
       "      <td>11</td>\n",
       "      <td>4</td>\n",
       "      <td>13</td>\n",
       "      <td>5</td>\n",
       "      <td>0</td>\n",
       "      <td>0</td>\n",
       "      <td>0.000000</td>\n",
       "      <td>1</td>\n",
       "      <td>1</td>\n",
       "      <td>4</td>\n",
       "      <td>0.447214</td>\n",
       "      <td>0.267261</td>\n",
       "      <td>0.714475</td>\n",
       "      <td>0.119523</td>\n",
       "      <td>1.161688</td>\n",
       "      <td>0.981736</td>\n",
       "      <td>0.000001</td>\n",
       "      <td>7.796304e-07</td>\n",
       "      <td>0.000773</td>\n",
       "      <td>0.000746</td>\n",
       "      <td>1.915209e-13</td>\n",
       "      <td>3.479478e-18</td>\n",
       "      <td>1.029497e-17</td>\n",
       "      <td>1.439926e-15</td>\n",
       "      <td>44</td>\n",
       "    </tr>\n",
       "  </tbody>\n",
       "</table>\n",
       "</div>"
      ],
      "text/plain": [
       "   source_node  destination_node  ...  authorities_d  prefer_Attach_followers\n",
       "0       273084           1505602  ...   2.231877e-15                       66\n",
       "1      1219779            706355  ...   4.859173e-09                     2684\n",
       "2      1059200           1664635  ...   5.376350e-19                       84\n",
       "3      1363018            752401  ...   6.327230e-14                     2867\n",
       "4       602034           1200986  ...   1.439926e-15                       44\n",
       "\n",
       "[5 rows x 28 columns]"
      ]
     },
     "execution_count": 70,
     "metadata": {
      "tags": []
     },
     "output_type": "execute_result"
    }
   ],
   "source": [
    "#for train dataset\n",
    "nfs=np.array(df_final_train['num_followers_s'])\n",
    "nfd=np.array(df_final_train['num_followers_d'])\n",
    "preferential_followers=[]\n",
    "for i in range(len(nfs)):\n",
    "    preferential_followers.append(nfd[i]*nfs[i])\n",
    "df_final_train['prefer_Attach_followers']= preferential_followers\n",
    "df_final_train.head()"
   ]
  },
  {
   "cell_type": "code",
   "execution_count": 71,
   "metadata": {
    "colab": {
     "base_uri": "https://localhost:8080/",
     "height": 312
    },
    "executionInfo": {
     "elapsed": 8,
     "status": "ok",
     "timestamp": 1629297337456,
     "user": {
      "displayName": "Sagar Saha",
      "photoUrl": "https://lh3.googleusercontent.com/a-/AOh14GicLETJuVBRiET1eCxKwWcSMrdeomVWv6nl6pk9JQ=s64",
      "userId": "04756931713955304096"
     },
     "user_tz": -360
    },
    "id": "9LATrYQFAIxX",
    "outputId": "2b4f154d-20cb-43da-cdbc-b0149d287ddc"
   },
   "outputs": [
    {
     "data": {
      "text/html": [
       "<div>\n",
       "<style scoped>\n",
       "    .dataframe tbody tr th:only-of-type {\n",
       "        vertical-align: middle;\n",
       "    }\n",
       "\n",
       "    .dataframe tbody tr th {\n",
       "        vertical-align: top;\n",
       "    }\n",
       "\n",
       "    .dataframe thead th {\n",
       "        text-align: right;\n",
       "    }\n",
       "</style>\n",
       "<table border=\"1\" class=\"dataframe\">\n",
       "  <thead>\n",
       "    <tr style=\"text-align: right;\">\n",
       "      <th></th>\n",
       "      <th>source_node</th>\n",
       "      <th>destination_node</th>\n",
       "      <th>indicator_link</th>\n",
       "      <th>num_followers_s</th>\n",
       "      <th>num_followers_d</th>\n",
       "      <th>num_followees_s</th>\n",
       "      <th>num_followees_d</th>\n",
       "      <th>inter_followers</th>\n",
       "      <th>inter_followees</th>\n",
       "      <th>adar_index</th>\n",
       "      <th>follows_back</th>\n",
       "      <th>same_comp</th>\n",
       "      <th>shortest_path</th>\n",
       "      <th>weight_in</th>\n",
       "      <th>weight_out</th>\n",
       "      <th>weight_f1</th>\n",
       "      <th>weight_f2</th>\n",
       "      <th>weight_f3</th>\n",
       "      <th>weight_f4</th>\n",
       "      <th>page_rank_s</th>\n",
       "      <th>page_rank_d</th>\n",
       "      <th>katz_s</th>\n",
       "      <th>katz_d</th>\n",
       "      <th>hubs_s</th>\n",
       "      <th>hubs_d</th>\n",
       "      <th>authorities_s</th>\n",
       "      <th>authorities_d</th>\n",
       "      <th>prefer_Attach_followers</th>\n",
       "    </tr>\n",
       "  </thead>\n",
       "  <tbody>\n",
       "    <tr>\n",
       "      <th>0</th>\n",
       "      <td>848424</td>\n",
       "      <td>784690</td>\n",
       "      <td>1</td>\n",
       "      <td>6</td>\n",
       "      <td>14</td>\n",
       "      <td>6</td>\n",
       "      <td>9</td>\n",
       "      <td>1</td>\n",
       "      <td>0</td>\n",
       "      <td>0.000000</td>\n",
       "      <td>1</td>\n",
       "      <td>1</td>\n",
       "      <td>2</td>\n",
       "      <td>0.258199</td>\n",
       "      <td>0.377964</td>\n",
       "      <td>0.636163</td>\n",
       "      <td>0.097590</td>\n",
       "      <td>0.894362</td>\n",
       "      <td>1.014128</td>\n",
       "      <td>6.557971e-07</td>\n",
       "      <td>1.559547e-06</td>\n",
       "      <td>0.000754</td>\n",
       "      <td>0.000786</td>\n",
       "      <td>3.243237e-16</td>\n",
       "      <td>1.745627e-16</td>\n",
       "      <td>2.969838e-15</td>\n",
       "      <td>9.269213e-14</td>\n",
       "      <td>84</td>\n",
       "    </tr>\n",
       "    <tr>\n",
       "      <th>1</th>\n",
       "      <td>109806</td>\n",
       "      <td>1262519</td>\n",
       "      <td>1</td>\n",
       "      <td>9</td>\n",
       "      <td>7</td>\n",
       "      <td>14</td>\n",
       "      <td>11</td>\n",
       "      <td>1</td>\n",
       "      <td>3</td>\n",
       "      <td>2.300828</td>\n",
       "      <td>1</td>\n",
       "      <td>1</td>\n",
       "      <td>2</td>\n",
       "      <td>0.353553</td>\n",
       "      <td>0.258199</td>\n",
       "      <td>0.611752</td>\n",
       "      <td>0.091287</td>\n",
       "      <td>0.965306</td>\n",
       "      <td>0.869951</td>\n",
       "      <td>1.049434e-06</td>\n",
       "      <td>7.586222e-07</td>\n",
       "      <td>0.000767</td>\n",
       "      <td>0.000759</td>\n",
       "      <td>1.940810e-13</td>\n",
       "      <td>2.211657e-13</td>\n",
       "      <td>7.520879e-14</td>\n",
       "      <td>1.035651e-12</td>\n",
       "      <td>63</td>\n",
       "    </tr>\n",
       "    <tr>\n",
       "      <th>2</th>\n",
       "      <td>1483149</td>\n",
       "      <td>229748</td>\n",
       "      <td>1</td>\n",
       "      <td>30</td>\n",
       "      <td>24</td>\n",
       "      <td>29</td>\n",
       "      <td>23</td>\n",
       "      <td>4</td>\n",
       "      <td>3</td>\n",
       "      <td>2.836971</td>\n",
       "      <td>1</td>\n",
       "      <td>1</td>\n",
       "      <td>2</td>\n",
       "      <td>0.200000</td>\n",
       "      <td>0.182574</td>\n",
       "      <td>0.382574</td>\n",
       "      <td>0.036515</td>\n",
       "      <td>0.582574</td>\n",
       "      <td>0.565148</td>\n",
       "      <td>1.394055e-06</td>\n",
       "      <td>1.479356e-06</td>\n",
       "      <td>0.000855</td>\n",
       "      <td>0.000829</td>\n",
       "      <td>4.104526e-15</td>\n",
       "      <td>1.669083e-15</td>\n",
       "      <td>1.251348e-14</td>\n",
       "      <td>6.199806e-15</td>\n",
       "      <td>720</td>\n",
       "    </tr>\n",
       "    <tr>\n",
       "      <th>3</th>\n",
       "      <td>1179293</td>\n",
       "      <td>1844907</td>\n",
       "      <td>1</td>\n",
       "      <td>1</td>\n",
       "      <td>2</td>\n",
       "      <td>0</td>\n",
       "      <td>1</td>\n",
       "      <td>0</td>\n",
       "      <td>0</td>\n",
       "      <td>0.000000</td>\n",
       "      <td>0</td>\n",
       "      <td>1</td>\n",
       "      <td>-1</td>\n",
       "      <td>0.577350</td>\n",
       "      <td>1.000000</td>\n",
       "      <td>1.577350</td>\n",
       "      <td>0.577350</td>\n",
       "      <td>2.154701</td>\n",
       "      <td>2.577350</td>\n",
       "      <td>1.894317e-07</td>\n",
       "      <td>1.120234e-06</td>\n",
       "      <td>0.000735</td>\n",
       "      <td>0.000739</td>\n",
       "      <td>0.000000e+00</td>\n",
       "      <td>0.000000e+00</td>\n",
       "      <td>4.594952e-12</td>\n",
       "      <td>0.000000e+00</td>\n",
       "      <td>2</td>\n",
       "    </tr>\n",
       "    <tr>\n",
       "      <th>4</th>\n",
       "      <td>51951</td>\n",
       "      <td>1448637</td>\n",
       "      <td>1</td>\n",
       "      <td>19</td>\n",
       "      <td>8</td>\n",
       "      <td>36</td>\n",
       "      <td>0</td>\n",
       "      <td>0</td>\n",
       "      <td>0</td>\n",
       "      <td>0.000000</td>\n",
       "      <td>0</td>\n",
       "      <td>1</td>\n",
       "      <td>3</td>\n",
       "      <td>0.333333</td>\n",
       "      <td>0.164399</td>\n",
       "      <td>0.497732</td>\n",
       "      <td>0.054800</td>\n",
       "      <td>0.831066</td>\n",
       "      <td>0.662131</td>\n",
       "      <td>6.238487e-07</td>\n",
       "      <td>4.203941e-07</td>\n",
       "      <td>0.000812</td>\n",
       "      <td>0.000765</td>\n",
       "      <td>4.043075e-11</td>\n",
       "      <td>0.000000e+00</td>\n",
       "      <td>1.597464e-12</td>\n",
       "      <td>1.964513e-13</td>\n",
       "      <td>152</td>\n",
       "    </tr>\n",
       "  </tbody>\n",
       "</table>\n",
       "</div>"
      ],
      "text/plain": [
       "   source_node  destination_node  ...  authorities_d  prefer_Attach_followers\n",
       "0       848424            784690  ...   9.269213e-14                       84\n",
       "1       109806           1262519  ...   1.035651e-12                       63\n",
       "2      1483149            229748  ...   6.199806e-15                      720\n",
       "3      1179293           1844907  ...   0.000000e+00                        2\n",
       "4        51951           1448637  ...   1.964513e-13                      152\n",
       "\n",
       "[5 rows x 28 columns]"
      ]
     },
     "execution_count": 71,
     "metadata": {
      "tags": []
     },
     "output_type": "execute_result"
    }
   ],
   "source": [
    "#for test dataset\n",
    "nfs=np.array(df_final_test['num_followers_s'])\n",
    "nfd=np.array(df_final_test['num_followers_d'])\n",
    "preferential_followers=[]\n",
    "for i in range(len(nfs)):\n",
    "    preferential_followers.append(nfd[i]*nfs[i])\n",
    "df_final_test['prefer_Attach_followers']= preferential_followers\n",
    "df_final_test.head()"
   ]
  },
  {
   "cell_type": "markdown",
   "metadata": {
    "id": "Do63he8hAIxX"
   },
   "source": [
    "### Preferential Attachement for followees (ASSIGNMENT)"
   ]
  },
  {
   "cell_type": "code",
   "execution_count": 72,
   "metadata": {
    "colab": {
     "base_uri": "https://localhost:8080/",
     "height": 312
    },
    "executionInfo": {
     "elapsed": 8,
     "status": "ok",
     "timestamp": 1629297337456,
     "user": {
      "displayName": "Sagar Saha",
      "photoUrl": "https://lh3.googleusercontent.com/a-/AOh14GicLETJuVBRiET1eCxKwWcSMrdeomVWv6nl6pk9JQ=s64",
      "userId": "04756931713955304096"
     },
     "user_tz": -360
    },
    "id": "QdJhCY3XAIxX",
    "outputId": "6c966593-a200-48b6-d30f-7c07de16da98"
   },
   "outputs": [
    {
     "data": {
      "text/html": [
       "<div>\n",
       "<style scoped>\n",
       "    .dataframe tbody tr th:only-of-type {\n",
       "        vertical-align: middle;\n",
       "    }\n",
       "\n",
       "    .dataframe tbody tr th {\n",
       "        vertical-align: top;\n",
       "    }\n",
       "\n",
       "    .dataframe thead th {\n",
       "        text-align: right;\n",
       "    }\n",
       "</style>\n",
       "<table border=\"1\" class=\"dataframe\">\n",
       "  <thead>\n",
       "    <tr style=\"text-align: right;\">\n",
       "      <th></th>\n",
       "      <th>source_node</th>\n",
       "      <th>destination_node</th>\n",
       "      <th>indicator_link</th>\n",
       "      <th>num_followers_s</th>\n",
       "      <th>num_followers_d</th>\n",
       "      <th>num_followees_s</th>\n",
       "      <th>num_followees_d</th>\n",
       "      <th>inter_followers</th>\n",
       "      <th>inter_followees</th>\n",
       "      <th>adar_index</th>\n",
       "      <th>follows_back</th>\n",
       "      <th>same_comp</th>\n",
       "      <th>shortest_path</th>\n",
       "      <th>weight_in</th>\n",
       "      <th>weight_out</th>\n",
       "      <th>weight_f1</th>\n",
       "      <th>weight_f2</th>\n",
       "      <th>weight_f3</th>\n",
       "      <th>weight_f4</th>\n",
       "      <th>page_rank_s</th>\n",
       "      <th>page_rank_d</th>\n",
       "      <th>katz_s</th>\n",
       "      <th>katz_d</th>\n",
       "      <th>hubs_s</th>\n",
       "      <th>hubs_d</th>\n",
       "      <th>authorities_s</th>\n",
       "      <th>authorities_d</th>\n",
       "      <th>prefer_Attach_followers</th>\n",
       "      <th>prefer_Attach_followees</th>\n",
       "    </tr>\n",
       "  </thead>\n",
       "  <tbody>\n",
       "    <tr>\n",
       "      <th>0</th>\n",
       "      <td>273084</td>\n",
       "      <td>1505602</td>\n",
       "      <td>1</td>\n",
       "      <td>11</td>\n",
       "      <td>6</td>\n",
       "      <td>15</td>\n",
       "      <td>8</td>\n",
       "      <td>0</td>\n",
       "      <td>0</td>\n",
       "      <td>0.000000</td>\n",
       "      <td>0</td>\n",
       "      <td>1</td>\n",
       "      <td>4</td>\n",
       "      <td>0.377964</td>\n",
       "      <td>0.250000</td>\n",
       "      <td>0.627964</td>\n",
       "      <td>0.094491</td>\n",
       "      <td>1.005929</td>\n",
       "      <td>0.877964</td>\n",
       "      <td>0.000002</td>\n",
       "      <td>3.459963e-07</td>\n",
       "      <td>0.000773</td>\n",
       "      <td>0.000756</td>\n",
       "      <td>1.943132e-13</td>\n",
       "      <td>1.941103e-13</td>\n",
       "      <td>9.226339e-16</td>\n",
       "      <td>2.231877e-15</td>\n",
       "      <td>66</td>\n",
       "      <td>120</td>\n",
       "    </tr>\n",
       "    <tr>\n",
       "      <th>1</th>\n",
       "      <td>1219779</td>\n",
       "      <td>706355</td>\n",
       "      <td>1</td>\n",
       "      <td>44</td>\n",
       "      <td>61</td>\n",
       "      <td>20</td>\n",
       "      <td>0</td>\n",
       "      <td>26</td>\n",
       "      <td>0</td>\n",
       "      <td>0.000000</td>\n",
       "      <td>0</td>\n",
       "      <td>1</td>\n",
       "      <td>2</td>\n",
       "      <td>0.127000</td>\n",
       "      <td>0.218218</td>\n",
       "      <td>0.345218</td>\n",
       "      <td>0.027714</td>\n",
       "      <td>0.472218</td>\n",
       "      <td>0.563436</td>\n",
       "      <td>0.000001</td>\n",
       "      <td>1.244706e-06</td>\n",
       "      <td>0.000915</td>\n",
       "      <td>0.001013</td>\n",
       "      <td>5.999138e-11</td>\n",
       "      <td>0.000000e+00</td>\n",
       "      <td>2.734890e-09</td>\n",
       "      <td>4.859173e-09</td>\n",
       "      <td>2684</td>\n",
       "      <td>0</td>\n",
       "    </tr>\n",
       "    <tr>\n",
       "      <th>2</th>\n",
       "      <td>1059200</td>\n",
       "      <td>1664635</td>\n",
       "      <td>1</td>\n",
       "      <td>14</td>\n",
       "      <td>6</td>\n",
       "      <td>17</td>\n",
       "      <td>13</td>\n",
       "      <td>5</td>\n",
       "      <td>11</td>\n",
       "      <td>11.424889</td>\n",
       "      <td>1</td>\n",
       "      <td>1</td>\n",
       "      <td>2</td>\n",
       "      <td>0.377964</td>\n",
       "      <td>0.235702</td>\n",
       "      <td>0.613667</td>\n",
       "      <td>0.089087</td>\n",
       "      <td>0.991631</td>\n",
       "      <td>0.849369</td>\n",
       "      <td>0.000001</td>\n",
       "      <td>3.825109e-07</td>\n",
       "      <td>0.000785</td>\n",
       "      <td>0.000754</td>\n",
       "      <td>1.791779e-17</td>\n",
       "      <td>1.799380e-17</td>\n",
       "      <td>1.414347e-17</td>\n",
       "      <td>5.376350e-19</td>\n",
       "      <td>84</td>\n",
       "      <td>221</td>\n",
       "    </tr>\n",
       "    <tr>\n",
       "      <th>3</th>\n",
       "      <td>1363018</td>\n",
       "      <td>752401</td>\n",
       "      <td>1</td>\n",
       "      <td>61</td>\n",
       "      <td>47</td>\n",
       "      <td>70</td>\n",
       "      <td>9</td>\n",
       "      <td>0</td>\n",
       "      <td>0</td>\n",
       "      <td>0.000000</td>\n",
       "      <td>0</td>\n",
       "      <td>1</td>\n",
       "      <td>3</td>\n",
       "      <td>0.144338</td>\n",
       "      <td>0.118678</td>\n",
       "      <td>0.263016</td>\n",
       "      <td>0.017130</td>\n",
       "      <td>0.407353</td>\n",
       "      <td>0.381694</td>\n",
       "      <td>0.000003</td>\n",
       "      <td>2.661763e-06</td>\n",
       "      <td>0.000997</td>\n",
       "      <td>0.000927</td>\n",
       "      <td>2.214160e-13</td>\n",
       "      <td>9.683343e-14</td>\n",
       "      <td>1.643200e-13</td>\n",
       "      <td>6.327230e-14</td>\n",
       "      <td>2867</td>\n",
       "      <td>630</td>\n",
       "    </tr>\n",
       "    <tr>\n",
       "      <th>4</th>\n",
       "      <td>602034</td>\n",
       "      <td>1200986</td>\n",
       "      <td>1</td>\n",
       "      <td>11</td>\n",
       "      <td>4</td>\n",
       "      <td>13</td>\n",
       "      <td>5</td>\n",
       "      <td>0</td>\n",
       "      <td>0</td>\n",
       "      <td>0.000000</td>\n",
       "      <td>1</td>\n",
       "      <td>1</td>\n",
       "      <td>4</td>\n",
       "      <td>0.447214</td>\n",
       "      <td>0.267261</td>\n",
       "      <td>0.714475</td>\n",
       "      <td>0.119523</td>\n",
       "      <td>1.161688</td>\n",
       "      <td>0.981736</td>\n",
       "      <td>0.000001</td>\n",
       "      <td>7.796304e-07</td>\n",
       "      <td>0.000773</td>\n",
       "      <td>0.000746</td>\n",
       "      <td>1.915209e-13</td>\n",
       "      <td>3.479478e-18</td>\n",
       "      <td>1.029497e-17</td>\n",
       "      <td>1.439926e-15</td>\n",
       "      <td>44</td>\n",
       "      <td>65</td>\n",
       "    </tr>\n",
       "  </tbody>\n",
       "</table>\n",
       "</div>"
      ],
      "text/plain": [
       "   source_node  ...  prefer_Attach_followees\n",
       "0       273084  ...                      120\n",
       "1      1219779  ...                        0\n",
       "2      1059200  ...                      221\n",
       "3      1363018  ...                      630\n",
       "4       602034  ...                       65\n",
       "\n",
       "[5 rows x 29 columns]"
      ]
     },
     "execution_count": 72,
     "metadata": {
      "tags": []
     },
     "output_type": "execute_result"
    }
   ],
   "source": [
    "#for train dataset\n",
    "nfs=np.array(df_final_train['num_followees_s'])\n",
    "nfd=np.array(df_final_train['num_followees_d'])\n",
    "preferential_followees=[]\n",
    "for i in range(len(nfs)):\n",
    "    preferential_followees.append(nfd[i]*nfs[i])\n",
    "df_final_train['prefer_Attach_followees']= preferential_followees\n",
    "df_final_train.head()"
   ]
  },
  {
   "cell_type": "code",
   "execution_count": 73,
   "metadata": {
    "colab": {
     "base_uri": "https://localhost:8080/",
     "height": 312
    },
    "executionInfo": {
     "elapsed": 5,
     "status": "ok",
     "timestamp": 1629297338662,
     "user": {
      "displayName": "Sagar Saha",
      "photoUrl": "https://lh3.googleusercontent.com/a-/AOh14GicLETJuVBRiET1eCxKwWcSMrdeomVWv6nl6pk9JQ=s64",
      "userId": "04756931713955304096"
     },
     "user_tz": -360
    },
    "id": "FRUbIz7qAIxX",
    "outputId": "7c9f5062-1bcb-40e7-ccc8-3394b1010873",
    "scrolled": true
   },
   "outputs": [
    {
     "data": {
      "text/html": [
       "<div>\n",
       "<style scoped>\n",
       "    .dataframe tbody tr th:only-of-type {\n",
       "        vertical-align: middle;\n",
       "    }\n",
       "\n",
       "    .dataframe tbody tr th {\n",
       "        vertical-align: top;\n",
       "    }\n",
       "\n",
       "    .dataframe thead th {\n",
       "        text-align: right;\n",
       "    }\n",
       "</style>\n",
       "<table border=\"1\" class=\"dataframe\">\n",
       "  <thead>\n",
       "    <tr style=\"text-align: right;\">\n",
       "      <th></th>\n",
       "      <th>source_node</th>\n",
       "      <th>destination_node</th>\n",
       "      <th>indicator_link</th>\n",
       "      <th>num_followers_s</th>\n",
       "      <th>num_followers_d</th>\n",
       "      <th>num_followees_s</th>\n",
       "      <th>num_followees_d</th>\n",
       "      <th>inter_followers</th>\n",
       "      <th>inter_followees</th>\n",
       "      <th>adar_index</th>\n",
       "      <th>follows_back</th>\n",
       "      <th>same_comp</th>\n",
       "      <th>shortest_path</th>\n",
       "      <th>weight_in</th>\n",
       "      <th>weight_out</th>\n",
       "      <th>weight_f1</th>\n",
       "      <th>weight_f2</th>\n",
       "      <th>weight_f3</th>\n",
       "      <th>weight_f4</th>\n",
       "      <th>page_rank_s</th>\n",
       "      <th>page_rank_d</th>\n",
       "      <th>katz_s</th>\n",
       "      <th>katz_d</th>\n",
       "      <th>hubs_s</th>\n",
       "      <th>hubs_d</th>\n",
       "      <th>authorities_s</th>\n",
       "      <th>authorities_d</th>\n",
       "      <th>prefer_Attach_followers</th>\n",
       "      <th>prefer_Attach_followees</th>\n",
       "    </tr>\n",
       "  </thead>\n",
       "  <tbody>\n",
       "    <tr>\n",
       "      <th>0</th>\n",
       "      <td>848424</td>\n",
       "      <td>784690</td>\n",
       "      <td>1</td>\n",
       "      <td>6</td>\n",
       "      <td>14</td>\n",
       "      <td>6</td>\n",
       "      <td>9</td>\n",
       "      <td>1</td>\n",
       "      <td>0</td>\n",
       "      <td>0.000000</td>\n",
       "      <td>1</td>\n",
       "      <td>1</td>\n",
       "      <td>2</td>\n",
       "      <td>0.258199</td>\n",
       "      <td>0.377964</td>\n",
       "      <td>0.636163</td>\n",
       "      <td>0.097590</td>\n",
       "      <td>0.894362</td>\n",
       "      <td>1.014128</td>\n",
       "      <td>6.557971e-07</td>\n",
       "      <td>1.559547e-06</td>\n",
       "      <td>0.000754</td>\n",
       "      <td>0.000786</td>\n",
       "      <td>3.243237e-16</td>\n",
       "      <td>1.745627e-16</td>\n",
       "      <td>2.969838e-15</td>\n",
       "      <td>9.269213e-14</td>\n",
       "      <td>84</td>\n",
       "      <td>54</td>\n",
       "    </tr>\n",
       "    <tr>\n",
       "      <th>1</th>\n",
       "      <td>109806</td>\n",
       "      <td>1262519</td>\n",
       "      <td>1</td>\n",
       "      <td>9</td>\n",
       "      <td>7</td>\n",
       "      <td>14</td>\n",
       "      <td>11</td>\n",
       "      <td>1</td>\n",
       "      <td>3</td>\n",
       "      <td>2.300828</td>\n",
       "      <td>1</td>\n",
       "      <td>1</td>\n",
       "      <td>2</td>\n",
       "      <td>0.353553</td>\n",
       "      <td>0.258199</td>\n",
       "      <td>0.611752</td>\n",
       "      <td>0.091287</td>\n",
       "      <td>0.965306</td>\n",
       "      <td>0.869951</td>\n",
       "      <td>1.049434e-06</td>\n",
       "      <td>7.586222e-07</td>\n",
       "      <td>0.000767</td>\n",
       "      <td>0.000759</td>\n",
       "      <td>1.940810e-13</td>\n",
       "      <td>2.211657e-13</td>\n",
       "      <td>7.520879e-14</td>\n",
       "      <td>1.035651e-12</td>\n",
       "      <td>63</td>\n",
       "      <td>154</td>\n",
       "    </tr>\n",
       "    <tr>\n",
       "      <th>2</th>\n",
       "      <td>1483149</td>\n",
       "      <td>229748</td>\n",
       "      <td>1</td>\n",
       "      <td>30</td>\n",
       "      <td>24</td>\n",
       "      <td>29</td>\n",
       "      <td>23</td>\n",
       "      <td>4</td>\n",
       "      <td>3</td>\n",
       "      <td>2.836971</td>\n",
       "      <td>1</td>\n",
       "      <td>1</td>\n",
       "      <td>2</td>\n",
       "      <td>0.200000</td>\n",
       "      <td>0.182574</td>\n",
       "      <td>0.382574</td>\n",
       "      <td>0.036515</td>\n",
       "      <td>0.582574</td>\n",
       "      <td>0.565148</td>\n",
       "      <td>1.394055e-06</td>\n",
       "      <td>1.479356e-06</td>\n",
       "      <td>0.000855</td>\n",
       "      <td>0.000829</td>\n",
       "      <td>4.104526e-15</td>\n",
       "      <td>1.669083e-15</td>\n",
       "      <td>1.251348e-14</td>\n",
       "      <td>6.199806e-15</td>\n",
       "      <td>720</td>\n",
       "      <td>667</td>\n",
       "    </tr>\n",
       "    <tr>\n",
       "      <th>3</th>\n",
       "      <td>1179293</td>\n",
       "      <td>1844907</td>\n",
       "      <td>1</td>\n",
       "      <td>1</td>\n",
       "      <td>2</td>\n",
       "      <td>0</td>\n",
       "      <td>1</td>\n",
       "      <td>0</td>\n",
       "      <td>0</td>\n",
       "      <td>0.000000</td>\n",
       "      <td>0</td>\n",
       "      <td>1</td>\n",
       "      <td>-1</td>\n",
       "      <td>0.577350</td>\n",
       "      <td>1.000000</td>\n",
       "      <td>1.577350</td>\n",
       "      <td>0.577350</td>\n",
       "      <td>2.154701</td>\n",
       "      <td>2.577350</td>\n",
       "      <td>1.894317e-07</td>\n",
       "      <td>1.120234e-06</td>\n",
       "      <td>0.000735</td>\n",
       "      <td>0.000739</td>\n",
       "      <td>0.000000e+00</td>\n",
       "      <td>0.000000e+00</td>\n",
       "      <td>4.594952e-12</td>\n",
       "      <td>0.000000e+00</td>\n",
       "      <td>2</td>\n",
       "      <td>0</td>\n",
       "    </tr>\n",
       "    <tr>\n",
       "      <th>4</th>\n",
       "      <td>51951</td>\n",
       "      <td>1448637</td>\n",
       "      <td>1</td>\n",
       "      <td>19</td>\n",
       "      <td>8</td>\n",
       "      <td>36</td>\n",
       "      <td>0</td>\n",
       "      <td>0</td>\n",
       "      <td>0</td>\n",
       "      <td>0.000000</td>\n",
       "      <td>0</td>\n",
       "      <td>1</td>\n",
       "      <td>3</td>\n",
       "      <td>0.333333</td>\n",
       "      <td>0.164399</td>\n",
       "      <td>0.497732</td>\n",
       "      <td>0.054800</td>\n",
       "      <td>0.831066</td>\n",
       "      <td>0.662131</td>\n",
       "      <td>6.238487e-07</td>\n",
       "      <td>4.203941e-07</td>\n",
       "      <td>0.000812</td>\n",
       "      <td>0.000765</td>\n",
       "      <td>4.043075e-11</td>\n",
       "      <td>0.000000e+00</td>\n",
       "      <td>1.597464e-12</td>\n",
       "      <td>1.964513e-13</td>\n",
       "      <td>152</td>\n",
       "      <td>0</td>\n",
       "    </tr>\n",
       "  </tbody>\n",
       "</table>\n",
       "</div>"
      ],
      "text/plain": [
       "   source_node  ...  prefer_Attach_followees\n",
       "0       848424  ...                       54\n",
       "1       109806  ...                      154\n",
       "2      1483149  ...                      667\n",
       "3      1179293  ...                        0\n",
       "4        51951  ...                        0\n",
       "\n",
       "[5 rows x 29 columns]"
      ]
     },
     "execution_count": 73,
     "metadata": {
      "tags": []
     },
     "output_type": "execute_result"
    }
   ],
   "source": [
    "#for test dataset\n",
    "nfs=np.array(df_final_test['num_followees_s'])\n",
    "nfd=np.array(df_final_test['num_followees_d'])\n",
    "preferential_followees=[]\n",
    "for i in range(len(nfs)):\n",
    "    preferential_followees.append(nfd[i]*nfs[i])\n",
    "df_final_test['prefer_Attach_followees']= preferential_followees\n",
    "df_final_test.head()"
   ]
  },
  {
   "cell_type": "markdown",
   "metadata": {
    "id": "N6DbjVoIAIxX"
   },
   "source": [
    "## 5.5 Adding new set of features \n",
    "\n",
    "__we will create these each of these features for both train and test data points__\n",
    "<ol>\n",
    "<li>SVD features for both source and destination</li>\n",
    "</ol>"
   ]
  },
  {
   "cell_type": "code",
   "execution_count": 87,
   "metadata": {
    "executionInfo": {
     "elapsed": 393,
     "status": "ok",
     "timestamp": 1629297765497,
     "user": {
      "displayName": "Sagar Saha",
      "photoUrl": "https://lh3.googleusercontent.com/a-/AOh14GicLETJuVBRiET1eCxKwWcSMrdeomVWv6nl6pk9JQ=s64",
      "userId": "04756931713955304096"
     },
     "user_tz": -360
    },
    "id": "mOCGDtJLAIxX"
   },
   "outputs": [],
   "source": [
    "def svd(x, S):\n",
    "    try:\n",
    "        z = sadj_dict[x]\n",
    "        return S[z]\n",
    "    except:\n",
    "        return [0,0,0,0,0,0]"
   ]
  },
  {
   "cell_type": "code",
   "execution_count": 88,
   "metadata": {
    "executionInfo": {
     "elapsed": 1649,
     "status": "ok",
     "timestamp": 1629297776652,
     "user": {
      "displayName": "Sagar Saha",
      "photoUrl": "https://lh3.googleusercontent.com/a-/AOh14GicLETJuVBRiET1eCxKwWcSMrdeomVWv6nl6pk9JQ=s64",
      "userId": "04756931713955304096"
     },
     "user_tz": -360
    },
    "id": "d8UPoK8NAIxX"
   },
   "outputs": [],
   "source": [
    "#for svd features to get feature vector creating a dict node val and inedx in svd vector\n",
    "sadj_col = sorted(train_graph.nodes())\n",
    "sadj_dict = { val:idx for idx,val in enumerate(sadj_col)}"
   ]
  },
  {
   "cell_type": "code",
   "execution_count": 89,
   "metadata": {
    "executionInfo": {
     "elapsed": 78566,
     "status": "ok",
     "timestamp": 1629297857848,
     "user": {
      "displayName": "Sagar Saha",
      "photoUrl": "https://lh3.googleusercontent.com/a-/AOh14GicLETJuVBRiET1eCxKwWcSMrdeomVWv6nl6pk9JQ=s64",
      "userId": "04756931713955304096"
     },
     "user_tz": -360
    },
    "id": "64dk1pzhAIxY"
   },
   "outputs": [],
   "source": [
    "Adj = nx.adjacency_matrix(train_graph,nodelist=sorted(train_graph.nodes())).asfptype()"
   ]
  },
  {
   "cell_type": "code",
   "execution_count": 90,
   "metadata": {
    "colab": {
     "base_uri": "https://localhost:8080/"
    },
    "executionInfo": {
     "elapsed": 26594,
     "status": "ok",
     "timestamp": 1629297935031,
     "user": {
      "displayName": "Sagar Saha",
      "photoUrl": "https://lh3.googleusercontent.com/a-/AOh14GicLETJuVBRiET1eCxKwWcSMrdeomVWv6nl6pk9JQ=s64",
      "userId": "04756931713955304096"
     },
     "user_tz": -360
    },
    "id": "XquIm12pAIxY",
    "outputId": "dac6d259-604f-4b8d-936e-6818b59e8802"
   },
   "outputs": [
    {
     "name": "stdout",
     "output_type": "stream",
     "text": [
      "Adjacency matrix Shape (1780722, 1780722)\n",
      "U Shape (1780722, 6)\n",
      "V Shape (6, 1780722)\n",
      "s Shape (6,)\n"
     ]
    }
   ],
   "source": [
    "U, s, V = svds(Adj, k = 6)\n",
    "print('Adjacency matrix Shape',Adj.shape)\n",
    "print('U Shape',U.shape)\n",
    "print('V Shape',V.shape)\n",
    "print('s Shape',s.shape)"
   ]
  },
  {
   "cell_type": "code",
   "execution_count": 94,
   "metadata": {
    "executionInfo": {
     "elapsed": 174094,
     "status": "ok",
     "timestamp": 1629298224855,
     "user": {
      "displayName": "Sagar Saha",
      "photoUrl": "https://lh3.googleusercontent.com/a-/AOh14GicLETJuVBRiET1eCxKwWcSMrdeomVWv6nl6pk9JQ=s64",
      "userId": "04756931713955304096"
     },
     "user_tz": -360
    },
    "id": "I3cD1-26AIxY"
   },
   "outputs": [],
   "source": [
    "if not os.path.isfile('data/fea_sample/storage_sample_stage4.h5'):\n",
    "    #===================================================================================================\n",
    "    \n",
    "    df_final_train[['svd_u_s_1', 'svd_u_s_2','svd_u_s_3', 'svd_u_s_4', 'svd_u_s_5', 'svd_u_s_6']] = \\\n",
    "    df_final_train.source_node.apply(lambda x: svd(x, U)).apply(pd.Series)\n",
    "    \n",
    "    df_final_train[['svd_u_d_1', 'svd_u_d_2', 'svd_u_d_3', 'svd_u_d_4', 'svd_u_d_5','svd_u_d_6']] = \\\n",
    "    df_final_train.destination_node.apply(lambda x: svd(x, U)).apply(pd.Series)\n",
    "    #===================================================================================================\n",
    "    \n",
    "    df_final_train[['svd_v_s_1','svd_v_s_2', 'svd_v_s_3', 'svd_v_s_4', 'svd_v_s_5', 'svd_v_s_6',]] = \\\n",
    "    df_final_train.source_node.apply(lambda x: svd(x, V.T)).apply(pd.Series)\n",
    "\n",
    "    df_final_train[['svd_v_d_1', 'svd_v_d_2', 'svd_v_d_3', 'svd_v_d_4', 'svd_v_d_5','svd_v_d_6']] = \\\n",
    "    df_final_train.destination_node.apply(lambda x: svd(x, V.T)).apply(pd.Series)\n",
    "    #===================================================================================================\n",
    "    \n",
    "    df_final_test[['svd_u_s_1', 'svd_u_s_2','svd_u_s_3', 'svd_u_s_4', 'svd_u_s_5', 'svd_u_s_6']] = \\\n",
    "    df_final_test.source_node.apply(lambda x: svd(x, U)).apply(pd.Series)\n",
    "    \n",
    "    df_final_test[['svd_u_d_1', 'svd_u_d_2', 'svd_u_d_3', 'svd_u_d_4', 'svd_u_d_5','svd_u_d_6']] = \\\n",
    "    df_final_test.destination_node.apply(lambda x: svd(x, U)).apply(pd.Series)\n",
    "\n",
    "    #===================================================================================================\n",
    "    \n",
    "    df_final_test[['svd_v_s_1','svd_v_s_2', 'svd_v_s_3', 'svd_v_s_4', 'svd_v_s_5', 'svd_v_s_6',]] = \\\n",
    "    df_final_test.source_node.apply(lambda x: svd(x, V.T)).apply(pd.Series)\n",
    "\n",
    "    df_final_test[['svd_v_d_1', 'svd_v_d_2', 'svd_v_d_3', 'svd_v_d_4', 'svd_v_d_5','svd_v_d_6']] = \\\n",
    "    df_final_test.destination_node.apply(lambda x: svd(x, V.T)).apply(pd.Series)"
   ]
  },
  {
   "cell_type": "code",
   "execution_count": 95,
   "metadata": {
    "executionInfo": {
     "elapsed": 7599,
     "status": "ok",
     "timestamp": 1629298239261,
     "user": {
      "displayName": "Sagar Saha",
      "photoUrl": "https://lh3.googleusercontent.com/a-/AOh14GicLETJuVBRiET1eCxKwWcSMrdeomVWv6nl6pk9JQ=s64",
      "userId": "04756931713955304096"
     },
     "user_tz": -360
    },
    "id": "DqgZoQrWvUBx"
   },
   "outputs": [],
   "source": [
    "    hdf = HDFStore('data/fea_sample/storage_sample_stage4.h5')\n",
    "    hdf.put('train_df',df_final_train, format='table', data_columns=True)\n",
    "    hdf.put('test_df',df_final_test, format='table', data_columns=True)\n",
    "    hdf.close()"
   ]
  },
  {
   "cell_type": "code",
   "execution_count": 96,
   "metadata": {
    "colab": {
     "base_uri": "https://localhost:8080/",
     "height": 312
    },
    "executionInfo": {
     "elapsed": 395,
     "status": "ok",
     "timestamp": 1629298245767,
     "user": {
      "displayName": "Sagar Saha",
      "photoUrl": "https://lh3.googleusercontent.com/a-/AOh14GicLETJuVBRiET1eCxKwWcSMrdeomVWv6nl6pk9JQ=s64",
      "userId": "04756931713955304096"
     },
     "user_tz": -360
    },
    "id": "aEy1O99yAIxY",
    "outputId": "220b47e9-7750-4c78-f348-29bc2c877823"
   },
   "outputs": [
    {
     "data": {
      "text/html": [
       "<div>\n",
       "<style scoped>\n",
       "    .dataframe tbody tr th:only-of-type {\n",
       "        vertical-align: middle;\n",
       "    }\n",
       "\n",
       "    .dataframe tbody tr th {\n",
       "        vertical-align: top;\n",
       "    }\n",
       "\n",
       "    .dataframe thead th {\n",
       "        text-align: right;\n",
       "    }\n",
       "</style>\n",
       "<table border=\"1\" class=\"dataframe\">\n",
       "  <thead>\n",
       "    <tr style=\"text-align: right;\">\n",
       "      <th></th>\n",
       "      <th>source_node</th>\n",
       "      <th>destination_node</th>\n",
       "      <th>indicator_link</th>\n",
       "      <th>num_followers_s</th>\n",
       "      <th>num_followers_d</th>\n",
       "      <th>num_followees_s</th>\n",
       "      <th>num_followees_d</th>\n",
       "      <th>inter_followers</th>\n",
       "      <th>inter_followees</th>\n",
       "      <th>adar_index</th>\n",
       "      <th>follows_back</th>\n",
       "      <th>same_comp</th>\n",
       "      <th>shortest_path</th>\n",
       "      <th>weight_in</th>\n",
       "      <th>weight_out</th>\n",
       "      <th>weight_f1</th>\n",
       "      <th>weight_f2</th>\n",
       "      <th>weight_f3</th>\n",
       "      <th>weight_f4</th>\n",
       "      <th>page_rank_s</th>\n",
       "      <th>page_rank_d</th>\n",
       "      <th>katz_s</th>\n",
       "      <th>katz_d</th>\n",
       "      <th>hubs_s</th>\n",
       "      <th>hubs_d</th>\n",
       "      <th>authorities_s</th>\n",
       "      <th>authorities_d</th>\n",
       "      <th>prefer_Attach_followers</th>\n",
       "      <th>prefer_Attach_followees</th>\n",
       "      <th>svd_u_s_1</th>\n",
       "      <th>svd_u_s_2</th>\n",
       "      <th>svd_u_s_3</th>\n",
       "      <th>svd_u_s_4</th>\n",
       "      <th>svd_u_s_5</th>\n",
       "      <th>svd_u_s_6</th>\n",
       "      <th>svd_u_d_1</th>\n",
       "      <th>svd_u_d_2</th>\n",
       "      <th>svd_u_d_3</th>\n",
       "      <th>svd_u_d_4</th>\n",
       "      <th>svd_u_d_5</th>\n",
       "      <th>svd_u_d_6</th>\n",
       "      <th>svd_v_s_1</th>\n",
       "      <th>svd_v_s_2</th>\n",
       "      <th>svd_v_s_3</th>\n",
       "      <th>svd_v_s_4</th>\n",
       "      <th>svd_v_s_5</th>\n",
       "      <th>svd_v_s_6</th>\n",
       "      <th>svd_v_d_1</th>\n",
       "      <th>svd_v_d_2</th>\n",
       "      <th>svd_v_d_3</th>\n",
       "      <th>svd_v_d_4</th>\n",
       "      <th>svd_v_d_5</th>\n",
       "      <th>svd_v_d_6</th>\n",
       "    </tr>\n",
       "  </thead>\n",
       "  <tbody>\n",
       "    <tr>\n",
       "      <th>0</th>\n",
       "      <td>273084</td>\n",
       "      <td>1505602</td>\n",
       "      <td>1</td>\n",
       "      <td>11</td>\n",
       "      <td>6</td>\n",
       "      <td>15</td>\n",
       "      <td>8</td>\n",
       "      <td>0</td>\n",
       "      <td>0</td>\n",
       "      <td>0.000000</td>\n",
       "      <td>0</td>\n",
       "      <td>1</td>\n",
       "      <td>4</td>\n",
       "      <td>0.377964</td>\n",
       "      <td>0.250000</td>\n",
       "      <td>0.627964</td>\n",
       "      <td>0.094491</td>\n",
       "      <td>1.005929</td>\n",
       "      <td>0.877964</td>\n",
       "      <td>0.000002</td>\n",
       "      <td>3.459963e-07</td>\n",
       "      <td>0.000773</td>\n",
       "      <td>0.000756</td>\n",
       "      <td>1.943132e-13</td>\n",
       "      <td>1.941103e-13</td>\n",
       "      <td>9.226339e-16</td>\n",
       "      <td>2.231877e-15</td>\n",
       "      <td>66</td>\n",
       "      <td>120</td>\n",
       "      <td>1.666336e-13</td>\n",
       "      <td>4.613824e-13</td>\n",
       "      <td>1.043041e-05</td>\n",
       "      <td>6.678030e-13</td>\n",
       "      <td>-2.451105e-13</td>\n",
       "      <td>3.584945e-12</td>\n",
       "      <td>2.038018e-11</td>\n",
       "      <td>5.397914e-13</td>\n",
       "      <td>1.068943e-06</td>\n",
       "      <td>1.192462e-12</td>\n",
       "      <td>-2.279488e-12</td>\n",
       "      <td>3.581202e-12</td>\n",
       "      <td>7.216151e-13</td>\n",
       "      <td>3.926263e-13</td>\n",
       "      <td>1.983700e-06</td>\n",
       "      <td>1.545089e-13</td>\n",
       "      <td>-8.108438e-13</td>\n",
       "      <td>1.719705e-14</td>\n",
       "      <td>1.355369e-12</td>\n",
       "      <td>4.675320e-13</td>\n",
       "      <td>1.128586e-06</td>\n",
       "      <td>6.616716e-14</td>\n",
       "      <td>-9.771079e-13</td>\n",
       "      <td>4.160011e-14</td>\n",
       "    </tr>\n",
       "    <tr>\n",
       "      <th>1</th>\n",
       "      <td>1219779</td>\n",
       "      <td>706355</td>\n",
       "      <td>1</td>\n",
       "      <td>44</td>\n",
       "      <td>61</td>\n",
       "      <td>20</td>\n",
       "      <td>0</td>\n",
       "      <td>26</td>\n",
       "      <td>0</td>\n",
       "      <td>0.000000</td>\n",
       "      <td>0</td>\n",
       "      <td>1</td>\n",
       "      <td>2</td>\n",
       "      <td>0.127000</td>\n",
       "      <td>0.218218</td>\n",
       "      <td>0.345218</td>\n",
       "      <td>0.027714</td>\n",
       "      <td>0.472218</td>\n",
       "      <td>0.563436</td>\n",
       "      <td>0.000001</td>\n",
       "      <td>1.244706e-06</td>\n",
       "      <td>0.000915</td>\n",
       "      <td>0.001013</td>\n",
       "      <td>5.999138e-11</td>\n",
       "      <td>0.000000e+00</td>\n",
       "      <td>2.734890e-09</td>\n",
       "      <td>4.859173e-09</td>\n",
       "      <td>2684</td>\n",
       "      <td>0</td>\n",
       "      <td>3.984811e-12</td>\n",
       "      <td>6.359323e-11</td>\n",
       "      <td>2.842011e-11</td>\n",
       "      <td>4.777502e-09</td>\n",
       "      <td>-3.308066e-11</td>\n",
       "      <td>1.106800e-09</td>\n",
       "      <td>-1.431732e-20</td>\n",
       "      <td>-5.508103e-21</td>\n",
       "      <td>2.680095e-21</td>\n",
       "      <td>-1.037554e-20</td>\n",
       "      <td>4.645869e-21</td>\n",
       "      <td>3.944426e-20</td>\n",
       "      <td>1.466485e-10</td>\n",
       "      <td>5.807167e-10</td>\n",
       "      <td>9.888893e-10</td>\n",
       "      <td>1.965570e-07</td>\n",
       "      <td>-1.394954e-09</td>\n",
       "      <td>5.097581e-08</td>\n",
       "      <td>2.312290e-10</td>\n",
       "      <td>3.859003e-10</td>\n",
       "      <td>1.747583e-09</td>\n",
       "      <td>2.796848e-07</td>\n",
       "      <td>-2.481598e-09</td>\n",
       "      <td>9.057050e-08</td>\n",
       "    </tr>\n",
       "    <tr>\n",
       "      <th>2</th>\n",
       "      <td>1059200</td>\n",
       "      <td>1664635</td>\n",
       "      <td>1</td>\n",
       "      <td>14</td>\n",
       "      <td>6</td>\n",
       "      <td>17</td>\n",
       "      <td>13</td>\n",
       "      <td>5</td>\n",
       "      <td>11</td>\n",
       "      <td>11.424889</td>\n",
       "      <td>1</td>\n",
       "      <td>1</td>\n",
       "      <td>2</td>\n",
       "      <td>0.377964</td>\n",
       "      <td>0.235702</td>\n",
       "      <td>0.613667</td>\n",
       "      <td>0.089087</td>\n",
       "      <td>0.991631</td>\n",
       "      <td>0.849369</td>\n",
       "      <td>0.000001</td>\n",
       "      <td>3.825109e-07</td>\n",
       "      <td>0.000785</td>\n",
       "      <td>0.000754</td>\n",
       "      <td>1.791779e-17</td>\n",
       "      <td>1.799380e-17</td>\n",
       "      <td>1.414347e-17</td>\n",
       "      <td>5.376350e-19</td>\n",
       "      <td>84</td>\n",
       "      <td>221</td>\n",
       "      <td>1.970945e-17</td>\n",
       "      <td>6.715613e-16</td>\n",
       "      <td>1.051997e-15</td>\n",
       "      <td>9.945713e-13</td>\n",
       "      <td>-2.091127e-15</td>\n",
       "      <td>3.309824e-16</td>\n",
       "      <td>2.197598e-17</td>\n",
       "      <td>6.714585e-16</td>\n",
       "      <td>1.061246e-15</td>\n",
       "      <td>9.955888e-13</td>\n",
       "      <td>-2.150583e-15</td>\n",
       "      <td>3.321894e-16</td>\n",
       "      <td>2.262851e-16</td>\n",
       "      <td>1.422711e-16</td>\n",
       "      <td>1.192554e-15</td>\n",
       "      <td>3.325415e-13</td>\n",
       "      <td>-7.828690e-15</td>\n",
       "      <td>2.636271e-16</td>\n",
       "      <td>9.717381e-19</td>\n",
       "      <td>3.017330e-17</td>\n",
       "      <td>4.629517e-17</td>\n",
       "      <td>4.257589e-14</td>\n",
       "      <td>-7.679130e-17</td>\n",
       "      <td>1.002322e-17</td>\n",
       "    </tr>\n",
       "    <tr>\n",
       "      <th>3</th>\n",
       "      <td>1363018</td>\n",
       "      <td>752401</td>\n",
       "      <td>1</td>\n",
       "      <td>61</td>\n",
       "      <td>47</td>\n",
       "      <td>70</td>\n",
       "      <td>9</td>\n",
       "      <td>0</td>\n",
       "      <td>0</td>\n",
       "      <td>0.000000</td>\n",
       "      <td>0</td>\n",
       "      <td>1</td>\n",
       "      <td>3</td>\n",
       "      <td>0.144338</td>\n",
       "      <td>0.118678</td>\n",
       "      <td>0.263016</td>\n",
       "      <td>0.017130</td>\n",
       "      <td>0.407353</td>\n",
       "      <td>0.381694</td>\n",
       "      <td>0.000003</td>\n",
       "      <td>2.661763e-06</td>\n",
       "      <td>0.000997</td>\n",
       "      <td>0.000927</td>\n",
       "      <td>2.214160e-13</td>\n",
       "      <td>9.683343e-14</td>\n",
       "      <td>1.643200e-13</td>\n",
       "      <td>6.327230e-14</td>\n",
       "      <td>2867</td>\n",
       "      <td>630</td>\n",
       "      <td>2.274105e-11</td>\n",
       "      <td>5.551788e-11</td>\n",
       "      <td>2.833100e-04</td>\n",
       "      <td>1.881749e-11</td>\n",
       "      <td>-5.784690e-11</td>\n",
       "      <td>4.084971e-12</td>\n",
       "      <td>2.168132e-11</td>\n",
       "      <td>8.564171e-12</td>\n",
       "      <td>9.877531e-06</td>\n",
       "      <td>7.250426e-13</td>\n",
       "      <td>-1.665074e-12</td>\n",
       "      <td>1.786510e-12</td>\n",
       "      <td>2.171377e-11</td>\n",
       "      <td>3.027432e-11</td>\n",
       "      <td>4.624317e-04</td>\n",
       "      <td>9.462839e-12</td>\n",
       "      <td>-3.145780e-10</td>\n",
       "      <td>3.062773e-12</td>\n",
       "      <td>8.164255e-12</td>\n",
       "      <td>6.191670e-13</td>\n",
       "      <td>6.248748e-04</td>\n",
       "      <td>5.689166e-12</td>\n",
       "      <td>-1.770620e-11</td>\n",
       "      <td>1.179337e-12</td>\n",
       "    </tr>\n",
       "    <tr>\n",
       "      <th>4</th>\n",
       "      <td>602034</td>\n",
       "      <td>1200986</td>\n",
       "      <td>1</td>\n",
       "      <td>11</td>\n",
       "      <td>4</td>\n",
       "      <td>13</td>\n",
       "      <td>5</td>\n",
       "      <td>0</td>\n",
       "      <td>0</td>\n",
       "      <td>0.000000</td>\n",
       "      <td>1</td>\n",
       "      <td>1</td>\n",
       "      <td>4</td>\n",
       "      <td>0.447214</td>\n",
       "      <td>0.267261</td>\n",
       "      <td>0.714475</td>\n",
       "      <td>0.119523</td>\n",
       "      <td>1.161688</td>\n",
       "      <td>0.981736</td>\n",
       "      <td>0.000001</td>\n",
       "      <td>7.796304e-07</td>\n",
       "      <td>0.000773</td>\n",
       "      <td>0.000746</td>\n",
       "      <td>1.915209e-13</td>\n",
       "      <td>3.479478e-18</td>\n",
       "      <td>1.029497e-17</td>\n",
       "      <td>1.439926e-15</td>\n",
       "      <td>44</td>\n",
       "      <td>65</td>\n",
       "      <td>1.701341e-14</td>\n",
       "      <td>1.001681e-11</td>\n",
       "      <td>5.934449e-13</td>\n",
       "      <td>6.523204e-13</td>\n",
       "      <td>-1.390309e-13</td>\n",
       "      <td>3.533429e-12</td>\n",
       "      <td>4.164446e-15</td>\n",
       "      <td>1.046151e-14</td>\n",
       "      <td>3.956035e-10</td>\n",
       "      <td>1.704410e-14</td>\n",
       "      <td>-5.217384e-14</td>\n",
       "      <td>6.432016e-17</td>\n",
       "      <td>3.063362e-15</td>\n",
       "      <td>4.402645e-13</td>\n",
       "      <td>4.841453e-12</td>\n",
       "      <td>3.514939e-13</td>\n",
       "      <td>-5.884913e-14</td>\n",
       "      <td>1.918861e-16</td>\n",
       "      <td>2.068293e-13</td>\n",
       "      <td>1.675369e-13</td>\n",
       "      <td>1.172583e-11</td>\n",
       "      <td>2.438784e-13</td>\n",
       "      <td>-5.969978e-12</td>\n",
       "      <td>2.683889e-14</td>\n",
       "    </tr>\n",
       "  </tbody>\n",
       "</table>\n",
       "</div>"
      ],
      "text/plain": [
       "   source_node  destination_node  ...     svd_v_d_5     svd_v_d_6\n",
       "0       273084           1505602  ... -9.771079e-13  4.160011e-14\n",
       "1      1219779            706355  ... -2.481598e-09  9.057050e-08\n",
       "2      1059200           1664635  ... -7.679130e-17  1.002322e-17\n",
       "3      1363018            752401  ... -1.770620e-11  1.179337e-12\n",
       "4       602034           1200986  ... -5.969978e-12  2.683889e-14\n",
       "\n",
       "[5 rows x 53 columns]"
      ]
     },
     "execution_count": 96,
     "metadata": {
      "tags": []
     },
     "output_type": "execute_result"
    }
   ],
   "source": [
    "df_final_train.head()"
   ]
  },
  {
   "cell_type": "code",
   "execution_count": 97,
   "metadata": {
    "colab": {
     "base_uri": "https://localhost:8080/"
    },
    "executionInfo": {
     "elapsed": 393,
     "status": "ok",
     "timestamp": 1629298255102,
     "user": {
      "displayName": "Sagar Saha",
      "photoUrl": "https://lh3.googleusercontent.com/a-/AOh14GicLETJuVBRiET1eCxKwWcSMrdeomVWv6nl6pk9JQ=s64",
      "userId": "04756931713955304096"
     },
     "user_tz": -360
    },
    "id": "MA1OiUm7AIxY",
    "outputId": "ba9bd936-9ab6-4738-f71e-4c542e09c9b3"
   },
   "outputs": [
    {
     "data": {
      "text/plain": [
       "Index(['source_node', 'destination_node', 'indicator_link', 'num_followers_s',\n",
       "       'num_followers_d', 'num_followees_s', 'num_followees_d',\n",
       "       'inter_followers', 'inter_followees', 'adar_index', 'follows_back',\n",
       "       'same_comp', 'shortest_path', 'weight_in', 'weight_out', 'weight_f1',\n",
       "       'weight_f2', 'weight_f3', 'weight_f4', 'page_rank_s', 'page_rank_d',\n",
       "       'katz_s', 'katz_d', 'hubs_s', 'hubs_d', 'authorities_s',\n",
       "       'authorities_d', 'prefer_Attach_followers', 'prefer_Attach_followees',\n",
       "       'svd_u_s_1', 'svd_u_s_2', 'svd_u_s_3', 'svd_u_s_4', 'svd_u_s_5',\n",
       "       'svd_u_s_6', 'svd_u_d_1', 'svd_u_d_2', 'svd_u_d_3', 'svd_u_d_4',\n",
       "       'svd_u_d_5', 'svd_u_d_6', 'svd_v_s_1', 'svd_v_s_2', 'svd_v_s_3',\n",
       "       'svd_v_s_4', 'svd_v_s_5', 'svd_v_s_6', 'svd_v_d_1', 'svd_v_d_2',\n",
       "       'svd_v_d_3', 'svd_v_d_4', 'svd_v_d_5', 'svd_v_d_6'],\n",
       "      dtype='object')"
      ]
     },
     "execution_count": 97,
     "metadata": {
      "tags": []
     },
     "output_type": "execute_result"
    }
   ],
   "source": [
    "df_final_train.columns"
   ]
  },
  {
   "cell_type": "markdown",
   "metadata": {
    "id": "CSvfszanAIxY"
   },
   "source": [
    "### Adding feature svd_dot  (ASSIGNMENT)"
   ]
  },
  {
   "cell_type": "markdown",
   "metadata": {
    "id": "VspFQO9pAIxY"
   },
   "source": [
    " svd_dot is Dot product between sourse node svd and destination node svd features"
   ]
  },
  {
   "cell_type": "code",
   "execution_count": 98,
   "metadata": {
    "executionInfo": {
     "elapsed": 393,
     "status": "ok",
     "timestamp": 1629298266466,
     "user": {
      "displayName": "Sagar Saha",
      "photoUrl": "https://lh3.googleusercontent.com/a-/AOh14GicLETJuVBRiET1eCxKwWcSMrdeomVWv6nl6pk9JQ=s64",
      "userId": "04756931713955304096"
     },
     "user_tz": -360
    },
    "id": "m6bn3Bq4AIxY"
   },
   "outputs": [],
   "source": [
    "#for train datasets\n",
    "s1,s2,s3,s4,s5,s6 =df_final_train['svd_u_s_1'],df_final_train['svd_u_s_2'],df_final_train['svd_u_s_3'],df_final_train['svd_u_s_4'],df_final_train['svd_u_s_5'],df_final_train['svd_u_s_6']\n",
    "s7,s8,s9,s10,s11,s12=df_final_train['svd_v_s_1'],df_final_train['svd_v_s_2'],df_final_train['svd_v_s_3'],df_final_train['svd_v_s_4'],df_final_train['svd_v_s_5'],df_final_train['svd_v_s_6']\n",
    "\n",
    "d1,d2,d3,d4,d5,d6=df_final_train['svd_u_d_1'],df_final_train['svd_u_d_2'],df_final_train['svd_u_d_3'],df_final_train['svd_u_d_4'],df_final_train['svd_u_d_5'],df_final_train['svd_u_d_6']\n",
    "d7,d8,d9,d10,d11,d12=df_final_train['svd_v_d_1'],df_final_train['svd_v_d_2'],df_final_train['svd_v_d_3'],df_final_train['svd_v_d_4'],df_final_train['svd_v_d_5'],df_final_train['svd_v_d_6']\n",
    " "
   ]
  },
  {
   "cell_type": "code",
   "execution_count": 99,
   "metadata": {
    "executionInfo": {
     "elapsed": 17795,
     "status": "ok",
     "timestamp": 1629298290436,
     "user": {
      "displayName": "Sagar Saha",
      "photoUrl": "https://lh3.googleusercontent.com/a-/AOh14GicLETJuVBRiET1eCxKwWcSMrdeomVWv6nl6pk9JQ=s64",
      "userId": "04756931713955304096"
     },
     "user_tz": -360
    },
    "id": "oTFth5p7AIxY"
   },
   "outputs": [],
   "source": [
    "svd_dot=[]\n",
    "for i in range(len(np.array(s1))):\n",
    "    a=[]\n",
    "    b=[]\n",
    "    a.append(np.array(s1[i]))\n",
    "    a.append(np.array(s2[i]))\n",
    "    a.append(np.array(s3[i]))\n",
    "    a.append(np.array(s4[i]))\n",
    "    a.append(np.array(s5[i]))\n",
    "    a.append(np.array(s6[i]))\n",
    "    a.append(np.array(s7[i]))\n",
    "    a.append(np.array(s8[i]))\n",
    "    a.append(np.array(s9[i]))\n",
    "    a.append(np.array(s10[i]))\n",
    "    a.append(np.array(s11[i]))\n",
    "    a.append(np.array(s12[i]))\n",
    "    b.append(np.array(d1[i]))\n",
    "    b.append(np.array(d2[i]))\n",
    "    b.append(np.array(d3[i]))\n",
    "    b.append(np.array(d4[i]))\n",
    "    b.append(np.array(d5[i]))\n",
    "    b.append(np.array(d6[i]))\n",
    "    b.append(np.array(d7[i]))\n",
    "    b.append(np.array(d8[i]))\n",
    "    b.append(np.array(d9[i]))\n",
    "    b.append(np.array(d10[i]))\n",
    "    b.append(np.array(d11[i]))\n",
    "    b.append(np.array(d12[i]))\n",
    "    svd_dot.append(np.dot(a,b))\n",
    "df_final_train['svd_dot']=svd_dot    \n"
   ]
  },
  {
   "cell_type": "code",
   "execution_count": 100,
   "metadata": {
    "colab": {
     "base_uri": "https://localhost:8080/",
     "height": 312
    },
    "executionInfo": {
     "elapsed": 395,
     "status": "ok",
     "timestamp": 1629298306535,
     "user": {
      "displayName": "Sagar Saha",
      "photoUrl": "https://lh3.googleusercontent.com/a-/AOh14GicLETJuVBRiET1eCxKwWcSMrdeomVWv6nl6pk9JQ=s64",
      "userId": "04756931713955304096"
     },
     "user_tz": -360
    },
    "id": "hjs-df6-AIxZ",
    "outputId": "934ecca3-db22-486f-8108-7fa18d818820"
   },
   "outputs": [
    {
     "data": {
      "text/html": [
       "<div>\n",
       "<style scoped>\n",
       "    .dataframe tbody tr th:only-of-type {\n",
       "        vertical-align: middle;\n",
       "    }\n",
       "\n",
       "    .dataframe tbody tr th {\n",
       "        vertical-align: top;\n",
       "    }\n",
       "\n",
       "    .dataframe thead th {\n",
       "        text-align: right;\n",
       "    }\n",
       "</style>\n",
       "<table border=\"1\" class=\"dataframe\">\n",
       "  <thead>\n",
       "    <tr style=\"text-align: right;\">\n",
       "      <th></th>\n",
       "      <th>source_node</th>\n",
       "      <th>destination_node</th>\n",
       "      <th>indicator_link</th>\n",
       "      <th>num_followers_s</th>\n",
       "      <th>num_followers_d</th>\n",
       "      <th>num_followees_s</th>\n",
       "      <th>num_followees_d</th>\n",
       "      <th>inter_followers</th>\n",
       "      <th>inter_followees</th>\n",
       "      <th>adar_index</th>\n",
       "      <th>follows_back</th>\n",
       "      <th>same_comp</th>\n",
       "      <th>shortest_path</th>\n",
       "      <th>weight_in</th>\n",
       "      <th>weight_out</th>\n",
       "      <th>weight_f1</th>\n",
       "      <th>weight_f2</th>\n",
       "      <th>weight_f3</th>\n",
       "      <th>weight_f4</th>\n",
       "      <th>page_rank_s</th>\n",
       "      <th>page_rank_d</th>\n",
       "      <th>katz_s</th>\n",
       "      <th>katz_d</th>\n",
       "      <th>hubs_s</th>\n",
       "      <th>hubs_d</th>\n",
       "      <th>authorities_s</th>\n",
       "      <th>authorities_d</th>\n",
       "      <th>prefer_Attach_followers</th>\n",
       "      <th>prefer_Attach_followees</th>\n",
       "      <th>svd_u_s_1</th>\n",
       "      <th>svd_u_s_2</th>\n",
       "      <th>svd_u_s_3</th>\n",
       "      <th>svd_u_s_4</th>\n",
       "      <th>svd_u_s_5</th>\n",
       "      <th>svd_u_s_6</th>\n",
       "      <th>svd_u_d_1</th>\n",
       "      <th>svd_u_d_2</th>\n",
       "      <th>svd_u_d_3</th>\n",
       "      <th>svd_u_d_4</th>\n",
       "      <th>svd_u_d_5</th>\n",
       "      <th>svd_u_d_6</th>\n",
       "      <th>svd_v_s_1</th>\n",
       "      <th>svd_v_s_2</th>\n",
       "      <th>svd_v_s_3</th>\n",
       "      <th>svd_v_s_4</th>\n",
       "      <th>svd_v_s_5</th>\n",
       "      <th>svd_v_s_6</th>\n",
       "      <th>svd_v_d_1</th>\n",
       "      <th>svd_v_d_2</th>\n",
       "      <th>svd_v_d_3</th>\n",
       "      <th>svd_v_d_4</th>\n",
       "      <th>svd_v_d_5</th>\n",
       "      <th>svd_v_d_6</th>\n",
       "      <th>svd_dot</th>\n",
       "    </tr>\n",
       "  </thead>\n",
       "  <tbody>\n",
       "    <tr>\n",
       "      <th>0</th>\n",
       "      <td>273084</td>\n",
       "      <td>1505602</td>\n",
       "      <td>1</td>\n",
       "      <td>11</td>\n",
       "      <td>6</td>\n",
       "      <td>15</td>\n",
       "      <td>8</td>\n",
       "      <td>0</td>\n",
       "      <td>0</td>\n",
       "      <td>0.000000</td>\n",
       "      <td>0</td>\n",
       "      <td>1</td>\n",
       "      <td>4</td>\n",
       "      <td>0.377964</td>\n",
       "      <td>0.250000</td>\n",
       "      <td>0.627964</td>\n",
       "      <td>0.094491</td>\n",
       "      <td>1.005929</td>\n",
       "      <td>0.877964</td>\n",
       "      <td>0.000002</td>\n",
       "      <td>3.459963e-07</td>\n",
       "      <td>0.000773</td>\n",
       "      <td>0.000756</td>\n",
       "      <td>1.943132e-13</td>\n",
       "      <td>1.941103e-13</td>\n",
       "      <td>9.226339e-16</td>\n",
       "      <td>2.231877e-15</td>\n",
       "      <td>66</td>\n",
       "      <td>120</td>\n",
       "      <td>1.666336e-13</td>\n",
       "      <td>4.613824e-13</td>\n",
       "      <td>1.043041e-05</td>\n",
       "      <td>6.678030e-13</td>\n",
       "      <td>-2.451105e-13</td>\n",
       "      <td>3.584945e-12</td>\n",
       "      <td>2.038018e-11</td>\n",
       "      <td>5.397914e-13</td>\n",
       "      <td>1.068943e-06</td>\n",
       "      <td>1.192462e-12</td>\n",
       "      <td>-2.279488e-12</td>\n",
       "      <td>3.581202e-12</td>\n",
       "      <td>7.216151e-13</td>\n",
       "      <td>3.926263e-13</td>\n",
       "      <td>1.983700e-06</td>\n",
       "      <td>1.545089e-13</td>\n",
       "      <td>-8.108438e-13</td>\n",
       "      <td>1.719705e-14</td>\n",
       "      <td>1.355369e-12</td>\n",
       "      <td>4.675320e-13</td>\n",
       "      <td>1.128586e-06</td>\n",
       "      <td>6.616716e-14</td>\n",
       "      <td>-9.771079e-13</td>\n",
       "      <td>4.160011e-14</td>\n",
       "      <td>1.338828e-11</td>\n",
       "    </tr>\n",
       "    <tr>\n",
       "      <th>1</th>\n",
       "      <td>1219779</td>\n",
       "      <td>706355</td>\n",
       "      <td>1</td>\n",
       "      <td>44</td>\n",
       "      <td>61</td>\n",
       "      <td>20</td>\n",
       "      <td>0</td>\n",
       "      <td>26</td>\n",
       "      <td>0</td>\n",
       "      <td>0.000000</td>\n",
       "      <td>0</td>\n",
       "      <td>1</td>\n",
       "      <td>2</td>\n",
       "      <td>0.127000</td>\n",
       "      <td>0.218218</td>\n",
       "      <td>0.345218</td>\n",
       "      <td>0.027714</td>\n",
       "      <td>0.472218</td>\n",
       "      <td>0.563436</td>\n",
       "      <td>0.000001</td>\n",
       "      <td>1.244706e-06</td>\n",
       "      <td>0.000915</td>\n",
       "      <td>0.001013</td>\n",
       "      <td>5.999138e-11</td>\n",
       "      <td>0.000000e+00</td>\n",
       "      <td>2.734890e-09</td>\n",
       "      <td>4.859173e-09</td>\n",
       "      <td>2684</td>\n",
       "      <td>0</td>\n",
       "      <td>3.984811e-12</td>\n",
       "      <td>6.359323e-11</td>\n",
       "      <td>2.842011e-11</td>\n",
       "      <td>4.777502e-09</td>\n",
       "      <td>-3.308066e-11</td>\n",
       "      <td>1.106800e-09</td>\n",
       "      <td>-1.431732e-20</td>\n",
       "      <td>-5.508103e-21</td>\n",
       "      <td>2.680095e-21</td>\n",
       "      <td>-1.037554e-20</td>\n",
       "      <td>4.645869e-21</td>\n",
       "      <td>3.944426e-20</td>\n",
       "      <td>1.466485e-10</td>\n",
       "      <td>5.807167e-10</td>\n",
       "      <td>9.888893e-10</td>\n",
       "      <td>1.965570e-07</td>\n",
       "      <td>-1.394954e-09</td>\n",
       "      <td>5.097581e-08</td>\n",
       "      <td>2.312290e-10</td>\n",
       "      <td>3.859003e-10</td>\n",
       "      <td>1.747583e-09</td>\n",
       "      <td>2.796848e-07</td>\n",
       "      <td>-2.481598e-09</td>\n",
       "      <td>9.057050e-08</td>\n",
       "      <td>5.959637e-14</td>\n",
       "    </tr>\n",
       "    <tr>\n",
       "      <th>2</th>\n",
       "      <td>1059200</td>\n",
       "      <td>1664635</td>\n",
       "      <td>1</td>\n",
       "      <td>14</td>\n",
       "      <td>6</td>\n",
       "      <td>17</td>\n",
       "      <td>13</td>\n",
       "      <td>5</td>\n",
       "      <td>11</td>\n",
       "      <td>11.424889</td>\n",
       "      <td>1</td>\n",
       "      <td>1</td>\n",
       "      <td>2</td>\n",
       "      <td>0.377964</td>\n",
       "      <td>0.235702</td>\n",
       "      <td>0.613667</td>\n",
       "      <td>0.089087</td>\n",
       "      <td>0.991631</td>\n",
       "      <td>0.849369</td>\n",
       "      <td>0.000001</td>\n",
       "      <td>3.825109e-07</td>\n",
       "      <td>0.000785</td>\n",
       "      <td>0.000754</td>\n",
       "      <td>1.791779e-17</td>\n",
       "      <td>1.799380e-17</td>\n",
       "      <td>1.414347e-17</td>\n",
       "      <td>5.376350e-19</td>\n",
       "      <td>84</td>\n",
       "      <td>221</td>\n",
       "      <td>1.970945e-17</td>\n",
       "      <td>6.715613e-16</td>\n",
       "      <td>1.051997e-15</td>\n",
       "      <td>9.945713e-13</td>\n",
       "      <td>-2.091127e-15</td>\n",
       "      <td>3.309824e-16</td>\n",
       "      <td>2.197598e-17</td>\n",
       "      <td>6.714585e-16</td>\n",
       "      <td>1.061246e-15</td>\n",
       "      <td>9.955888e-13</td>\n",
       "      <td>-2.150583e-15</td>\n",
       "      <td>3.321894e-16</td>\n",
       "      <td>2.262851e-16</td>\n",
       "      <td>1.422711e-16</td>\n",
       "      <td>1.192554e-15</td>\n",
       "      <td>3.325415e-13</td>\n",
       "      <td>-7.828690e-15</td>\n",
       "      <td>2.636271e-16</td>\n",
       "      <td>9.717381e-19</td>\n",
       "      <td>3.017330e-17</td>\n",
       "      <td>4.629517e-17</td>\n",
       "      <td>4.257589e-14</td>\n",
       "      <td>-7.679130e-17</td>\n",
       "      <td>1.002322e-17</td>\n",
       "      <td>1.004349e-24</td>\n",
       "    </tr>\n",
       "    <tr>\n",
       "      <th>3</th>\n",
       "      <td>1363018</td>\n",
       "      <td>752401</td>\n",
       "      <td>1</td>\n",
       "      <td>61</td>\n",
       "      <td>47</td>\n",
       "      <td>70</td>\n",
       "      <td>9</td>\n",
       "      <td>0</td>\n",
       "      <td>0</td>\n",
       "      <td>0.000000</td>\n",
       "      <td>0</td>\n",
       "      <td>1</td>\n",
       "      <td>3</td>\n",
       "      <td>0.144338</td>\n",
       "      <td>0.118678</td>\n",
       "      <td>0.263016</td>\n",
       "      <td>0.017130</td>\n",
       "      <td>0.407353</td>\n",
       "      <td>0.381694</td>\n",
       "      <td>0.000003</td>\n",
       "      <td>2.661763e-06</td>\n",
       "      <td>0.000997</td>\n",
       "      <td>0.000927</td>\n",
       "      <td>2.214160e-13</td>\n",
       "      <td>9.683343e-14</td>\n",
       "      <td>1.643200e-13</td>\n",
       "      <td>6.327230e-14</td>\n",
       "      <td>2867</td>\n",
       "      <td>630</td>\n",
       "      <td>2.274105e-11</td>\n",
       "      <td>5.551788e-11</td>\n",
       "      <td>2.833100e-04</td>\n",
       "      <td>1.881749e-11</td>\n",
       "      <td>-5.784690e-11</td>\n",
       "      <td>4.084971e-12</td>\n",
       "      <td>2.168132e-11</td>\n",
       "      <td>8.564171e-12</td>\n",
       "      <td>9.877531e-06</td>\n",
       "      <td>7.250426e-13</td>\n",
       "      <td>-1.665074e-12</td>\n",
       "      <td>1.786510e-12</td>\n",
       "      <td>2.171377e-11</td>\n",
       "      <td>3.027432e-11</td>\n",
       "      <td>4.624317e-04</td>\n",
       "      <td>9.462839e-12</td>\n",
       "      <td>-3.145780e-10</td>\n",
       "      <td>3.062773e-12</td>\n",
       "      <td>8.164255e-12</td>\n",
       "      <td>6.191670e-13</td>\n",
       "      <td>6.248748e-04</td>\n",
       "      <td>5.689166e-12</td>\n",
       "      <td>-1.770620e-11</td>\n",
       "      <td>1.179337e-12</td>\n",
       "      <td>2.917603e-07</td>\n",
       "    </tr>\n",
       "    <tr>\n",
       "      <th>4</th>\n",
       "      <td>602034</td>\n",
       "      <td>1200986</td>\n",
       "      <td>1</td>\n",
       "      <td>11</td>\n",
       "      <td>4</td>\n",
       "      <td>13</td>\n",
       "      <td>5</td>\n",
       "      <td>0</td>\n",
       "      <td>0</td>\n",
       "      <td>0.000000</td>\n",
       "      <td>1</td>\n",
       "      <td>1</td>\n",
       "      <td>4</td>\n",
       "      <td>0.447214</td>\n",
       "      <td>0.267261</td>\n",
       "      <td>0.714475</td>\n",
       "      <td>0.119523</td>\n",
       "      <td>1.161688</td>\n",
       "      <td>0.981736</td>\n",
       "      <td>0.000001</td>\n",
       "      <td>7.796304e-07</td>\n",
       "      <td>0.000773</td>\n",
       "      <td>0.000746</td>\n",
       "      <td>1.915209e-13</td>\n",
       "      <td>3.479478e-18</td>\n",
       "      <td>1.029497e-17</td>\n",
       "      <td>1.439926e-15</td>\n",
       "      <td>44</td>\n",
       "      <td>65</td>\n",
       "      <td>1.701341e-14</td>\n",
       "      <td>1.001681e-11</td>\n",
       "      <td>5.934449e-13</td>\n",
       "      <td>6.523204e-13</td>\n",
       "      <td>-1.390309e-13</td>\n",
       "      <td>3.533429e-12</td>\n",
       "      <td>4.164446e-15</td>\n",
       "      <td>1.046151e-14</td>\n",
       "      <td>3.956035e-10</td>\n",
       "      <td>1.704410e-14</td>\n",
       "      <td>-5.217384e-14</td>\n",
       "      <td>6.432016e-17</td>\n",
       "      <td>3.063362e-15</td>\n",
       "      <td>4.402645e-13</td>\n",
       "      <td>4.841453e-12</td>\n",
       "      <td>3.514939e-13</td>\n",
       "      <td>-5.884913e-14</td>\n",
       "      <td>1.918861e-16</td>\n",
       "      <td>2.068293e-13</td>\n",
       "      <td>1.675369e-13</td>\n",
       "      <td>1.172583e-11</td>\n",
       "      <td>2.438784e-13</td>\n",
       "      <td>-5.969978e-12</td>\n",
       "      <td>2.683889e-14</td>\n",
       "      <td>2.921739e-22</td>\n",
       "    </tr>\n",
       "  </tbody>\n",
       "</table>\n",
       "</div>"
      ],
      "text/plain": [
       "   source_node  destination_node  ...     svd_v_d_6       svd_dot\n",
       "0       273084           1505602  ...  4.160011e-14  1.338828e-11\n",
       "1      1219779            706355  ...  9.057050e-08  5.959637e-14\n",
       "2      1059200           1664635  ...  1.002322e-17  1.004349e-24\n",
       "3      1363018            752401  ...  1.179337e-12  2.917603e-07\n",
       "4       602034           1200986  ...  2.683889e-14  2.921739e-22\n",
       "\n",
       "[5 rows x 54 columns]"
      ]
     },
     "execution_count": 100,
     "metadata": {
      "tags": []
     },
     "output_type": "execute_result"
    }
   ],
   "source": [
    "df_final_train.head()"
   ]
  },
  {
   "cell_type": "code",
   "execution_count": 101,
   "metadata": {
    "executionInfo": {
     "elapsed": 438,
     "status": "ok",
     "timestamp": 1629298320800,
     "user": {
      "displayName": "Sagar Saha",
      "photoUrl": "https://lh3.googleusercontent.com/a-/AOh14GicLETJuVBRiET1eCxKwWcSMrdeomVWv6nl6pk9JQ=s64",
      "userId": "04756931713955304096"
     },
     "user_tz": -360
    },
    "id": "H3hQ2v5eAIxZ"
   },
   "outputs": [],
   "source": [
    "#for test dataset\n",
    "s1,s2,s3,s4,s5,s6=df_final_test['svd_u_s_1'],df_final_test['svd_u_s_2'],df_final_test['svd_u_s_3'],df_final_test['svd_u_s_4'],df_final_test['svd_u_s_5'],df_final_test['svd_u_s_6']\n",
    "s7,s8,s9,s10,s11,s12=df_final_test['svd_v_s_1'],df_final_test['svd_v_s_2'],df_final_test['svd_v_s_3'],df_final_test['svd_v_s_4'],df_final_test['svd_v_s_5'],df_final_test['svd_v_s_6']\n",
    "\n",
    "d1,d2,d3,d4,d5,d6=df_final_test['svd_u_d_1'],df_final_test['svd_u_d_2'],df_final_test['svd_u_d_3'],df_final_test['svd_u_d_4'],df_final_test['svd_u_d_5'],df_final_test['svd_u_d_6']\n",
    "d7,d8,d9,d10,d11,d12=df_final_test['svd_v_d_1'],df_final_test['svd_v_d_2'],df_final_test['svd_v_d_3'],df_final_test['svd_v_d_4'],df_final_test['svd_v_d_5'],df_final_test['svd_v_d_6']\n",
    " "
   ]
  },
  {
   "cell_type": "code",
   "execution_count": 102,
   "metadata": {
    "executionInfo": {
     "elapsed": 9230,
     "status": "ok",
     "timestamp": 1629298335320,
     "user": {
      "displayName": "Sagar Saha",
      "photoUrl": "https://lh3.googleusercontent.com/a-/AOh14GicLETJuVBRiET1eCxKwWcSMrdeomVWv6nl6pk9JQ=s64",
      "userId": "04756931713955304096"
     },
     "user_tz": -360
    },
    "id": "92LUwMqOAIxZ"
   },
   "outputs": [],
   "source": [
    "svd_dot=[]\n",
    "for i in range(len(np.array(s1))):\n",
    "    a=[]\n",
    "    b=[]\n",
    "    a.append(np.array(s1[i]))\n",
    "    a.append(np.array(s2[i]))\n",
    "    a.append(np.array(s3[i]))\n",
    "    a.append(np.array(s4[i]))\n",
    "    a.append(np.array(s5[i]))\n",
    "    a.append(np.array(s6[i]))\n",
    "    a.append(np.array(s7[i]))\n",
    "    a.append(np.array(s8[i]))\n",
    "    a.append(np.array(s9[i]))\n",
    "    a.append(np.array(s10[i]))\n",
    "    a.append(np.array(s11[i]))\n",
    "    a.append(np.array(s12[i]))\n",
    "    b.append(np.array(d1[i]))\n",
    "    b.append(np.array(d2[i]))\n",
    "    b.append(np.array(d3[i]))\n",
    "    b.append(np.array(d4[i]))\n",
    "    b.append(np.array(d5[i]))\n",
    "    b.append(np.array(d6[i]))\n",
    "    b.append(np.array(d7[i]))\n",
    "    b.append(np.array(d8[i]))\n",
    "    b.append(np.array(d9[i]))\n",
    "    b.append(np.array(d10[i]))\n",
    "    b.append(np.array(d11[i]))\n",
    "    b.append(np.array(d12[i]))\n",
    "    svd_dot.append(np.dot(a,b))\n",
    "df_final_test['svd_dot']=svd_dot    \n"
   ]
  },
  {
   "cell_type": "code",
   "execution_count": 103,
   "metadata": {
    "colab": {
     "base_uri": "https://localhost:8080/",
     "height": 312
    },
    "executionInfo": {
     "elapsed": 409,
     "status": "ok",
     "timestamp": 1629298342957,
     "user": {
      "displayName": "Sagar Saha",
      "photoUrl": "https://lh3.googleusercontent.com/a-/AOh14GicLETJuVBRiET1eCxKwWcSMrdeomVWv6nl6pk9JQ=s64",
      "userId": "04756931713955304096"
     },
     "user_tz": -360
    },
    "id": "22I4zc56AIxZ",
    "outputId": "2489e711-4927-4076-da90-c9d0f986f78b"
   },
   "outputs": [
    {
     "data": {
      "text/html": [
       "<div>\n",
       "<style scoped>\n",
       "    .dataframe tbody tr th:only-of-type {\n",
       "        vertical-align: middle;\n",
       "    }\n",
       "\n",
       "    .dataframe tbody tr th {\n",
       "        vertical-align: top;\n",
       "    }\n",
       "\n",
       "    .dataframe thead th {\n",
       "        text-align: right;\n",
       "    }\n",
       "</style>\n",
       "<table border=\"1\" class=\"dataframe\">\n",
       "  <thead>\n",
       "    <tr style=\"text-align: right;\">\n",
       "      <th></th>\n",
       "      <th>source_node</th>\n",
       "      <th>destination_node</th>\n",
       "      <th>indicator_link</th>\n",
       "      <th>num_followers_s</th>\n",
       "      <th>num_followers_d</th>\n",
       "      <th>num_followees_s</th>\n",
       "      <th>num_followees_d</th>\n",
       "      <th>inter_followers</th>\n",
       "      <th>inter_followees</th>\n",
       "      <th>adar_index</th>\n",
       "      <th>follows_back</th>\n",
       "      <th>same_comp</th>\n",
       "      <th>shortest_path</th>\n",
       "      <th>weight_in</th>\n",
       "      <th>weight_out</th>\n",
       "      <th>weight_f1</th>\n",
       "      <th>weight_f2</th>\n",
       "      <th>weight_f3</th>\n",
       "      <th>weight_f4</th>\n",
       "      <th>page_rank_s</th>\n",
       "      <th>page_rank_d</th>\n",
       "      <th>katz_s</th>\n",
       "      <th>katz_d</th>\n",
       "      <th>hubs_s</th>\n",
       "      <th>hubs_d</th>\n",
       "      <th>authorities_s</th>\n",
       "      <th>authorities_d</th>\n",
       "      <th>prefer_Attach_followers</th>\n",
       "      <th>prefer_Attach_followees</th>\n",
       "      <th>svd_u_s_1</th>\n",
       "      <th>svd_u_s_2</th>\n",
       "      <th>svd_u_s_3</th>\n",
       "      <th>svd_u_s_4</th>\n",
       "      <th>svd_u_s_5</th>\n",
       "      <th>svd_u_s_6</th>\n",
       "      <th>svd_u_d_1</th>\n",
       "      <th>svd_u_d_2</th>\n",
       "      <th>svd_u_d_3</th>\n",
       "      <th>svd_u_d_4</th>\n",
       "      <th>svd_u_d_5</th>\n",
       "      <th>svd_u_d_6</th>\n",
       "      <th>svd_v_s_1</th>\n",
       "      <th>svd_v_s_2</th>\n",
       "      <th>svd_v_s_3</th>\n",
       "      <th>svd_v_s_4</th>\n",
       "      <th>svd_v_s_5</th>\n",
       "      <th>svd_v_s_6</th>\n",
       "      <th>svd_v_d_1</th>\n",
       "      <th>svd_v_d_2</th>\n",
       "      <th>svd_v_d_3</th>\n",
       "      <th>svd_v_d_4</th>\n",
       "      <th>svd_v_d_5</th>\n",
       "      <th>svd_v_d_6</th>\n",
       "      <th>svd_dot</th>\n",
       "    </tr>\n",
       "  </thead>\n",
       "  <tbody>\n",
       "    <tr>\n",
       "      <th>0</th>\n",
       "      <td>848424</td>\n",
       "      <td>784690</td>\n",
       "      <td>1</td>\n",
       "      <td>6</td>\n",
       "      <td>14</td>\n",
       "      <td>6</td>\n",
       "      <td>9</td>\n",
       "      <td>1</td>\n",
       "      <td>0</td>\n",
       "      <td>0.000000</td>\n",
       "      <td>1</td>\n",
       "      <td>1</td>\n",
       "      <td>2</td>\n",
       "      <td>0.258199</td>\n",
       "      <td>0.377964</td>\n",
       "      <td>0.636163</td>\n",
       "      <td>0.097590</td>\n",
       "      <td>0.894362</td>\n",
       "      <td>1.014128</td>\n",
       "      <td>6.557971e-07</td>\n",
       "      <td>1.559547e-06</td>\n",
       "      <td>0.000754</td>\n",
       "      <td>0.000786</td>\n",
       "      <td>3.243237e-16</td>\n",
       "      <td>1.745627e-16</td>\n",
       "      <td>2.969838e-15</td>\n",
       "      <td>9.269213e-14</td>\n",
       "      <td>84</td>\n",
       "      <td>54</td>\n",
       "      <td>9.987980e-12</td>\n",
       "      <td>2.283696e-13</td>\n",
       "      <td>1.439960e-10</td>\n",
       "      <td>6.136173e-13</td>\n",
       "      <td>-4.188171e-13</td>\n",
       "      <td>5.983598e-15</td>\n",
       "      <td>1.026186e-11</td>\n",
       "      <td>5.316648e-13</td>\n",
       "      <td>5.843192e-10</td>\n",
       "      <td>1.166047e-13</td>\n",
       "      <td>-2.253356e-11</td>\n",
       "      <td>3.220986e-15</td>\n",
       "      <td>2.148852e-13</td>\n",
       "      <td>1.883259e-13</td>\n",
       "      <td>5.904813e-11</td>\n",
       "      <td>2.701538e-12</td>\n",
       "      <td>-4.341620e-13</td>\n",
       "      <td>5.535504e-14</td>\n",
       "      <td>9.994077e-10</td>\n",
       "      <td>5.791914e-10</td>\n",
       "      <td>3.512351e-07</td>\n",
       "      <td>2.486660e-09</td>\n",
       "      <td>-2.771146e-09</td>\n",
       "      <td>1.727695e-12</td>\n",
       "      <td>2.083227e-17</td>\n",
       "    </tr>\n",
       "    <tr>\n",
       "      <th>1</th>\n",
       "      <td>109806</td>\n",
       "      <td>1262519</td>\n",
       "      <td>1</td>\n",
       "      <td>9</td>\n",
       "      <td>7</td>\n",
       "      <td>14</td>\n",
       "      <td>11</td>\n",
       "      <td>1</td>\n",
       "      <td>3</td>\n",
       "      <td>2.300828</td>\n",
       "      <td>1</td>\n",
       "      <td>1</td>\n",
       "      <td>2</td>\n",
       "      <td>0.353553</td>\n",
       "      <td>0.258199</td>\n",
       "      <td>0.611752</td>\n",
       "      <td>0.091287</td>\n",
       "      <td>0.965306</td>\n",
       "      <td>0.869951</td>\n",
       "      <td>1.049434e-06</td>\n",
       "      <td>7.586222e-07</td>\n",
       "      <td>0.000767</td>\n",
       "      <td>0.000759</td>\n",
       "      <td>1.940810e-13</td>\n",
       "      <td>2.211657e-13</td>\n",
       "      <td>7.520879e-14</td>\n",
       "      <td>1.035651e-12</td>\n",
       "      <td>63</td>\n",
       "      <td>154</td>\n",
       "      <td>2.285982e-13</td>\n",
       "      <td>1.653031e-11</td>\n",
       "      <td>1.549027e-11</td>\n",
       "      <td>5.024416e-10</td>\n",
       "      <td>-1.272565e-11</td>\n",
       "      <td>3.580660e-12</td>\n",
       "      <td>1.534582e-13</td>\n",
       "      <td>3.345160e-11</td>\n",
       "      <td>4.999417e-10</td>\n",
       "      <td>7.661282e-10</td>\n",
       "      <td>-3.646335e-12</td>\n",
       "      <td>4.080353e-12</td>\n",
       "      <td>6.192190e-13</td>\n",
       "      <td>6.004004e-12</td>\n",
       "      <td>1.178775e-11</td>\n",
       "      <td>1.480041e-08</td>\n",
       "      <td>-1.558901e-11</td>\n",
       "      <td>1.401822e-12</td>\n",
       "      <td>7.899111e-13</td>\n",
       "      <td>2.304818e-10</td>\n",
       "      <td>4.823738e-10</td>\n",
       "      <td>1.610684e-08</td>\n",
       "      <td>-2.161204e-12</td>\n",
       "      <td>1.930357e-11</td>\n",
       "      <td>2.387882e-16</td>\n",
       "    </tr>\n",
       "    <tr>\n",
       "      <th>2</th>\n",
       "      <td>1483149</td>\n",
       "      <td>229748</td>\n",
       "      <td>1</td>\n",
       "      <td>30</td>\n",
       "      <td>24</td>\n",
       "      <td>29</td>\n",
       "      <td>23</td>\n",
       "      <td>4</td>\n",
       "      <td>3</td>\n",
       "      <td>2.836971</td>\n",
       "      <td>1</td>\n",
       "      <td>1</td>\n",
       "      <td>2</td>\n",
       "      <td>0.200000</td>\n",
       "      <td>0.182574</td>\n",
       "      <td>0.382574</td>\n",
       "      <td>0.036515</td>\n",
       "      <td>0.582574</td>\n",
       "      <td>0.565148</td>\n",
       "      <td>1.394055e-06</td>\n",
       "      <td>1.479356e-06</td>\n",
       "      <td>0.000855</td>\n",
       "      <td>0.000829</td>\n",
       "      <td>4.104526e-15</td>\n",
       "      <td>1.669083e-15</td>\n",
       "      <td>1.251348e-14</td>\n",
       "      <td>6.199806e-15</td>\n",
       "      <td>720</td>\n",
       "      <td>667</td>\n",
       "      <td>3.188421e-11</td>\n",
       "      <td>9.108560e-13</td>\n",
       "      <td>1.352299e-05</td>\n",
       "      <td>1.556196e-12</td>\n",
       "      <td>-1.099326e-11</td>\n",
       "      <td>7.572551e-14</td>\n",
       "      <td>1.071158e-11</td>\n",
       "      <td>7.014043e-13</td>\n",
       "      <td>2.364910e-06</td>\n",
       "      <td>1.376515e-10</td>\n",
       "      <td>-4.926929e-12</td>\n",
       "      <td>3.079355e-14</td>\n",
       "      <td>4.908680e-12</td>\n",
       "      <td>2.640217e-12</td>\n",
       "      <td>1.452968e-05</td>\n",
       "      <td>8.795822e-12</td>\n",
       "      <td>-3.519478e-12</td>\n",
       "      <td>2.332397e-13</td>\n",
       "      <td>2.131584e-12</td>\n",
       "      <td>3.061174e-12</td>\n",
       "      <td>2.578601e-06</td>\n",
       "      <td>4.510667e-12</td>\n",
       "      <td>-1.100837e-12</td>\n",
       "      <td>1.155587e-13</td>\n",
       "      <td>6.944693e-11</td>\n",
       "    </tr>\n",
       "    <tr>\n",
       "      <th>3</th>\n",
       "      <td>1179293</td>\n",
       "      <td>1844907</td>\n",
       "      <td>1</td>\n",
       "      <td>1</td>\n",
       "      <td>2</td>\n",
       "      <td>0</td>\n",
       "      <td>1</td>\n",
       "      <td>0</td>\n",
       "      <td>0</td>\n",
       "      <td>0.000000</td>\n",
       "      <td>0</td>\n",
       "      <td>1</td>\n",
       "      <td>-1</td>\n",
       "      <td>0.577350</td>\n",
       "      <td>1.000000</td>\n",
       "      <td>1.577350</td>\n",
       "      <td>0.577350</td>\n",
       "      <td>2.154701</td>\n",
       "      <td>2.577350</td>\n",
       "      <td>1.894317e-07</td>\n",
       "      <td>1.120234e-06</td>\n",
       "      <td>0.000735</td>\n",
       "      <td>0.000739</td>\n",
       "      <td>0.000000e+00</td>\n",
       "      <td>0.000000e+00</td>\n",
       "      <td>4.594952e-12</td>\n",
       "      <td>0.000000e+00</td>\n",
       "      <td>2</td>\n",
       "      <td>0</td>\n",
       "      <td>-1.851843e-20</td>\n",
       "      <td>-6.005574e-21</td>\n",
       "      <td>3.259584e-21</td>\n",
       "      <td>-1.317558e-20</td>\n",
       "      <td>6.556376e-21</td>\n",
       "      <td>5.284812e-20</td>\n",
       "      <td>1.361757e-19</td>\n",
       "      <td>2.075587e-21</td>\n",
       "      <td>-4.976945e-20</td>\n",
       "      <td>7.670985e-20</td>\n",
       "      <td>-3.382555e-20</td>\n",
       "      <td>-3.979236e-19</td>\n",
       "      <td>5.796758e-13</td>\n",
       "      <td>3.247902e-13</td>\n",
       "      <td>7.544833e-10</td>\n",
       "      <td>6.041842e-11</td>\n",
       "      <td>-3.037306e-10</td>\n",
       "      <td>8.564566e-11</td>\n",
       "      <td>2.219351e-21</td>\n",
       "      <td>-9.041741e-22</td>\n",
       "      <td>-1.569667e-21</td>\n",
       "      <td>7.233295e-22</td>\n",
       "      <td>1.166620e-23</td>\n",
       "      <td>-4.977827e-21</td>\n",
       "      <td>-1.569465e-30</td>\n",
       "    </tr>\n",
       "    <tr>\n",
       "      <th>4</th>\n",
       "      <td>51951</td>\n",
       "      <td>1448637</td>\n",
       "      <td>1</td>\n",
       "      <td>19</td>\n",
       "      <td>8</td>\n",
       "      <td>36</td>\n",
       "      <td>0</td>\n",
       "      <td>0</td>\n",
       "      <td>0</td>\n",
       "      <td>0.000000</td>\n",
       "      <td>0</td>\n",
       "      <td>1</td>\n",
       "      <td>3</td>\n",
       "      <td>0.333333</td>\n",
       "      <td>0.164399</td>\n",
       "      <td>0.497732</td>\n",
       "      <td>0.054800</td>\n",
       "      <td>0.831066</td>\n",
       "      <td>0.662131</td>\n",
       "      <td>6.238487e-07</td>\n",
       "      <td>4.203941e-07</td>\n",
       "      <td>0.000812</td>\n",
       "      <td>0.000765</td>\n",
       "      <td>4.043075e-11</td>\n",
       "      <td>0.000000e+00</td>\n",
       "      <td>1.597464e-12</td>\n",
       "      <td>1.964513e-13</td>\n",
       "      <td>152</td>\n",
       "      <td>0</td>\n",
       "      <td>1.808975e-09</td>\n",
       "      <td>1.186841e-07</td>\n",
       "      <td>1.102098e-07</td>\n",
       "      <td>3.124421e-09</td>\n",
       "      <td>-1.520787e-07</td>\n",
       "      <td>7.459194e-10</td>\n",
       "      <td>-1.328227e-19</td>\n",
       "      <td>-4.708301e-20</td>\n",
       "      <td>2.222884e-20</td>\n",
       "      <td>-1.102114e-19</td>\n",
       "      <td>3.942586e-20</td>\n",
       "      <td>4.114118e-19</td>\n",
       "      <td>6.982153e-11</td>\n",
       "      <td>1.082908e-07</td>\n",
       "      <td>4.004130e-09</td>\n",
       "      <td>1.450761e-09</td>\n",
       "      <td>-9.698193e-09</td>\n",
       "      <td>2.977524e-11</td>\n",
       "      <td>5.479613e-11</td>\n",
       "      <td>1.055681e-09</td>\n",
       "      <td>1.218227e-09</td>\n",
       "      <td>8.719012e-10</td>\n",
       "      <td>-3.939960e-06</td>\n",
       "      <td>3.660653e-12</td>\n",
       "      <td>3.833096e-14</td>\n",
       "    </tr>\n",
       "  </tbody>\n",
       "</table>\n",
       "</div>"
      ],
      "text/plain": [
       "   source_node  destination_node  ...     svd_v_d_6       svd_dot\n",
       "0       848424            784690  ...  1.727695e-12  2.083227e-17\n",
       "1       109806           1262519  ...  1.930357e-11  2.387882e-16\n",
       "2      1483149            229748  ...  1.155587e-13  6.944693e-11\n",
       "3      1179293           1844907  ... -4.977827e-21 -1.569465e-30\n",
       "4        51951           1448637  ...  3.660653e-12  3.833096e-14\n",
       "\n",
       "[5 rows x 54 columns]"
      ]
     },
     "execution_count": 103,
     "metadata": {
      "tags": []
     },
     "output_type": "execute_result"
    }
   ],
   "source": [
    "df_final_test.head()"
   ]
  },
  {
   "cell_type": "code",
   "execution_count": 104,
   "metadata": {
    "executionInfo": {
     "elapsed": 7612,
     "status": "ok",
     "timestamp": 1629298406015,
     "user": {
      "displayName": "Sagar Saha",
      "photoUrl": "https://lh3.googleusercontent.com/a-/AOh14GicLETJuVBRiET1eCxKwWcSMrdeomVWv6nl6pk9JQ=s64",
      "userId": "04756931713955304096"
     },
     "user_tz": -360
    },
    "id": "9R8PzCC0AIxZ"
   },
   "outputs": [],
   "source": [
    "\n",
    "hdf = HDFStore('storage_sample_stage4.h5')\n",
    "hdf.put('train_df',df_final_train, format='table', data_columns=True)\n",
    "hdf.put('test_df',df_final_test, format='table', data_columns=True)\n",
    "hdf.close()"
   ]
  },
  {
   "cell_type": "code",
   "execution_count": 105,
   "metadata": {
    "executionInfo": {
     "elapsed": 481,
     "status": "ok",
     "timestamp": 1629298415660,
     "user": {
      "displayName": "Sagar Saha",
      "photoUrl": "https://lh3.googleusercontent.com/a-/AOh14GicLETJuVBRiET1eCxKwWcSMrdeomVWv6nl6pk9JQ=s64",
      "userId": "04756931713955304096"
     },
     "user_tz": -360
    },
    "id": "XDl6yLbnAIxZ"
   },
   "outputs": [],
   "source": [
    "#Importing Libraries\n",
    "# please do go through this python notebook: \n",
    "import warnings\n",
    "warnings.filterwarnings(\"ignore\")\n",
    "\n",
    "import csv\n",
    "import pandas as pd#pandas to create small dataframes \n",
    "import datetime #Convert to unix time\n",
    "import time #Convert to unix time\n",
    "# if numpy is not installed already : pip3 install numpy\n",
    "import numpy as np#Do aritmetic operations on arrays\n",
    "# matplotlib: used to plot graphs\n",
    "import matplotlib\n",
    "import matplotlib.pylab as plt\n",
    "import seaborn as sns#Plots\n",
    "from matplotlib import rcParams#Size of plots  \n",
    "from sklearn.cluster import MiniBatchKMeans, KMeans#Clustering\n",
    "import math\n",
    "import pickle\n",
    "import os\n",
    "# to install xgboost: pip3 install xgboost\n",
    "import xgboost as xgb\n",
    "\n",
    "import warnings\n",
    "import networkx as nx\n",
    "import pdb\n",
    "import pickle\n",
    "from pandas import HDFStore,DataFrame\n",
    "from pandas import read_hdf\n",
    "from scipy.sparse.linalg import svds, eigs\n",
    "import gc\n",
    "from tqdm import tqdm\n",
    "from sklearn.ensemble import RandomForestClassifier\n",
    "from sklearn.metrics import f1_score"
   ]
  },
  {
   "cell_type": "code",
   "execution_count": 106,
   "metadata": {
    "colab": {
     "base_uri": "https://localhost:8080/"
    },
    "executionInfo": {
     "elapsed": 406,
     "status": "ok",
     "timestamp": 1629298584905,
     "user": {
      "displayName": "Sagar Saha",
      "photoUrl": "https://lh3.googleusercontent.com/a-/AOh14GicLETJuVBRiET1eCxKwWcSMrdeomVWv6nl6pk9JQ=s64",
      "userId": "04756931713955304096"
     },
     "user_tz": -360
    },
    "id": "K0USWdGQAIxZ",
    "outputId": "d77d6c6d-79d5-4314-f00c-6fc24f606e52"
   },
   "outputs": [
    {
     "data": {
      "text/plain": [
       "Index(['source_node', 'destination_node', 'indicator_link', 'num_followers_s',\n",
       "       'num_followers_d', 'num_followees_s', 'num_followees_d',\n",
       "       'inter_followers', 'inter_followees', 'adar_index', 'follows_back',\n",
       "       'same_comp', 'shortest_path', 'weight_in', 'weight_out', 'weight_f1',\n",
       "       'weight_f2', 'weight_f3', 'weight_f4', 'page_rank_s', 'page_rank_d',\n",
       "       'katz_s', 'katz_d', 'hubs_s', 'hubs_d', 'authorities_s',\n",
       "       'authorities_d', 'prefer_Attach_followers', 'prefer_Attach_followees',\n",
       "       'svd_u_s_1', 'svd_u_s_2', 'svd_u_s_3', 'svd_u_s_4', 'svd_u_s_5',\n",
       "       'svd_u_s_6', 'svd_u_d_1', 'svd_u_d_2', 'svd_u_d_3', 'svd_u_d_4',\n",
       "       'svd_u_d_5', 'svd_u_d_6', 'svd_v_s_1', 'svd_v_s_2', 'svd_v_s_3',\n",
       "       'svd_v_s_4', 'svd_v_s_5', 'svd_v_s_6', 'svd_v_d_1', 'svd_v_d_2',\n",
       "       'svd_v_d_3', 'svd_v_d_4', 'svd_v_d_5', 'svd_v_d_6', 'svd_dot'],\n",
       "      dtype='object')"
      ]
     },
     "execution_count": 106,
     "metadata": {
      "tags": []
     },
     "output_type": "execute_result"
    }
   ],
   "source": [
    "df_final_train.columns"
   ]
  },
  {
   "cell_type": "code",
   "execution_count": 107,
   "metadata": {
    "executionInfo": {
     "elapsed": 403,
     "status": "ok",
     "timestamp": 1629298590838,
     "user": {
      "displayName": "Sagar Saha",
      "photoUrl": "https://lh3.googleusercontent.com/a-/AOh14GicLETJuVBRiET1eCxKwWcSMrdeomVWv6nl6pk9JQ=s64",
      "userId": "04756931713955304096"
     },
     "user_tz": -360
    },
    "id": "ab9_R3ByAIxZ"
   },
   "outputs": [],
   "source": [
    "y_train = df_final_train.indicator_link\n",
    "y_test = df_final_test.indicator_link"
   ]
  },
  {
   "cell_type": "code",
   "execution_count": 108,
   "metadata": {
    "executionInfo": {
     "elapsed": 613,
     "status": "ok",
     "timestamp": 1629298592154,
     "user": {
      "displayName": "Sagar Saha",
      "photoUrl": "https://lh3.googleusercontent.com/a-/AOh14GicLETJuVBRiET1eCxKwWcSMrdeomVWv6nl6pk9JQ=s64",
      "userId": "04756931713955304096"
     },
     "user_tz": -360
    },
    "id": "9k7288HnAIxZ"
   },
   "outputs": [],
   "source": [
    "df_final_train.drop(['source_node', 'destination_node','indicator_link'],axis=1,inplace=True)\n",
    "df_final_test.drop(['source_node', 'destination_node','indicator_link'],axis=1,inplace=True)"
   ]
  },
  {
   "cell_type": "code",
   "execution_count": 109,
   "metadata": {
    "colab": {
     "base_uri": "https://localhost:8080/",
     "height": 404
    },
    "executionInfo": {
     "elapsed": 118224,
     "status": "ok",
     "timestamp": 1629298711881,
     "user": {
      "displayName": "Sagar Saha",
      "photoUrl": "https://lh3.googleusercontent.com/a-/AOh14GicLETJuVBRiET1eCxKwWcSMrdeomVWv6nl6pk9JQ=s64",
      "userId": "04756931713955304096"
     },
     "user_tz": -360
    },
    "id": "b3q1UR0gAIxZ",
    "outputId": "d2c3ce7a-c53b-4851-b256-739c98cff5e5"
   },
   "outputs": [
    {
     "name": "stdout",
     "output_type": "stream",
     "text": [
      "Estimators =  10 Train Score 0.9114473094287293 test Score 0.898144626178099\n",
      "Estimators =  50 Train Score 0.9251984956122021 test Score 0.9160949868073878\n",
      "Estimators =  100 Train Score 0.9243332085049722 test Score 0.9034107802743916\n",
      "Estimators =  250 Train Score 0.9235651614776711 test Score 0.8826827690317016\n",
      "Estimators =  450 Train Score 0.922952435292287 test Score 0.8832086898424535\n"
     ]
    },
    {
     "data": {
      "text/plain": [
       "Text(0.5, 1.0, 'Estimators vs score at depth of 5')"
      ]
     },
     "execution_count": 109,
     "metadata": {
      "tags": []
     },
     "output_type": "execute_result"
    },
    {
     "data": {
      "image/png": "[encoded data removed]",
      "text/plain": [
       "<Figure size 432x288 with 1 Axes>"
      ]
     },
     "metadata": {
      "needs_background": "light",
      "tags": []
     },
     "output_type": "display_data"
    }
   ],
   "source": [
    "estimators = [10,50,100,250,450]\n",
    "train_scores = []\n",
    "test_scores = []\n",
    "for i in estimators:\n",
    "    clf = RandomForestClassifier(bootstrap=True, class_weight=None, criterion='gini',\n",
    "            max_depth=5, max_features='auto', max_leaf_nodes=None,\n",
    "            min_impurity_decrease=0.0, min_impurity_split=None,\n",
    "            min_samples_leaf=52, min_samples_split=120,\n",
    "            min_weight_fraction_leaf=0.0, n_estimators=i, n_jobs=-1,random_state=25,verbose=0,warm_start=False)\n",
    "    clf.fit(df_final_train,y_train)\n",
    "    train_sc = f1_score(y_train,clf.predict(df_final_train))\n",
    "    test_sc = f1_score(y_test,clf.predict(df_final_test))\n",
    "    test_scores.append(test_sc)\n",
    "    train_scores.append(train_sc)\n",
    "    print('Estimators = ',i,'Train Score',train_sc,'test Score',test_sc)\n",
    "plt.plot(estimators,train_scores,label='Train Score')\n",
    "plt.plot(estimators,test_scores,label='Test Score')\n",
    "plt.xlabel('Estimators')\n",
    "plt.ylabel('Score')\n",
    "plt.title('Estimators vs score at depth of 5')"
   ]
  },
  {
   "cell_type": "code",
   "execution_count": 110,
   "metadata": {
    "colab": {
     "base_uri": "https://localhost:8080/",
     "height": 458
    },
    "executionInfo": {
     "elapsed": 200163,
     "status": "ok",
     "timestamp": 1629298912039,
     "user": {
      "displayName": "Sagar Saha",
      "photoUrl": "https://lh3.googleusercontent.com/a-/AOh14GicLETJuVBRiET1eCxKwWcSMrdeomVWv6nl6pk9JQ=s64",
      "userId": "04756931713955304096"
     },
     "user_tz": -360
    },
    "id": "DlDUtz4JAIxa",
    "outputId": "ad8f8391-324f-44b2-8006-0e37b31429a7"
   },
   "outputs": [
    {
     "name": "stdout",
     "output_type": "stream",
     "text": [
      "depth =  3 Train Score 0.9013833848955477 test Score 0.8656217882836587\n",
      "depth =  9 Train Score 0.9385892892403945 test Score 0.9044090801709512\n",
      "depth =  11 Train Score 0.9475320077394921 test Score 0.8997308644633437\n",
      "depth =  15 Train Score 0.9507451221385773 test Score 0.9177161693855126\n",
      "depth =  20 Train Score 0.9498580695408012 test Score 0.8895778678750298\n",
      "depth =  35 Train Score 0.9509304874176798 test Score 0.889991979710836\n",
      "depth =  50 Train Score 0.9509304874176798 test Score 0.889991979710836\n",
      "depth =  70 Train Score 0.9509304874176798 test Score 0.889991979710836\n",
      "depth =  130 Train Score 0.9509304874176798 test Score 0.889991979710836\n"
     ]
    },
    {
     "data": {
      "image/png": "[encoded data removed]",
      "text/plain": [
       "<Figure size 432x288 with 1 Axes>"
      ]
     },
     "metadata": {
      "needs_background": "light",
      "tags": []
     },
     "output_type": "display_data"
    }
   ],
   "source": [
    "depths = [3,9,11,15,20,35,50,70,130]\n",
    "train_scores = []\n",
    "test_scores = []\n",
    "for i in depths:\n",
    "    clf = RandomForestClassifier(bootstrap=True, class_weight=None, criterion='gini',\n",
    "            max_depth=i, max_features='auto', max_leaf_nodes=None,\n",
    "            min_impurity_decrease=0.0, min_impurity_split=None,\n",
    "            min_samples_leaf=52, min_samples_split=120,\n",
    "            min_weight_fraction_leaf=0.0, n_estimators=115, n_jobs=-1,random_state=25,verbose=0,warm_start=False)\n",
    "    clf.fit(df_final_train,y_train)\n",
    "    train_sc = f1_score(y_train,clf.predict(df_final_train))\n",
    "    test_sc = f1_score(y_test,clf.predict(df_final_test))\n",
    "    test_scores.append(test_sc)\n",
    "    train_scores.append(train_sc)\n",
    "    print('depth = ',i,'Train Score',train_sc,'test Score',test_sc)\n",
    "plt.plot(depths,train_scores,label='Train Score')\n",
    "plt.plot(depths,test_scores,label='Test Score')\n",
    "plt.xlabel('Depth')\n",
    "plt.ylabel('Score')\n",
    "plt.title('Depth vs score at depth of 5 at estimators = 115')\n",
    "plt.show()"
   ]
  },
  {
   "cell_type": "code",
   "execution_count": 112,
   "metadata": {
    "colab": {
     "base_uri": "https://localhost:8080/"
    },
    "executionInfo": {
     "elapsed": 1067991,
     "status": "ok",
     "timestamp": 1629300015935,
     "user": {
      "displayName": "Sagar Saha",
      "photoUrl": "https://lh3.googleusercontent.com/a-/AOh14GicLETJuVBRiET1eCxKwWcSMrdeomVWv6nl6pk9JQ=s64",
      "userId": "04756931713955304096"
     },
     "user_tz": -360
    },
    "id": "qs0Rv1TSAIxa",
    "outputId": "3c74fa8a-b88b-4591-a593-31b3c4c0e4ca"
   },
   "outputs": [
    {
     "name": "stdout",
     "output_type": "stream",
     "text": [
      "mean test scores [0.94775014 0.94707558 0.94395331 0.94675355 0.94952284]\n",
      "mean train scores [0.94915237 0.94875336 0.94511607 0.94842804 0.95178831]\n"
     ]
    }
   ],
   "source": [
    "from sklearn.metrics import f1_score\n",
    "from sklearn.ensemble import RandomForestClassifier\n",
    "from sklearn.metrics import f1_score\n",
    "from sklearn.model_selection import RandomizedSearchCV\n",
    "from scipy.stats import randint as sp_randint\n",
    "from scipy.stats import uniform\n",
    "\n",
    "param_dist = {\"n_estimators\":sp_randint(105,125),\n",
    "              \"max_depth\": sp_randint(10,15),\n",
    "              \"min_samples_split\": sp_randint(110,190),\n",
    "              \"min_samples_leaf\": sp_randint(25,65)}\n",
    "\n",
    "clf = RandomForestClassifier(random_state=25,n_jobs=-1)\n",
    "\n",
    "rf_random = RandomizedSearchCV(clf, param_distributions=param_dist,\n",
    "                                   n_iter=5,cv=10,scoring='f1',random_state=25,\n",
    "                                   return_train_score=True)\n",
    "\n",
    "rf_random.fit(df_final_train,y_train)\n",
    "print('mean test scores',rf_random.cv_results_['mean_test_score'])\n",
    "print('mean train scores',rf_random.cv_results_['mean_train_score'])"
   ]
  },
  {
   "cell_type": "code",
   "execution_count": 113,
   "metadata": {
    "colab": {
     "base_uri": "https://localhost:8080/"
    },
    "executionInfo": {
     "elapsed": 15,
     "status": "ok",
     "timestamp": 1629300017500,
     "user": {
      "displayName": "Sagar Saha",
      "photoUrl": "https://lh3.googleusercontent.com/a-/AOh14GicLETJuVBRiET1eCxKwWcSMrdeomVWv6nl6pk9JQ=s64",
      "userId": "04756931713955304096"
     },
     "user_tz": -360
    },
    "id": "FoVCGSnqAIxa",
    "outputId": "e27f204a-2578-4523-899e-786402975e6e"
   },
   "outputs": [
    {
     "name": "stdout",
     "output_type": "stream",
     "text": [
      "RandomForestClassifier(bootstrap=True, ccp_alpha=0.0, class_weight=None,\n",
      "                       criterion='gini', max_depth=14, max_features='auto',\n",
      "                       max_leaf_nodes=None, max_samples=None,\n",
      "                       min_impurity_decrease=0.0, min_impurity_split=None,\n",
      "                       min_samples_leaf=28, min_samples_split=111,\n",
      "                       min_weight_fraction_leaf=0.0, n_estimators=121,\n",
      "                       n_jobs=-1, oob_score=False, random_state=25, verbose=0,\n",
      "                       warm_start=False)\n"
     ]
    }
   ],
   "source": [
    "print(rf_random.best_estimator_)"
   ]
  },
  {
   "cell_type": "code",
   "execution_count": 114,
   "metadata": {
    "executionInfo": {
     "elapsed": 11,
     "status": "ok",
     "timestamp": 1629300017501,
     "user": {
      "displayName": "Sagar Saha",
      "photoUrl": "https://lh3.googleusercontent.com/a-/AOh14GicLETJuVBRiET1eCxKwWcSMrdeomVWv6nl6pk9JQ=s64",
      "userId": "04756931713955304096"
     },
     "user_tz": -360
    },
    "id": "2HROkh3mAIxa"
   },
   "outputs": [],
   "source": [
    "clf=RandomForestClassifier(bootstrap=True, class_weight=None, criterion='gini',\n",
    "            max_depth=14, max_features='auto', max_leaf_nodes=None,\n",
    "            min_impurity_decrease=0.0, min_impurity_split=None,\n",
    "            min_samples_leaf=28, min_samples_split=111,\n",
    "            min_weight_fraction_leaf=0.0, n_estimators=121, n_jobs=-1,\n",
    "            oob_score=False, random_state=25, verbose=0, warm_start=False)\n"
   ]
  },
  {
   "cell_type": "code",
   "execution_count": 115,
   "metadata": {
    "executionInfo": {
     "elapsed": 26087,
     "status": "ok",
     "timestamp": 1629300043578,
     "user": {
      "displayName": "Sagar Saha",
      "photoUrl": "https://lh3.googleusercontent.com/a-/AOh14GicLETJuVBRiET1eCxKwWcSMrdeomVWv6nl6pk9JQ=s64",
      "userId": "04756931713955304096"
     },
     "user_tz": -360
    },
    "id": "wFo90FRhAIxa"
   },
   "outputs": [],
   "source": [
    "clf.fit(df_final_train,y_train)\n",
    "y_train_pred = clf.predict(df_final_train)\n",
    "y_test_pred = clf.predict(df_final_test)"
   ]
  },
  {
   "cell_type": "code",
   "execution_count": 116,
   "metadata": {
    "colab": {
     "base_uri": "https://localhost:8080/"
    },
    "executionInfo": {
     "elapsed": 26,
     "status": "ok",
     "timestamp": 1629300043578,
     "user": {
      "displayName": "Sagar Saha",
      "photoUrl": "https://lh3.googleusercontent.com/a-/AOh14GicLETJuVBRiET1eCxKwWcSMrdeomVWv6nl6pk9JQ=s64",
      "userId": "04756931713955304096"
     },
     "user_tz": -360
    },
    "id": "QL-YE638AIxa",
    "outputId": "1d610ae2-18d2-4618-a164-bc16e079e7ad"
   },
   "outputs": [
    {
     "name": "stdout",
     "output_type": "stream",
     "text": [
      "Train f1 score 0.9531853034816703\n",
      "Test f1 score 0.9161987498675707\n"
     ]
    }
   ],
   "source": [
    "from sklearn.metrics import f1_score\n",
    "print('Train f1 score',f1_score(y_train,y_train_pred))\n",
    "print('Test f1 score',f1_score(y_test,y_test_pred))"
   ]
  },
  {
   "cell_type": "code",
   "execution_count": 117,
   "metadata": {
    "executionInfo": {
     "elapsed": 23,
     "status": "ok",
     "timestamp": 1629300043579,
     "user": {
      "displayName": "Sagar Saha",
      "photoUrl": "https://lh3.googleusercontent.com/a-/AOh14GicLETJuVBRiET1eCxKwWcSMrdeomVWv6nl6pk9JQ=s64",
      "userId": "04756931713955304096"
     },
     "user_tz": -360
    },
    "id": "dMPGj_wYAIxa"
   },
   "outputs": [],
   "source": [
    "from sklearn.metrics import confusion_matrix\n",
    "def plot_confusion_matrix(test_y, predict_y):\n",
    "    C = confusion_matrix(test_y, predict_y)\n",
    "    \n",
    "    A =(((C.T)/(C.sum(axis=1))).T)\n",
    "    \n",
    "    B =(C/C.sum(axis=0))\n",
    "    plt.figure(figsize=(20,4))\n",
    "    \n",
    "    labels = [0,1]\n",
    "    # representing A in heatmap format\n",
    "    cmap=sns.light_palette(\"blue\")\n",
    "    plt.subplot(1, 3, 1)\n",
    "    sns.heatmap(C, annot=True, cmap=cmap, fmt=\".3f\", xticklabels=labels, yticklabels=labels)\n",
    "    plt.xlabel('Predicted Class')\n",
    "    plt.ylabel('Original Class')\n",
    "    plt.title(\"Confusion matrix\")\n",
    "    \n",
    "    plt.subplot(1, 3, 2)\n",
    "    sns.heatmap(B, annot=True, cmap=cmap, fmt=\".3f\", xticklabels=labels, yticklabels=labels)\n",
    "    plt.xlabel('Predicted Class')\n",
    "    plt.ylabel('Original Class')\n",
    "    plt.title(\"Precision matrix\")\n",
    "    \n",
    "    plt.subplot(1, 3, 3)\n",
    "    # representing B in heatmap format\n",
    "    sns.heatmap(A, annot=True, cmap=cmap, fmt=\".3f\", xticklabels=labels, yticklabels=labels)\n",
    "    plt.xlabel('Predicted Class')\n",
    "    plt.ylabel('Original Class')\n",
    "    plt.title(\"Recall matrix\")\n",
    "    \n",
    "    plt.show()"
   ]
  },
  {
   "cell_type": "code",
   "execution_count": 118,
   "metadata": {
    "colab": {
     "base_uri": "https://localhost:8080/",
     "height": 417
    },
    "executionInfo": {
     "elapsed": 1796,
     "status": "ok",
     "timestamp": 1629300045353,
     "user": {
      "displayName": "Sagar Saha",
      "photoUrl": "https://lh3.googleusercontent.com/a-/AOh14GicLETJuVBRiET1eCxKwWcSMrdeomVWv6nl6pk9JQ=s64",
      "userId": "04756931713955304096"
     },
     "user_tz": -360
    },
    "id": "Age71vaBAIxa",
    "outputId": "58e914ef-4955-4927-9a8b-c33d36b3992c"
   },
   "outputs": [
    {
     "name": "stdout",
     "output_type": "stream",
     "text": [
      "Train confusion_matrix\n"
     ]
    },
    {
     "data": {
      "image/png": "[encoded data removed]",
      "text/plain": [
       "<Figure size 1440x288 with 6 Axes>"
      ]
     },
     "metadata": {
      "needs_background": "light",
      "tags": []
     },
     "output_type": "display_data"
    },
    {
     "name": "stdout",
     "output_type": "stream",
     "text": [
      "Test confusion_matrix\n"
     ]
    },
    {
     "data": {
      "image/png": "[encoded data removed]",
      "text/plain": [
       "<Figure size 1440x288 with 6 Axes>"
      ]
     },
     "metadata": {
      "needs_background": "light",
      "tags": []
     },
     "output_type": "display_data"
    }
   ],
   "source": [
    "print('Train confusion_matrix')\n",
    "plot_confusion_matrix(y_train,y_train_pred)\n",
    "print('Test confusion_matrix')\n",
    "plot_confusion_matrix(y_test,y_test_pred)"
   ]
  },
  {
   "cell_type": "code",
   "execution_count": 119,
   "metadata": {
    "colab": {
     "base_uri": "https://localhost:8080/",
     "height": 295
    },
    "executionInfo": {
     "elapsed": 17,
     "status": "ok",
     "timestamp": 1629300045356,
     "user": {
      "displayName": "Sagar Saha",
      "photoUrl": "https://lh3.googleusercontent.com/a-/AOh14GicLETJuVBRiET1eCxKwWcSMrdeomVWv6nl6pk9JQ=s64",
      "userId": "04756931713955304096"
     },
     "user_tz": -360
    },
    "id": "doVfe5AMAIxb",
    "outputId": "c555365e-76ea-4399-8442-de7355331cfa"
   },
   "outputs": [
    {
     "data": {
      "image/png": "[encoded data removed]",
      "text/plain": [
       "<Figure size 432x288 with 1 Axes>"
      ]
     },
     "metadata": {
      "needs_background": "light",
      "tags": []
     },
     "output_type": "display_data"
    }
   ],
   "source": [
    "from sklearn.metrics import roc_curve, auc\n",
    "fpr,tpr,ths = roc_curve(y_test,y_test_pred)\n",
    "auc_sc = auc(fpr, tpr)\n",
    "plt.plot(fpr, tpr, color='navy',label='ROC curve (area = %0.2f)' % auc_sc)\n",
    "plt.xlabel('False Positive Rate')\n",
    "plt.ylabel('True Positive Rate')\n",
    "plt.title('Receiver operating characteristic with test data')\n",
    "plt.legend()\n",
    "plt.show()"
   ]
  },
  {
   "cell_type": "code",
   "execution_count": 120,
   "metadata": {
    "colab": {
     "base_uri": "https://localhost:8080/",
     "height": 730
    },
    "executionInfo": {
     "elapsed": 1084,
     "status": "ok",
     "timestamp": 1629300046428,
     "user": {
      "displayName": "Sagar Saha",
      "photoUrl": "https://lh3.googleusercontent.com/a-/AOh14GicLETJuVBRiET1eCxKwWcSMrdeomVWv6nl6pk9JQ=s64",
      "userId": "04756931713955304096"
     },
     "user_tz": -360
    },
    "id": "ml904crhAIxb",
    "outputId": "591bf80a-64b8-4815-99eb-ec3c51495bb5"
   },
   "outputs": [
    {
     "data": {
      "image/png": "[encoded data removed]",
      "text/plain": [
       "<Figure size 720x864 with 1 Axes>"
      ]
     },
     "metadata": {
      "needs_background": "light",
      "tags": []
     },
     "output_type": "display_data"
    }
   ],
   "source": [
    "features = df_final_train.columns\n",
    "importances = clf.feature_importances_\n",
    "indices = (np.argsort(importances))[-25:]\n",
    "plt.figure(figsize=(10,12))\n",
    "plt.title('Feature Importances')\n",
    "plt.barh(range(len(indices)), importances[indices], color='r', align='center')\n",
    "plt.yticks(range(len(indices)), [features[i] for i in indices])\n",
    "plt.xlabel('Relative Importance')\n",
    "plt.show()"
   ]
  },
  {
   "cell_type": "markdown",
   "metadata": {
    "id": "5HbFeUQvAIxb"
   },
   "source": [
    "### Applying XGBOOST  (ASSIGNMENT)"
   ]
  },
  {
   "cell_type": "code",
   "execution_count": 121,
   "metadata": {
    "colab": {
     "base_uri": "https://localhost:8080/"
    },
    "executionInfo": {
     "elapsed": 1155618,
     "status": "ok",
     "timestamp": 1629301218811,
     "user": {
      "displayName": "Sagar Saha",
      "photoUrl": "https://lh3.googleusercontent.com/a-/AOh14GicLETJuVBRiET1eCxKwWcSMrdeomVWv6nl6pk9JQ=s64",
      "userId": "04756931713955304096"
     },
     "user_tz": -360
    },
    "id": "vtgRXbBUAIxb",
    "outputId": "d38740b6-8920-422f-bad7-31d658fde210"
   },
   "outputs": [
    {
     "name": "stdout",
     "output_type": "stream",
     "text": [
      "mean test scores [0.97849669 0.97849669 0.97774977 0.97792914 0.97792914]\n",
      "mean train scores [0.99857053 0.99857053 0.98713195 0.99081629 0.99081629]\n"
     ]
    }
   ],
   "source": [
    "import xgboost as xgb\n",
    "clf = xgb.XGBClassifier()\n",
    "param_dist = {\"n_estimators\":sp_randint(105,125),\n",
    "              \"max_depth\": sp_randint(10,15)\n",
    "              }\n",
    "model = RandomizedSearchCV(clf, param_distributions=param_dist,\n",
    "                                   n_iter=5,cv=3,scoring='f1',random_state=25,\n",
    "                                   return_train_score=True)\n",
    "\n",
    "\n",
    "model.fit(df_final_train,y_train)\n",
    "print('mean test scores',model.cv_results_['mean_test_score'])\n",
    "print('mean train scores',model.cv_results_['mean_train_score'])\n"
   ]
  },
  {
   "cell_type": "code",
   "execution_count": 122,
   "metadata": {
    "colab": {
     "base_uri": "https://localhost:8080/"
    },
    "executionInfo": {
     "elapsed": 13,
     "status": "ok",
     "timestamp": 1629301218811,
     "user": {
      "displayName": "Sagar Saha",
      "photoUrl": "https://lh3.googleusercontent.com/a-/AOh14GicLETJuVBRiET1eCxKwWcSMrdeomVWv6nl6pk9JQ=s64",
      "userId": "04756931713955304096"
     },
     "user_tz": -360
    },
    "id": "LX9ZkczPAIxb",
    "outputId": "f77f1d80-5928-4734-95a6-85f8399fe688"
   },
   "outputs": [
    {
     "name": "stdout",
     "output_type": "stream",
     "text": [
      "XGBClassifier(base_score=0.5, booster='gbtree', colsample_bylevel=1,\n",
      "              colsample_bynode=1, colsample_bytree=1, gamma=0,\n",
      "              learning_rate=0.1, max_delta_step=0, max_depth=14,\n",
      "              min_child_weight=1, missing=None, n_estimators=120, n_jobs=1,\n",
      "              nthread=None, objective='binary:logistic', random_state=0,\n",
      "              reg_alpha=0, reg_lambda=1, scale_pos_weight=1, seed=None,\n",
      "              silent=None, subsample=1, verbosity=1)\n"
     ]
    }
   ],
   "source": [
    "print(model.best_estimator_)"
   ]
  },
  {
   "cell_type": "code",
   "execution_count": 123,
   "metadata": {
    "executionInfo": {
     "elapsed": 3,
     "status": "ok",
     "timestamp": 1629301218811,
     "user": {
      "displayName": "Sagar Saha",
      "photoUrl": "https://lh3.googleusercontent.com/a-/AOh14GicLETJuVBRiET1eCxKwWcSMrdeomVWv6nl6pk9JQ=s64",
      "userId": "04756931713955304096"
     },
     "user_tz": -360
    },
    "id": "tJTDBKkhAIxb"
   },
   "outputs": [],
   "source": [
    "clf=xgb.XGBClassifier(base_score=0.5, booster='gbtree', colsample_bylevel=1,\n",
    "       colsample_bytree=1, gamma=0, learning_rate=0.1, max_delta_step=0,\n",
    "       max_depth=10, min_child_weight=1, missing=None, n_estimators=109,\n",
    "       n_jobs=1, nthread=None, objective='binary:logistic', random_state=0,\n",
    "       reg_alpha=0, reg_lambda=1, scale_pos_weight=1, seed=None,\n",
    "       silent=True, subsample=1)"
   ]
  },
  {
   "cell_type": "code",
   "execution_count": 124,
   "metadata": {
    "executionInfo": {
     "elapsed": 90859,
     "status": "ok",
     "timestamp": 1629301309667,
     "user": {
      "displayName": "Sagar Saha",
      "photoUrl": "https://lh3.googleusercontent.com/a-/AOh14GicLETJuVBRiET1eCxKwWcSMrdeomVWv6nl6pk9JQ=s64",
      "userId": "04756931713955304096"
     },
     "user_tz": -360
    },
    "id": "Fhsn8GVxAIxb"
   },
   "outputs": [],
   "source": [
    "clf.fit(df_final_train,y_train)\n",
    "y_train_pred = clf.predict(df_final_train)\n",
    "y_test_pred = clf.predict(df_final_test)"
   ]
  },
  {
   "cell_type": "code",
   "execution_count": 125,
   "metadata": {
    "colab": {
     "base_uri": "https://localhost:8080/"
    },
    "executionInfo": {
     "elapsed": 38,
     "status": "ok",
     "timestamp": 1629301309669,
     "user": {
      "displayName": "Sagar Saha",
      "photoUrl": "https://lh3.googleusercontent.com/a-/AOh14GicLETJuVBRiET1eCxKwWcSMrdeomVWv6nl6pk9JQ=s64",
      "userId": "04756931713955304096"
     },
     "user_tz": -360
    },
    "id": "CwwiG46kAIxb",
    "outputId": "dd528ed2-0138-4a8d-dc6c-390669366a4b"
   },
   "outputs": [
    {
     "name": "stdout",
     "output_type": "stream",
     "text": [
      "Train f1 score 0.9824384029764733\n",
      "Test f1 score 0.9305944204188925\n"
     ]
    }
   ],
   "source": [
    "from sklearn.metrics import f1_score\n",
    "print('Train f1 score',f1_score(y_train,y_train_pred))\n",
    "print('Test f1 score',f1_score(y_test,y_test_pred))"
   ]
  },
  {
   "cell_type": "code",
   "execution_count": 126,
   "metadata": {
    "colab": {
     "base_uri": "https://localhost:8080/",
     "height": 417
    },
    "executionInfo": {
     "elapsed": 2356,
     "status": "ok",
     "timestamp": 1629301312002,
     "user": {
      "displayName": "Sagar Saha",
      "photoUrl": "https://lh3.googleusercontent.com/a-/AOh14GicLETJuVBRiET1eCxKwWcSMrdeomVWv6nl6pk9JQ=s64",
      "userId": "04756931713955304096"
     },
     "user_tz": -360
    },
    "id": "12mE-BgPAIxc",
    "outputId": "54ab8809-0a5d-4a7a-e3b6-0ec592c171ba"
   },
   "outputs": [
    {
     "name": "stdout",
     "output_type": "stream",
     "text": [
      "Train confusion_matrix\n"
     ]
    },
    {
     "data": {
      "image/png": "[encoded data removed]",
      "text/plain": [
       "<Figure size 1440x288 with 6 Axes>"
      ]
     },
     "metadata": {
      "needs_background": "light",
      "tags": []
     },
     "output_type": "display_data"
    },
    {
     "name": "stdout",
     "output_type": "stream",
     "text": [
      "Test confusion_matrix\n"
     ]
    },
    {
     "data": {
      "image/png": "[encoded data removed]",
      "text/plain": [
       "<Figure size 1440x288 with 6 Axes>"
      ]
     },
     "metadata": {
      "needs_background": "light",
      "tags": []
     },
     "output_type": "display_data"
    }
   ],
   "source": [
    "print('Train confusion_matrix')\n",
    "plot_confusion_matrix(y_train,y_train_pred)\n",
    "print('Test confusion_matrix')\n",
    "plot_confusion_matrix(y_test,y_test_pred)"
   ]
  },
  {
   "cell_type": "code",
   "execution_count": 127,
   "metadata": {
    "colab": {
     "base_uri": "https://localhost:8080/",
     "height": 295
    },
    "executionInfo": {
     "elapsed": 13,
     "status": "ok",
     "timestamp": 1629301312003,
     "user": {
      "displayName": "Sagar Saha",
      "photoUrl": "https://lh3.googleusercontent.com/a-/AOh14GicLETJuVBRiET1eCxKwWcSMrdeomVWv6nl6pk9JQ=s64",
      "userId": "04756931713955304096"
     },
     "user_tz": -360
    },
    "id": "gSaEy6lOAIxc",
    "outputId": "fe94534f-48bb-46ff-e8ef-5a2465c0b7da"
   },
   "outputs": [
    {
     "data": {
      "image/png": "[encoded data removed]",
      "text/plain": [
       "<Figure size 432x288 with 1 Axes>"
      ]
     },
     "metadata": {
      "needs_background": "light",
      "tags": []
     },
     "output_type": "display_data"
    }
   ],
   "source": [
    "from sklearn.metrics import roc_curve, auc\n",
    "fpr,tpr,ths = roc_curve(y_test,y_test_pred)\n",
    "auc_sc = auc(fpr, tpr)\n",
    "plt.plot(fpr, tpr, color='navy',label='ROC curve (area = %0.2f)' % auc_sc)\n",
    "plt.xlabel('False Positive Rate')\n",
    "plt.ylabel('True Positive Rate')\n",
    "plt.title('Receiver operating characteristic with test data')\n",
    "plt.legend()\n",
    "plt.show()"
   ]
  },
  {
   "cell_type": "code",
   "execution_count": 128,
   "metadata": {
    "colab": {
     "base_uri": "https://localhost:8080/",
     "height": 730
    },
    "executionInfo": {
     "elapsed": 13,
     "status": "ok",
     "timestamp": 1629301312004,
     "user": {
      "displayName": "Sagar Saha",
      "photoUrl": "https://lh3.googleusercontent.com/a-/AOh14GicLETJuVBRiET1eCxKwWcSMrdeomVWv6nl6pk9JQ=s64",
      "userId": "04756931713955304096"
     },
     "user_tz": -360
    },
    "id": "wVbAak5yAIxc",
    "outputId": "af6f8790-89bb-4a0d-ac08-c4e1b9778aba"
   },
   "outputs": [
    {
     "data": {
      "image/png": "[encoded data removed]",
      "text/plain": [
       "<Figure size 720x864 with 1 Axes>"
      ]
     },
     "metadata": {
      "needs_background": "light",
      "tags": []
     },
     "output_type": "display_data"
    }
   ],
   "source": [
    "features = df_final_train.columns\n",
    "importances = clf.feature_importances_\n",
    "indices = (np.argsort(importances))[-25:]\n",
    "plt.figure(figsize=(10,12))\n",
    "plt.title('Feature Importances')\n",
    "plt.barh(range(len(indices)), importances[indices], color='r', align='center')\n",
    "plt.yticks(range(len(indices)), [features[i] for i in indices])\n",
    "plt.xlabel('Relative Importance')\n",
    "plt.show()"
   ]
  },
  {
   "cell_type": "markdown",
   "metadata": {
    "id": "FVqu222jAIxc"
   },
   "source": [
    "### Procedure and Observation"
   ]
  },
  {
   "cell_type": "code",
   "execution_count": 129,
   "metadata": {
    "colab": {
     "base_uri": "https://localhost:8080/"
    },
    "executionInfo": {
     "elapsed": 12,
     "status": "ok",
     "timestamp": 1629301312004,
     "user": {
      "displayName": "Sagar Saha",
      "photoUrl": "https://lh3.googleusercontent.com/a-/AOh14GicLETJuVBRiET1eCxKwWcSMrdeomVWv6nl6pk9JQ=s64",
      "userId": "04756931713955304096"
     },
     "user_tz": -360
    },
    "id": "i7ps97ZYAIxc",
    "outputId": "48fe5afa-9907-4f86-e2c1-9ae614900809"
   },
   "outputs": [
    {
     "name": "stdout",
     "output_type": "stream",
     "text": [
      "+---------------+--------------+-----------+----------------+---------------+\n",
      "|     Model     | n_estimators | max_depth | Train f1-Score | Test f1-Score |\n",
      "+---------------+--------------+-----------+----------------+---------------+\n",
      "| Random Forest |     121      |     14    |     0.964      |     0.921     |\n",
      "|    XGBOOST    |     109      |     10    |     0.992      |     0.926     |\n",
      "+---------------+--------------+-----------+----------------+---------------+\n"
     ]
    }
   ],
   "source": [
    "from prettytable import PrettyTable \n",
    "x = PrettyTable()\n",
    "x.field_names = [\"Model\", \"n_estimators\", \"max_depth\", \"Train f1-Score\",\"Test f1-Score\"]\n",
    "x.add_row(['Random Forest','121','14','0.964','0.921'])\n",
    "x.add_row(['XGBOOST','109','10','0.992','0.926'])\n",
    "print(x)\n"
   ]
  }
 ],
 "metadata": {
  "colab": {
   "collapsed_sections": [],
   "name": "fb_graph_link_prediction.ipynb",
   "provenance": []
  },
  "kernelspec": {
   "display_name": "Python 3",
   "language": "python",
   "name": "python3"
  },
  "language_info": {
   "codemirror_mode": {
    "name": "ipython",
    "version": 3
   },
   "file_extension": ".py",
   "mimetype": "text/x-python",
   "name": "python",
   "nbconvert_exporter": "python",
   "pygments_lexer": "ipython3",
   "version": "3.6.13"
  }
 },
 "nbformat": 4,
 "nbformat_minor": 1
}
