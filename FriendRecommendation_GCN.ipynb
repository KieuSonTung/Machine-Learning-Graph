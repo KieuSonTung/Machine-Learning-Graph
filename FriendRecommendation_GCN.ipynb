{
 "nbformat": 4,
 "nbformat_minor": 0,
 "metadata": {
  "colab": {
   "provenance": []
  },
  "kernelspec": {
   "name": "python3",
   "display_name": "Python 3"
  },
  "language_info": {
   "name": "python"
  }
 },
 "cells": [
  {
   "cell_type": "markdown",
   "metadata": {
    "id": "Y7wEi9LbwdZm"
   },
   "source": [
    "# Link Prediction using DGL\n",
    "\n",
    "This notebook uses the Python Library DGL for friend recommendation. \n",
    "\n",
    "Some of the code is adapted from the following tutorial for link prediction: https://docs.dgl.ai/en/0.6.x/tutorials/blitz/4_link_predict.html#sphx-glr-tutorials-blitz-4-link-predict-py"
   ]
  },
  {
   "cell_type": "code",
   "metadata": {
    "id": "xgX74djxx08W",
    "colab": {
     "base_uri": "https://localhost:8080/"
    },
    "outputId": "a29d8e9f-047a-4831-d649-a1be96878d58"
   },
   "source": [
    "import numpy as np\n",
    "import torch\n",
    "import torch.nn as nn\n",
    "import torch.nn.functional as F\n",
    "import itertools\n",
    "import numpy as np\n",
    "import scipy.sparse as sp\n",
    "from time import time\n",
    "import pandas as pd\n",
    "import dgl\n",
    "import os"
   ],
   "execution_count": 1,
   "outputs": []
  },
  {
   "cell_type": "markdown",
   "metadata": {
    "id": "X3Ru0L4qtsht"
   },
   "source": [
    "## Dataset Loading\n",
    "\n",
    "We use the [Facebook social circles](https://snap.stanford.edu/data/ego-Facebook.html) dataset, available at the Stanford SNAP website, for friend recommendation."
   ]
  },
  {
   "cell_type": "markdown",
   "metadata": {
    "id": "2QHeHXzNLKSp"
   },
   "source": [
    "\n",
    "Obviously, we need to load the friendship (edges) into the graph. The files also provide user features information, represented by a 224-dimensional vector of 0s and 1s, so we load that as well. For the simplicity of this tutorial, we will only use one ego network (e.g. User 0's network)."
   ]
  },
  {
   "cell_type": "code",
   "execution_count": 2,
   "outputs": [
    {
     "data": {
      "text/plain": "array(['0', '107', '1684', '1912', '3437', '348', '3980', '414', '686',\n       '698'], dtype=object)"
     },
     "execution_count": 2,
     "metadata": {},
     "output_type": "execute_result"
    }
   ],
   "source": [
    "def get_user(x):\n",
    "    return x[0]\n",
    "\n",
    "user_data = pd.Series(np.char.split(np.array(os.listdir('./facebook_data')), sep='.'))\n",
    "user_ls = np.unique(np.array(user_data.apply(get_user)))\n",
    "user_ls"
   ],
   "metadata": {
    "collapsed": false
   }
  },
  {
   "cell_type": "code",
   "metadata": {
    "id": "CURrSLeNPTmV",
    "colab": {
     "base_uri": "https://localhost:8080/"
    },
    "outputId": "28a64487-ee94-49cd-d53d-95e42522e25d"
   },
   "source": [
    "# user id, which correspond to file name prefix\n",
    "USER = 0\n",
    "\n",
    "file_edges = f'facebook_data/{USER}.edges'\n",
    "file_feat = f'facebook_data/{USER}.feat'\n",
    "\n",
    "edges_u, edges_v = [], []\n",
    "\n",
    "with open(file_edges) as f:  # load edges file\n",
    "    for line in f:\n",
    "        e1, e2 = tuple(int(x) - 1 for x in line.split())\n",
    "        edges_u.append(e1)\n",
    "        edges_v.append(e2)\n",
    "\n",
    "edges_u, edges_v = np.array(edges_u), np.array(edges_v)\n",
    "\n",
    "num_nodes = 0  # assumes nodes are sequential\n",
    "feats = []  # node features\n",
    "\n",
    "with open(file_feat) as f:  # load node features file\n",
    "    for line in f:\n",
    "        num_nodes += 1\n",
    "        a = [int(x) for x in line.split()[1:]]\n",
    "        feats.append(torch.tensor(a, dtype=torch.float))\n",
    "\n",
    "feats = torch.stack(feats)\n",
    "# print(feats.shape)\n",
    "\n",
    "g = dgl.graph((edges_u, edges_v))  # construct graph\n",
    "g.ndata['feat'] = feats\n",
    "\n",
    "g"
   ],
   "execution_count": 3,
   "outputs": [
    {
     "data": {
      "text/plain": "Graph(num_nodes=347, num_edges=5038,\n      ndata_schemes={'feat': Scheme(shape=(224,), dtype=torch.float32)}\n      edata_schemes={})"
     },
     "execution_count": 3,
     "metadata": {},
     "output_type": "execute_result"
    }
   ]
  },
  {
   "cell_type": "markdown",
   "metadata": {
    "id": "vWlsfnO8vhuT"
   },
   "source": [
    "## Graph Visualization\n",
    "\n",
    "We use the networkx library for visualizing the friendship relationships. There are hundreds of nodes (not shown), and thousands of links, so it can seem a bit messy when the graph is drawn."
   ]
  },
  {
   "cell_type": "code",
   "metadata": {
    "id": "toeZj52TVDeR",
    "colab": {
     "base_uri": "https://localhost:8080/",
     "height": 319
    },
    "outputId": "116c13b6-8815-44cc-b38b-0c9960257528"
   },
   "source": [
    "import networkx as nx\n",
    "\n",
    "G = nx.Graph()\n",
    "G.add_nodes_from(set(edges_u + edges_v))\n",
    "G.add_edges_from(zip(edges_u, edges_v))\n",
    "\n",
    "nx.draw(G, node_size=0)"
   ],
   "execution_count": 4,
   "outputs": [
    {
     "data": {
      "text/plain": "<Figure size 640x480 with 1 Axes>",
      "image/png": "[encoded data removed]"
     },
     "metadata": {},
     "output_type": "display_data"
    }
   ]
  },
  {
   "cell_type": "markdown",
   "metadata": {
    "id": "dgwhgCwJycku"
   },
   "source": [
    "## Training/testing data construction\n",
    "\n",
    "Once we have the graph constructed, we can split it into the training set and testing set. We omit the validation set for simplicity.\n",
    "\n",
    "We construct a graph of \"negative edges\"; whenever there is a lack of an edges between two nodes `u` and `v` in the original graph, there is a corresponding edge in the negative graph. This is needed for telling the training algorithm what the \"negative examples\" are.\n",
    "\n",
    "We randomly split 30% of links for testing, and leave 70% for training."
   ]
  },
  {
   "cell_type": "code",
   "metadata": {
    "id": "DL6aBJg2xIoc"
   },
   "source": [
    "TEST_RATIO = 0.3\n",
    "\n",
    "u, v = g.edges()\n",
    "\n",
    "eids = np.arange(g.number_of_edges())\n",
    "eids = np.random.permutation(eids)\n",
    "test_size = int(len(eids) * TEST_RATIO)\n",
    "train_size = g.number_of_edges() - test_size\n",
    "\n",
    "# get positive edges for test and train\n",
    "test_pos_u, test_pos_v = u[eids[:test_size]], v[eids[:test_size]]\n",
    "train_pos_u, train_pos_v = u[eids[test_size:]], v[eids[test_size:]]\n",
    "\n",
    "# Find all negative edges\n",
    "adj = sp.coo_matrix((np.ones(len(u)), (u.numpy(), v.numpy())))\n",
    "adj_neg = 1 - adj.todense() - np.eye(g.number_of_nodes())\n",
    "neg_u, neg_v = np.where(adj_neg != 0)\n",
    "\n",
    "# split the negative edges for training and testing \n",
    "neg_eids = np.random.choice(len(neg_u), g.number_of_edges())\n",
    "test_neg_u, test_neg_v = neg_u[neg_eids[:test_size]], neg_v[neg_eids[:test_size]]\n",
    "train_neg_u, train_neg_v = neg_u[neg_eids[test_size:]], neg_v[neg_eids[test_size:]]\n",
    "\n",
    "# construct positive and negative graphs for training and testing\n",
    "train_pos_g = dgl.graph((train_pos_u, train_pos_v), num_nodes=g.number_of_nodes())\n",
    "train_neg_g = dgl.graph((train_neg_u, train_neg_v), num_nodes=g.number_of_nodes())\n",
    "\n",
    "test_pos_g = dgl.graph((test_pos_u, test_pos_v), num_nodes=g.number_of_nodes())\n",
    "test_neg_g = dgl.graph((test_neg_u, test_neg_v), num_nodes=g.number_of_nodes())\n",
    "\n",
    "# training graph\n",
    "train_g = dgl.remove_edges(g, eids[:test_size])\n",
    "train_g = dgl.add_self_loop(train_g)"
   ],
   "execution_count": 5,
   "outputs": []
  },
  {
   "cell_type": "markdown",
   "metadata": {
    "id": "nPYzM9IY5gg4"
   },
   "source": [
    "## Model definition\n",
    "\n",
    "Here we build two models from the existing implementation in the DGL library. Both models consists of 2 convolutional layers. \n",
    "\n",
    "`GCN` is a standard graph convolutional network, and serves as a baseline. `GraphSAGE` is a more advanced and powerful network that we're testing.\n",
    "\n",
    "We also define the `DotPredictor`, which helps to predict the likelihood of whether an edge exists or not, by taking the dot product of two nodes. "
   ]
  },
  {
   "cell_type": "code",
   "metadata": {
    "id": "UqkZIiV_xLSs"
   },
   "source": [
    "from dgl.nn import SAGEConv\n",
    "from dgl.nn import GraphConv\n",
    "\n",
    "# ----------- create model -------------- #\n",
    "# build an ordinary GCN model\n",
    "class GCN(nn.Module):\n",
    "    def __init__(self, in_feats, h_feats):\n",
    "        super(GCN, self).__init__()\n",
    "        self.conv1 = GraphConv(in_feats, h_feats)\n",
    "        self.conv2 = GraphConv(h_feats, h_feats)\n",
    "\n",
    "    def forward(self, g, in_feat):\n",
    "        h = self.conv1(g, in_feat)\n",
    "        h = F.relu(h)\n",
    "        h = self.conv2(g, h)\n",
    "        return h\n",
    "\n",
    "\n",
    "# build a two-layer GraphSAGE model\n",
    "class GraphSAGE(nn.Module):\n",
    "    def __init__(self, in_feats, h_feats):\n",
    "        super(GraphSAGE, self).__init__()\n",
    "        self.conv1 = SAGEConv(in_feats, h_feats, 'mean')\n",
    "        self.conv2 = SAGEConv(h_feats, h_feats, 'mean')\n",
    "\n",
    "    def forward(self, g, in_feat):\n",
    "        h = self.conv1(g, in_feat)\n",
    "        h = F.relu(h)\n",
    "        h = self.conv2(g, h)\n",
    "        return h\n",
    "\n",
    "\n",
    "import dgl.function as fn\n",
    "\n",
    "class DotPredictor(nn.Module):\n",
    "    def forward(self, g, h):\n",
    "        with g.local_scope():\n",
    "            g.ndata['h'] = h\n",
    "            # Compute a new edge feature named 'score' by a dot-product between the\n",
    "            # source node feature 'h' and destination node feature 'h'.\n",
    "            g.apply_edges(fn.u_dot_v('h', 'h', 'score'))\n",
    "            # u_dot_v returns a 1-element vector for each edge so you need to squeeze it.\n",
    "            return g.edata['score'][:, 0]\n"
   ],
   "execution_count": 6,
   "outputs": []
  },
  {
   "cell_type": "markdown",
   "metadata": {
    "id": "CdTqfsc7tfsQ"
   },
   "source": [
    "## Training and testing pipeline"
   ]
  },
  {
   "cell_type": "code",
   "metadata": {
    "id": "nzG_l64dxQ5S"
   },
   "source": [
    "def pipeline(model_name='GCN', hidden_size=16):\n",
    "    # model_name can be GCN or SAGE\n",
    "    # hidden_size is the size of the hidden layer in the neural net\n",
    "    if model_name == 'GCN':\n",
    "        model = GCN(train_g.ndata['feat'].shape[1], hidden_size)\n",
    "    elif model_name == 'SAGE':\n",
    "        model = GraphSAGE(train_g.ndata['feat'].shape[1], hidden_size)\n",
    "        \n",
    "    pred = DotPredictor()\n",
    "\n",
    "    def compute_loss(pos_score, neg_score):  # computes the loss based on binary cross entropy\n",
    "        scores = torch.cat([pos_score, neg_score])\n",
    "        labels = torch.cat([torch.ones(pos_score.shape[0]), torch.zeros(neg_score.shape[0])])\n",
    "\n",
    "        print('Scores:', scores)\n",
    "        print('Labels:', labels)\n",
    "        return F.binary_cross_entropy_with_logits(scores, labels)\n",
    "\n",
    "    def compute_auc(pos_score, neg_score):  # computes AUC (Area-Under-Curve) score\n",
    "        scores = torch.cat([pos_score, neg_score]).numpy()\n",
    "        labels = torch.cat(\n",
    "            [torch.ones(pos_score.shape[0]), torch.zeros(neg_score.shape[0])]).numpy()\n",
    "        return roc_auc_score(labels, scores)\n",
    "\n",
    "\n",
    "    # ----------- set up loss and optimizer -------------- #\n",
    "    # in this case, loss will in training loop\n",
    "    optimizer = torch.optim.Adam(itertools.chain(model.parameters(), pred.parameters()), lr=0.01)\n",
    "\n",
    "    # ----------- training -------------------------------- #\n",
    "    all_logits = []\n",
    "    for e in range(100):\n",
    "        # forward\n",
    "        h = model(train_g, train_g.ndata['feat'])  # get node embeddings\n",
    "        pos_score = pred(train_pos_g, h)\n",
    "        neg_score = pred(train_neg_g, h)\n",
    "        loss = compute_loss(pos_score, neg_score)\n",
    "\n",
    "        # backward\n",
    "        optimizer.zero_grad()\n",
    "        loss.backward()\n",
    "        optimizer.step()\n",
    "\n",
    "        if e % 5 == 0:\n",
    "            print('In epoch {}, loss: {}'.format(e, loss))\n",
    "\n",
    "    # ----------- test and check results ---------------- #\n",
    "    from sklearn.metrics import roc_auc_score\n",
    "    with torch.no_grad():\n",
    "        pos_score = pred(test_pos_g, h)\n",
    "        neg_score = pred(test_neg_g, h)\n",
    "        print('AUC', compute_auc(pos_score, neg_score))\n",
    "    \n",
    "    return h  # return node embeddings\n"
   ],
   "execution_count": 7,
   "outputs": []
  },
  {
   "cell_type": "markdown",
   "metadata": {
    "id": "GnMhM7PTwwXk"
   },
   "source": [
    "### Training and testing GCN:"
   ]
  },
  {
   "cell_type": "code",
   "metadata": {
    "colab": {
     "base_uri": "https://localhost:8080/"
    },
    "id": "o2a67Jr2_CpI",
    "outputId": "0b0f5f9b-6495-44f3-ce71-9988f9fbee60"
   },
   "source": [
    "h = pipeline(\"GCN\")"
   ],
   "execution_count": 8,
   "outputs": [
    {
     "name": "stdout",
     "output_type": "stream",
     "text": [
      "Scores: tensor([0.1035, 0.1435, 0.0843,  ..., 0.0189, 0.0275, 0.0589],\n",
      "       grad_fn=<CatBackward0>)\n",
      "Labels: tensor([1., 1., 1.,  ..., 0., 0., 0.])\n",
      "In epoch 0, loss: 0.6874449253082275\n",
      "Scores: tensor([0.8192, 0.9109, 0.4737,  ..., 0.1298, 0.1367, 0.3215],\n",
      "       grad_fn=<CatBackward0>)\n",
      "Labels: tensor([1., 1., 1.,  ..., 0., 0., 0.])\n",
      "Scores: tensor([2.4257, 2.5819, 1.3865,  ..., 0.3597, 0.3136, 0.8315],\n",
      "       grad_fn=<CatBackward0>)\n",
      "Labels: tensor([1., 1., 1.,  ..., 0., 0., 0.])\n",
      "Scores: tensor([2.2778, 2.3517, 1.0507,  ..., 0.3057, 0.2340, 0.5859],\n",
      "       grad_fn=<CatBackward0>)\n",
      "Labels: tensor([1., 1., 1.,  ..., 0., 0., 0.])\n",
      "Scores: tensor([1.9235, 1.8989, 0.6141,  ..., 0.2208, 0.1310, 0.2827],\n",
      "       grad_fn=<CatBackward0>)\n",
      "Labels: tensor([1., 1., 1.,  ..., 0., 0., 0.])\n",
      "Scores: tensor([1.9825, 1.8461, 0.3450,  ..., 0.1894, 0.0518, 0.0868],\n",
      "       grad_fn=<CatBackward0>)\n",
      "Labels: tensor([1., 1., 1.,  ..., 0., 0., 0.])\n",
      "In epoch 5, loss: 0.5765877366065979\n",
      "Scores: tensor([ 2.5613,  2.2790,  0.2046,  ...,  0.2126, -0.0062, -0.0577],\n",
      "       grad_fn=<CatBackward0>)\n",
      "Labels: tensor([1., 1., 1.,  ..., 0., 0., 0.])\n",
      "Scores: tensor([ 3.5164,  3.0559,  0.1515,  ...,  0.2702, -0.0662, -0.2330],\n",
      "       grad_fn=<CatBackward0>)\n",
      "Labels: tensor([1., 1., 1.,  ..., 0., 0., 0.])\n",
      "Scores: tensor([ 4.4375,  3.7829,  0.0615,  ...,  0.3143, -0.1579, -0.5365],\n",
      "       grad_fn=<CatBackward0>)\n",
      "Labels: tensor([1., 1., 1.,  ..., 0., 0., 0.])\n",
      "Scores: tensor([ 4.7893,  3.9621, -0.2011,  ...,  0.2891, -0.2817, -1.0067],\n",
      "       grad_fn=<CatBackward0>)\n",
      "Labels: tensor([1., 1., 1.,  ..., 0., 0., 0.])\n",
      "Scores: tensor([ 4.6772,  3.7503, -0.4927,  ...,  0.2232, -0.4038, -1.4891],\n",
      "       grad_fn=<CatBackward0>)\n",
      "Labels: tensor([1., 1., 1.,  ..., 0., 0., 0.])\n",
      "In epoch 10, loss: 0.495160311460495\n",
      "Scores: tensor([ 4.6225,  3.6421, -0.6847,  ...,  0.1811, -0.4969, -1.8572],\n",
      "       grad_fn=<CatBackward0>)\n",
      "Labels: tensor([1., 1., 1.,  ..., 0., 0., 0.])\n",
      "Scores: tensor([ 4.9650,  3.9188, -0.8026,  ...,  0.1944, -0.5662, -2.0952],\n",
      "       grad_fn=<CatBackward0>)\n",
      "Labels: tensor([1., 1., 1.,  ..., 0., 0., 0.])\n",
      "Scores: tensor([ 5.4209,  4.3293, -0.8483,  ...,  0.2348, -0.6047, -2.2046],\n",
      "       grad_fn=<CatBackward0>)\n",
      "Labels: tensor([1., 1., 1.,  ..., 0., 0., 0.])\n",
      "Scores: tensor([ 5.5834,  4.5059, -0.8489,  ...,  0.2499, -0.6098, -2.1937],\n",
      "       grad_fn=<CatBackward0>)\n",
      "Labels: tensor([1., 1., 1.,  ..., 0., 0., 0.])\n",
      "Scores: tensor([ 5.3268,  4.3228, -0.8342,  ...,  0.2329, -0.5832, -2.1088],\n",
      "       grad_fn=<CatBackward0>)\n",
      "Labels: tensor([1., 1., 1.,  ..., 0., 0., 0.])\n",
      "In epoch 15, loss: 0.48069313168525696\n",
      "Scores: tensor([ 4.8367,  3.9218, -0.7807,  ...,  0.2016, -0.5378, -1.9784],\n",
      "       grad_fn=<CatBackward0>)\n",
      "Labels: tensor([1., 1., 1.,  ..., 0., 0., 0.])\n",
      "Scores: tensor([ 4.4222,  3.5763, -0.6944,  ...,  0.1754, -0.4935, -1.8590],\n",
      "       grad_fn=<CatBackward0>)\n",
      "Labels: tensor([1., 1., 1.,  ..., 0., 0., 0.])\n",
      "Scores: tensor([ 4.2655,  3.4443, -0.6146,  ...,  0.1666, -0.4628, -1.7819],\n",
      "       grad_fn=<CatBackward0>)\n",
      "Labels: tensor([1., 1., 1.,  ..., 0., 0., 0.])\n",
      "Scores: tensor([ 4.3804,  3.5387, -0.5564,  ...,  0.1749, -0.4494, -1.7556],\n",
      "       grad_fn=<CatBackward0>)\n",
      "Labels: tensor([1., 1., 1.,  ..., 0., 0., 0.])\n",
      "Scores: tensor([ 4.6535,  3.7651, -0.5068,  ...,  0.1918, -0.4482, -1.7701],\n",
      "       grad_fn=<CatBackward0>)\n",
      "Labels: tensor([1., 1., 1.,  ..., 0., 0., 0.])\n",
      "In epoch 20, loss: 0.4735040068626404\n",
      "Scores: tensor([ 4.9070,  3.9680, -0.4491,  ...,  0.2035, -0.4547, -1.8116],\n",
      "       grad_fn=<CatBackward0>)\n",
      "Labels: tensor([1., 1., 1.,  ..., 0., 0., 0.])\n",
      "Scores: tensor([ 4.9977,  4.0231, -0.3699,  ...,  0.1986, -0.4656, -1.8672],\n",
      "       grad_fn=<CatBackward0>)\n",
      "Labels: tensor([1., 1., 1.,  ..., 0., 0., 0.])\n",
      "Scores: tensor([ 4.9049,  3.9157, -0.2776,  ...,  0.1773, -0.4785, -1.9290],\n",
      "       grad_fn=<CatBackward0>)\n",
      "Labels: tensor([1., 1., 1.,  ..., 0., 0., 0.])\n",
      "Scores: tensor([ 4.7372,  3.7428, -0.1924,  ...,  0.1499, -0.4922, -1.9915],\n",
      "       grad_fn=<CatBackward0>)\n",
      "Labels: tensor([1., 1., 1.,  ..., 0., 0., 0.])\n",
      "Scores: tensor([ 4.6444,  3.6281, -0.1530,  ...,  0.1289, -0.5087, -2.0517],\n",
      "       grad_fn=<CatBackward0>)\n",
      "Labels: tensor([1., 1., 1.,  ..., 0., 0., 0.])\n",
      "In epoch 25, loss: 0.46371251344680786\n",
      "Scores: tensor([ 4.7086,  3.6456, -0.1636,  ...,  0.1213, -0.5295, -2.1065],\n",
      "       grad_fn=<CatBackward0>)\n",
      "Labels: tensor([1., 1., 1.,  ..., 0., 0., 0.])\n",
      "Scores: tensor([ 4.9064,  3.7819, -0.1802,  ...,  0.1262, -0.5526, -2.1589],\n",
      "       grad_fn=<CatBackward0>)\n",
      "Labels: tensor([1., 1., 1.,  ..., 0., 0., 0.])\n",
      "Scores: tensor([ 5.1157,  3.9458, -0.1485,  ...,  0.1360, -0.5745, -2.2023],\n",
      "       grad_fn=<CatBackward0>)\n",
      "Labels: tensor([1., 1., 1.,  ..., 0., 0., 0.])\n",
      "Scores: tensor([ 5.2004,  4.0186, -0.0675,  ...,  0.1408, -0.5908, -2.2142],\n",
      "       grad_fn=<CatBackward0>)\n",
      "Labels: tensor([1., 1., 1.,  ..., 0., 0., 0.])\n",
      "Scores: tensor([ 5.1255,  3.9634,  0.0459,  ...,  0.1368, -0.5968, -2.1781],\n",
      "       grad_fn=<CatBackward0>)\n",
      "Labels: tensor([1., 1., 1.,  ..., 0., 0., 0.])\n",
      "In epoch 30, loss: 0.4566281735897064\n",
      "Scores: tensor([ 4.9834,  3.8622,  0.1700,  ...,  0.1300, -0.5928, -2.1333],\n",
      "       grad_fn=<CatBackward0>)\n",
      "Labels: tensor([1., 1., 1.,  ..., 0., 0., 0.])\n",
      "Scores: tensor([ 4.8943,  3.8026,  0.2658,  ...,  0.1257, -0.5837, -2.1424],\n",
      "       grad_fn=<CatBackward0>)\n",
      "Labels: tensor([1., 1., 1.,  ..., 0., 0., 0.])\n",
      "Scores: tensor([ 4.8986,  3.8069,  0.2726,  ...,  0.1254, -0.5702, -2.1957],\n",
      "       grad_fn=<CatBackward0>)\n",
      "Labels: tensor([1., 1., 1.,  ..., 0., 0., 0.])\n",
      "Scores: tensor([ 4.9653,  3.8457,  0.1810,  ...,  0.1274, -0.5559, -2.2515],\n",
      "       grad_fn=<CatBackward0>)\n",
      "Labels: tensor([1., 1., 1.,  ..., 0., 0., 0.])\n",
      "Scores: tensor([ 5.0344,  3.8765,  0.0532,  ...,  0.1285, -0.5426, -2.2918],\n",
      "       grad_fn=<CatBackward0>)\n",
      "Labels: tensor([1., 1., 1.,  ..., 0., 0., 0.])\n",
      "In epoch 35, loss: 0.4519338309764862\n",
      "Scores: tensor([ 5.0637,  3.8803, -0.0252,  ...,  0.1270, -0.5331, -2.3291],\n",
      "       grad_fn=<CatBackward0>)\n",
      "Labels: tensor([1., 1., 1.,  ..., 0., 0., 0.])\n",
      "Scores: tensor([ 5.0506e+00,  3.8653e+00,  3.1700e-03,  ...,  1.2235e-01,\n",
      "        -5.2942e-01, -2.3864e+00], grad_fn=<CatBackward0>)\n",
      "Labels: tensor([1., 1., 1.,  ..., 0., 0., 0.])\n",
      "Scores: tensor([ 5.0213,  3.8502,  0.1080,  ...,  0.1157, -0.5302, -2.4725],\n",
      "       grad_fn=<CatBackward0>)\n",
      "Labels: tensor([1., 1., 1.,  ..., 0., 0., 0.])\n",
      "Scores: tensor([ 5.0093,  3.8466,  0.2022,  ...,  0.1088, -0.5327, -2.5770],\n",
      "       grad_fn=<CatBackward0>)\n",
      "Labels: tensor([1., 1., 1.,  ..., 0., 0., 0.])\n",
      "Scores: tensor([ 5.0216,  3.8429,  0.2007,  ...,  0.1019, -0.5344, -2.6761],\n",
      "       grad_fn=<CatBackward0>)\n",
      "Labels: tensor([1., 1., 1.,  ..., 0., 0., 0.])\n",
      "In epoch 40, loss: 0.44766080379486084\n",
      "Scores: tensor([ 5.0624,  3.8412,  0.1022,  ...,  0.0955, -0.5339, -2.7665],\n",
      "       grad_fn=<CatBackward0>)\n",
      "Labels: tensor([1., 1., 1.,  ..., 0., 0., 0.])\n",
      "Scores: tensor([ 5.1199,  3.8495, -0.0188,  ...,  0.0909, -0.5329, -2.8501],\n",
      "       grad_fn=<CatBackward0>)\n",
      "Labels: tensor([1., 1., 1.,  ..., 0., 0., 0.])\n",
      "Scores: tensor([ 5.1600,  3.8607, -0.0704,  ...,  0.0868, -0.5332, -2.9248],\n",
      "       grad_fn=<CatBackward0>)\n",
      "Labels: tensor([1., 1., 1.,  ..., 0., 0., 0.])\n",
      "Scores: tensor([ 5.1577,  3.8629, -0.0151,  ...,  0.0822, -0.5354, -2.9860],\n",
      "       grad_fn=<CatBackward0>)\n",
      "Labels: tensor([1., 1., 1.,  ..., 0., 0., 0.])\n",
      "Scores: tensor([ 5.1238,  3.8591,  0.1137,  ...,  0.0775, -0.5385, -3.0294],\n",
      "       grad_fn=<CatBackward0>)\n",
      "Labels: tensor([1., 1., 1.,  ..., 0., 0., 0.])\n",
      "In epoch 45, loss: 0.4436977803707123\n",
      "Scores: tensor([ 5.0925,  3.8600,  0.2392,  ...,  0.0745, -0.5413, -3.0522],\n",
      "       grad_fn=<CatBackward0>)\n",
      "Labels: tensor([1., 1., 1.,  ..., 0., 0., 0.])\n",
      "Scores: tensor([ 5.0903,  3.8692,  0.2955,  ...,  0.0738, -0.5436, -3.0538],\n",
      "       grad_fn=<CatBackward0>)\n",
      "Labels: tensor([1., 1., 1.,  ..., 0., 0., 0.])\n",
      "Scores: tensor([ 5.1209,  3.8887,  0.2808,  ...,  0.0752, -0.5432, -3.0383],\n",
      "       grad_fn=<CatBackward0>)\n",
      "Labels: tensor([1., 1., 1.,  ..., 0., 0., 0.])\n",
      "Scores: tensor([ 5.1652,  3.9158,  0.2479,  ...,  0.0765, -0.5406, -3.0165],\n",
      "       grad_fn=<CatBackward0>)\n",
      "Labels: tensor([1., 1., 1.,  ..., 0., 0., 0.])\n",
      "Scores: tensor([ 5.1864,  3.9326,  0.2488,  ...,  0.0766, -0.5371, -2.9888],\n",
      "       grad_fn=<CatBackward0>)\n",
      "Labels: tensor([1., 1., 1.,  ..., 0., 0., 0.])\n",
      "In epoch 50, loss: 0.4396634101867676\n",
      "Scores: tensor([ 5.1666,  3.9298,  0.2981,  ...,  0.0742, -0.5340, -2.9506],\n",
      "       grad_fn=<CatBackward0>)\n",
      "Labels: tensor([1., 1., 1.,  ..., 0., 0., 0.])\n",
      "Scores: tensor([ 5.1248,  3.9162,  0.3656,  ...,  0.0707, -0.5313, -2.8965],\n",
      "       grad_fn=<CatBackward0>)\n",
      "Labels: tensor([1., 1., 1.,  ..., 0., 0., 0.])\n",
      "Scores: tensor([ 5.1040,  3.9120,  0.4037,  ...,  0.0687, -0.5292, -2.8315],\n",
      "       grad_fn=<CatBackward0>)\n",
      "Labels: tensor([1., 1., 1.,  ..., 0., 0., 0.])\n",
      "Scores: tensor([ 5.1362,  3.9365,  0.3944,  ...,  0.0691, -0.5275, -2.7725],\n",
      "       grad_fn=<CatBackward0>)\n",
      "Labels: tensor([1., 1., 1.,  ..., 0., 0., 0.])\n",
      "Scores: tensor([ 5.2091,  3.9833,  0.3562,  ...,  0.0702, -0.5258, -2.7407],\n",
      "       grad_fn=<CatBackward0>)\n",
      "Labels: tensor([1., 1., 1.,  ..., 0., 0., 0.])\n",
      "In epoch 55, loss: 0.43557095527648926\n",
      "Scores: tensor([ 5.2627,  4.0157,  0.3214,  ...,  0.0689, -0.5232, -2.7240],\n",
      "       grad_fn=<CatBackward0>)\n",
      "Labels: tensor([1., 1., 1.,  ..., 0., 0., 0.])\n",
      "Scores: tensor([ 5.2509,  4.0037,  0.3143,  ...,  0.0638, -0.5196, -2.7006],\n",
      "       grad_fn=<CatBackward0>)\n",
      "Labels: tensor([1., 1., 1.,  ..., 0., 0., 0.])\n",
      "Scores: tensor([ 5.2099,  3.9777,  0.3365,  ...,  0.0574, -0.5160, -2.6782],\n",
      "       grad_fn=<CatBackward0>)\n",
      "Labels: tensor([1., 1., 1.,  ..., 0., 0., 0.])\n",
      "Scores: tensor([ 5.2068,  3.9850,  0.3638,  ...,  0.0528, -0.5132, -2.6757],\n",
      "       grad_fn=<CatBackward0>)\n",
      "Labels: tensor([1., 1., 1.,  ..., 0., 0., 0.])\n",
      "Scores: tensor([ 5.2520,  4.0237,  0.3647,  ...,  0.0511, -0.5102, -2.6748],\n",
      "       grad_fn=<CatBackward0>)\n",
      "Labels: tensor([1., 1., 1.,  ..., 0., 0., 0.])\n",
      "In epoch 60, loss: 0.431903213262558\n",
      "Scores: tensor([ 5.3064,  4.0629,  0.3442,  ...,  0.0506, -0.5057, -2.6584],\n",
      "       grad_fn=<CatBackward0>)\n",
      "Labels: tensor([1., 1., 1.,  ..., 0., 0., 0.])\n",
      "Scores: tensor([ 5.3278,  4.0786,  0.3349,  ...,  0.0491, -0.4993, -2.6315],\n",
      "       grad_fn=<CatBackward0>)\n",
      "Labels: tensor([1., 1., 1.,  ..., 0., 0., 0.])\n",
      "Scores: tensor([ 5.3114,  4.0764,  0.3595,  ...,  0.0461, -0.4913, -2.6114],\n",
      "       grad_fn=<CatBackward0>)\n",
      "Labels: tensor([1., 1., 1.,  ..., 0., 0., 0.])\n",
      "Scores: tensor([ 5.2760,  4.0651,  0.4019,  ...,  0.0434, -0.4826, -2.5853],\n",
      "       grad_fn=<CatBackward0>)\n",
      "Labels: tensor([1., 1., 1.,  ..., 0., 0., 0.])\n",
      "Scores: tensor([ 5.2528,  4.0570,  0.4291,  ...,  0.0425, -0.4738, -2.5382],\n",
      "       grad_fn=<CatBackward0>)\n",
      "Labels: tensor([1., 1., 1.,  ..., 0., 0., 0.])\n",
      "In epoch 65, loss: 0.42859938740730286\n",
      "Scores: tensor([ 5.2731,  4.0752,  0.4360,  ...,  0.0442, -0.4654, -2.4887],\n",
      "       grad_fn=<CatBackward0>)\n",
      "Labels: tensor([1., 1., 1.,  ..., 0., 0., 0.])\n",
      "Scores: tensor([ 5.3197,  4.1144,  0.4438,  ...,  0.0471, -0.4576, -2.4518],\n",
      "       grad_fn=<CatBackward0>)\n",
      "Labels: tensor([1., 1., 1.,  ..., 0., 0., 0.])\n",
      "Scores: tensor([ 5.3336,  4.1306,  0.4652,  ...,  0.0485, -0.4501, -2.4103],\n",
      "       grad_fn=<CatBackward0>)\n",
      "Labels: tensor([1., 1., 1.,  ..., 0., 0., 0.])\n",
      "Scores: tensor([ 5.3040,  4.1128,  0.4962,  ...,  0.0479, -0.4428, -2.3599],\n",
      "       grad_fn=<CatBackward0>)\n",
      "Labels: tensor([1., 1., 1.,  ..., 0., 0., 0.])\n",
      "Scores: tensor([ 5.2819,  4.0994,  0.5245,  ...,  0.0470, -0.4363, -2.3187],\n",
      "       grad_fn=<CatBackward0>)\n",
      "Labels: tensor([1., 1., 1.,  ..., 0., 0., 0.])\n",
      "In epoch 70, loss: 0.42549046874046326\n",
      "Scores: tensor([ 5.3090,  4.1204,  0.5356,  ...,  0.0479, -0.4310, -2.2974],\n",
      "       grad_fn=<CatBackward0>)\n",
      "Labels: tensor([1., 1., 1.,  ..., 0., 0., 0.])\n",
      "Scores: tensor([ 5.3561,  4.1498,  0.5318,  ...,  0.0498, -0.4265, -2.2714],\n",
      "       grad_fn=<CatBackward0>)\n",
      "Labels: tensor([1., 1., 1.,  ..., 0., 0., 0.])\n",
      "Scores: tensor([ 5.3842,  4.1694,  0.5427,  ...,  0.0514, -0.4226, -2.2458],\n",
      "       grad_fn=<CatBackward0>)\n",
      "Labels: tensor([1., 1., 1.,  ..., 0., 0., 0.])\n",
      "Scores: tensor([ 5.3886,  4.1855,  0.5766,  ...,  0.0525, -0.4192, -2.2414],\n",
      "       grad_fn=<CatBackward0>)\n",
      "Labels: tensor([1., 1., 1.,  ..., 0., 0., 0.])\n",
      "Scores: tensor([ 5.3803,  4.1904,  0.5997,  ...,  0.0531, -0.4145, -2.2382],\n",
      "       grad_fn=<CatBackward0>)\n",
      "Labels: tensor([1., 1., 1.,  ..., 0., 0., 0.])\n",
      "In epoch 75, loss: 0.4224821627140045\n",
      "Scores: tensor([ 5.3826,  4.1897,  0.5898,  ...,  0.0535, -0.4081, -2.2221],\n",
      "       grad_fn=<CatBackward0>)\n",
      "Labels: tensor([1., 1., 1.,  ..., 0., 0., 0.])\n",
      "Scores: tensor([ 5.4137,  4.2145,  0.5758,  ...,  0.0556, -0.4020, -2.2161],\n",
      "       grad_fn=<CatBackward0>)\n",
      "Labels: tensor([1., 1., 1.,  ..., 0., 0., 0.])\n",
      "Scores: tensor([ 5.4404,  4.2474,  0.5852,  ...,  0.0586, -0.3967, -2.2149],\n",
      "       grad_fn=<CatBackward0>)\n",
      "Labels: tensor([1., 1., 1.,  ..., 0., 0., 0.])\n",
      "Scores: tensor([ 5.4344,  4.2590,  0.6147,  ...,  0.0606, -0.3904, -2.1992],\n",
      "       grad_fn=<CatBackward0>)\n",
      "Labels: tensor([1., 1., 1.,  ..., 0., 0., 0.])\n",
      "Scores: tensor([ 5.4280,  4.2742,  0.6436,  ...,  0.0632, -0.3837, -2.1904],\n",
      "       grad_fn=<CatBackward0>)\n",
      "Labels: tensor([1., 1., 1.,  ..., 0., 0., 0.])\n",
      "In epoch 80, loss: 0.4194128215312958\n",
      "Scores: tensor([ 5.4326,  4.2883,  0.6476,  ...,  0.0659, -0.3756, -2.1755],\n",
      "       grad_fn=<CatBackward0>)\n",
      "Labels: tensor([1., 1., 1.,  ..., 0., 0., 0.])\n",
      "Scores: tensor([ 5.4457,  4.3049,  0.6457,  ...,  0.0692, -0.3672, -2.1566],\n",
      "       grad_fn=<CatBackward0>)\n",
      "Labels: tensor([1., 1., 1.,  ..., 0., 0., 0.])\n",
      "Scores: tensor([ 5.4538,  4.3288,  0.6705,  ...,  0.0738, -0.3605, -2.1433],\n",
      "       grad_fn=<CatBackward0>)\n",
      "Labels: tensor([1., 1., 1.,  ..., 0., 0., 0.])\n",
      "Scores: tensor([ 5.4473,  4.3472,  0.7175,  ...,  0.0790, -0.3548, -2.1281],\n",
      "       grad_fn=<CatBackward0>)\n",
      "Labels: tensor([1., 1., 1.,  ..., 0., 0., 0.])\n",
      "Scores: tensor([ 5.4417,  4.3603,  0.7557,  ...,  0.0844, -0.3489, -2.1113],\n",
      "       grad_fn=<CatBackward0>)\n",
      "Labels: tensor([1., 1., 1.,  ..., 0., 0., 0.])\n",
      "In epoch 85, loss: 0.4163009822368622\n",
      "Scores: tensor([ 5.4469,  4.3720,  0.7687,  ...,  0.0901, -0.3424, -2.0952],\n",
      "       grad_fn=<CatBackward0>)\n",
      "Labels: tensor([1., 1., 1.,  ..., 0., 0., 0.])\n",
      "Scores: tensor([ 5.4491,  4.3800,  0.7808,  ...,  0.0961, -0.3361, -2.0782],\n",
      "       grad_fn=<CatBackward0>)\n",
      "Labels: tensor([1., 1., 1.,  ..., 0., 0., 0.])\n",
      "Scores: tensor([ 5.4396,  4.3887,  0.8177,  ...,  0.1031, -0.3312, -2.0637],\n",
      "       grad_fn=<CatBackward0>)\n",
      "Labels: tensor([1., 1., 1.,  ..., 0., 0., 0.])\n",
      "Scores: tensor([ 5.4312,  4.4078,  0.8686,  ...,  0.1120, -0.3288, -2.0607],\n",
      "       grad_fn=<CatBackward0>)\n",
      "Labels: tensor([1., 1., 1.,  ..., 0., 0., 0.])\n",
      "Scores: tensor([ 5.4322,  4.4181,  0.8930,  ...,  0.1200, -0.3257, -2.0507],\n",
      "       grad_fn=<CatBackward0>)\n",
      "Labels: tensor([1., 1., 1.,  ..., 0., 0., 0.])\n",
      "In epoch 90, loss: 0.41310393810272217\n",
      "Scores: tensor([ 5.4438,  4.4300,  0.8969,  ...,  0.1284, -0.3234, -2.0468],\n",
      "       grad_fn=<CatBackward0>)\n",
      "Labels: tensor([1., 1., 1.,  ..., 0., 0., 0.])\n",
      "Scores: tensor([ 5.4465,  4.4379,  0.9068,  ...,  0.1369, -0.3220, -2.0450],\n",
      "       grad_fn=<CatBackward0>)\n",
      "Labels: tensor([1., 1., 1.,  ..., 0., 0., 0.])\n",
      "Scores: tensor([ 5.4382,  4.4415,  0.9342,  ...,  0.1454, -0.3221, -2.0399],\n",
      "       grad_fn=<CatBackward0>)\n",
      "Labels: tensor([1., 1., 1.,  ..., 0., 0., 0.])\n",
      "Scores: tensor([ 5.4436,  4.4645,  0.9686,  ...,  0.1560, -0.3253, -2.0475],\n",
      "       grad_fn=<CatBackward0>)\n",
      "Labels: tensor([1., 1., 1.,  ..., 0., 0., 0.])\n",
      "Scores: tensor([ 5.4587,  4.4787,  0.9820,  ...,  0.1657, -0.3274, -2.0444],\n",
      "       grad_fn=<CatBackward0>)\n",
      "Labels: tensor([1., 1., 1.,  ..., 0., 0., 0.])\n",
      "In epoch 95, loss: 0.40984007716178894\n",
      "Scores: tensor([ 5.4681,  4.4996,  0.9985,  ...,  0.1775, -0.3313, -2.0567],\n",
      "       grad_fn=<CatBackward0>)\n",
      "Labels: tensor([1., 1., 1.,  ..., 0., 0., 0.])\n",
      "Scores: tensor([ 5.4573,  4.5014,  1.0213,  ...,  0.1884, -0.3325, -2.0581],\n",
      "       grad_fn=<CatBackward0>)\n",
      "Labels: tensor([1., 1., 1.,  ..., 0., 0., 0.])\n",
      "Scores: tensor([ 5.4517,  4.5160,  1.0527,  ...,  0.2013, -0.3352, -2.0672],\n",
      "       grad_fn=<CatBackward0>)\n",
      "Labels: tensor([1., 1., 1.,  ..., 0., 0., 0.])\n",
      "Scores: tensor([ 5.4629,  4.5390,  1.0756,  ...,  0.2147, -0.3385, -2.0752],\n",
      "       grad_fn=<CatBackward0>)\n",
      "Labels: tensor([1., 1., 1.,  ..., 0., 0., 0.])\n",
      "AUC 0.9243320875240516\n"
     ]
    }
   ]
  },
  {
   "cell_type": "markdown",
   "metadata": {
    "id": "XV1RZcEow7D8"
   },
   "source": [
    "### Training and testing SAGE:"
   ]
  },
  {
   "cell_type": "code",
   "metadata": {
    "colab": {
     "base_uri": "https://localhost:8080/"
    },
    "id": "i03FVEP5_adS",
    "outputId": "8611b3a0-0464-4cb5-de87-67d70c3dbf31"
   },
   "source": [
    "h = pipeline(\"SAGE\")"
   ],
   "execution_count": 10,
   "outputs": [
    {
     "name": "stdout",
     "output_type": "stream",
     "text": [
      "In epoch 0, loss: 1.185091495513916\n",
      "In epoch 5, loss: 0.6183627843856812\n",
      "In epoch 10, loss: 0.5766068696975708\n",
      "In epoch 15, loss: 0.5462220311164856\n",
      "In epoch 20, loss: 0.5231993794441223\n",
      "In epoch 25, loss: 0.5026652216911316\n",
      "In epoch 30, loss: 0.489641398191452\n",
      "In epoch 35, loss: 0.47622647881507874\n",
      "In epoch 40, loss: 0.46585485339164734\n",
      "In epoch 45, loss: 0.45505568385124207\n",
      "In epoch 50, loss: 0.44496604800224304\n",
      "In epoch 55, loss: 0.43537989258766174\n",
      "In epoch 60, loss: 0.42571908235549927\n",
      "In epoch 65, loss: 0.415399432182312\n",
      "In epoch 70, loss: 0.40556761622428894\n",
      "In epoch 75, loss: 0.39651331305503845\n",
      "In epoch 80, loss: 0.3878096640110016\n",
      "In epoch 85, loss: 0.37894803285598755\n",
      "In epoch 90, loss: 0.37082192301750183\n",
      "In epoch 95, loss: 0.36288997530937195\n",
      "AUC 0.9054745674889767\n"
     ]
    }
   ]
  },
  {
   "cell_type": "markdown",
   "metadata": {
    "id": "cVmQFofwlu3e"
   },
   "source": [
    "# Friend recommendation\n",
    "\n",
    "Once we trained our model, we can finally suggest friends. To do this, we calculate the embedding dot products between a given user and all other users that he/she is currently NOT friends with. Then we choose 5 users with the highest dot product scores to recommend to him/her."
   ]
  },
  {
   "cell_type": "code",
   "metadata": {
    "id": "3yTYJKHtfvsh"
   },
   "source": [
    "# --------- generate recommendation for user -------- #\n",
    "def generate_rec(h, user_id=0, num_pred=5):\n",
    "    # `h` represents the node embeddings, with shape [num_nodes, hidden_size]\n",
    "\n",
    "    # generate a graph with (num_nodes - num_friends_of_user) edges\n",
    "    # one end of the edge is user_id\n",
    "    # the other end is a user that's NOT friends with user_id\n",
    "    user_friends = set()\n",
    "    user_neg_u, user_neg_v = [], []\n",
    "    for n1, n2 in zip(u, v):   # get all friends of user_id\n",
    "        if int(n1) == user_id:\n",
    "            user_friends.add(int(n2))\n",
    "        if int(n2) == user_id:\n",
    "            user_friends.add(int(n1))\n",
    "\n",
    "    for i in range(num_nodes):  # generate \"negative edges\" for user_id\n",
    "        if i != user_id and i not in user_friends:\n",
    "            user_neg_u.append(user_id)\n",
    "            user_neg_v.append(i)\n",
    "            \n",
    "    user_g = dgl.graph((user_neg_u, user_neg_v), num_nodes=g.number_of_nodes())\n",
    "\n",
    "    pred = DotPredictor()\n",
    "\n",
    "    # calculate the score of each user\n",
    "    scores = [(i, score) for i, score in enumerate(pred(user_g, h))]\n",
    "\n",
    "    # produce final ranked list\n",
    "    scores.sort(key=lambda x: -x[1])\n",
    "\n",
    "    # display results\n",
    "    print(f\"List of 5 suggested friends for user {user_id}:\")\n",
    "    for i in range(num_pred):\n",
    "        print(f'- User {scores[i][0]}, score = {scores[i][1]}')\n",
    "\n",
    "    # data_pred = {scores[i][0]: float(scores[i][1]) for i in range(num_pred)}\n",
    "    data_pred = {'User': [scores[i][0] for i in range(num_pred)],\n",
    "                 'Score': [float(scores[i][1]) for i in range(num_pred)]}\n",
    "    df_pred = pd.DataFrame(data=data_pred, columns=['User', 'Score'])\n",
    "\n",
    "    return df_pred\n"
   ],
   "execution_count": 18,
   "outputs": []
  },
  {
   "cell_type": "code",
   "metadata": {
    "colab": {
     "base_uri": "https://localhost:8080/"
    },
    "id": "BZcZlgbria0d",
    "outputId": "6fd06b4f-d8a9-4d8e-fd99-04ec4b70518a"
   },
   "source": [
    "df_pred = generate_rec(h, user_id=18)\n",
    "df_pred"
   ],
   "execution_count": 19,
   "outputs": [
    {
     "name": "stdout",
     "output_type": "stream",
     "text": [
      "List of 5 suggested friends for user 18:\n",
      "- User 205, score = 7.252294540405273\n",
      "- User 132, score = 6.9791364669799805\n",
      "- User 141, score = 5.800884246826172\n",
      "- User 310, score = 5.4453325271606445\n",
      "- User 231, score = 5.1912007331848145\n"
     ]
    },
    {
     "data": {
      "text/plain": "   User     Score\n0   205  7.252295\n1   132  6.979136\n2   141  5.800884\n3   310  5.445333\n4   231  5.191201",
      "text/html": "<div>\n<style scoped>\n    .dataframe tbody tr th:only-of-type {\n        vertical-align: middle;\n    }\n\n    .dataframe tbody tr th {\n        vertical-align: top;\n    }\n\n    .dataframe thead th {\n        text-align: right;\n    }\n</style>\n<table border=\"1\" class=\"dataframe\">\n  <thead>\n    <tr style=\"text-align: right;\">\n      <th></th>\n      <th>User</th>\n      <th>Score</th>\n    </tr>\n  </thead>\n  <tbody>\n    <tr>\n      <th>0</th>\n      <td>205</td>\n      <td>7.252295</td>\n    </tr>\n    <tr>\n      <th>1</th>\n      <td>132</td>\n      <td>6.979136</td>\n    </tr>\n    <tr>\n      <th>2</th>\n      <td>141</td>\n      <td>5.800884</td>\n    </tr>\n    <tr>\n      <th>3</th>\n      <td>310</td>\n      <td>5.445333</td>\n    </tr>\n    <tr>\n      <th>4</th>\n      <td>231</td>\n      <td>5.191201</td>\n    </tr>\n  </tbody>\n</table>\n</div>"
     },
     "execution_count": 19,
     "metadata": {},
     "output_type": "execute_result"
    }
   ]
  },
  {
   "cell_type": "code",
   "execution_count": 12,
   "outputs": [],
   "source": [],
   "metadata": {
    "collapsed": false
   }
  }
 ]
}
