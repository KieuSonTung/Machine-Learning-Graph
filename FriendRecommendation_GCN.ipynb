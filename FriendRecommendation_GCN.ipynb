{
 "nbformat": 4,
 "nbformat_minor": 0,
 "metadata": {
  "colab": {
   "provenance": []
  },
  "kernelspec": {
   "name": "python3",
   "display_name": "Python 3"
  },
  "language_info": {
   "name": "python"
  }
 },
 "cells": [
  {
   "cell_type": "markdown",
   "metadata": {
    "id": "Y7wEi9LbwdZm"
   },
   "source": [
    "# Link Prediction using DGL\n",
    "\n",
    "This notebook uses the Python Library DGL for friend recommendation. \n",
    "\n",
    "Some of the code is adapted from the following tutorial for link prediction: https://docs.dgl.ai/en/0.6.x/tutorials/blitz/4_link_predict.html#sphx-glr-tutorials-blitz-4-link-predict-py"
   ]
  },
  {
   "cell_type": "code",
   "metadata": {
    "id": "xgX74djxx08W",
    "colab": {
     "base_uri": "https://localhost:8080/"
    },
    "outputId": "a29d8e9f-047a-4831-d649-a1be96878d58"
   },
   "source": [
    "import numpy as np\n",
    "import torch\n",
    "import torch.nn as nn\n",
    "import torch.nn.functional as F\n",
    "import itertools\n",
    "import numpy as np\n",
    "import scipy.sparse as sp\n",
    "from time import time\n",
    "import pandas as pd\n",
    "import dgl\n",
    "import os"
   ],
   "execution_count": 1,
   "outputs": []
  },
  {
   "cell_type": "markdown",
   "metadata": {
    "id": "X3Ru0L4qtsht"
   },
   "source": [
    "## Dataset Loading\n",
    "\n",
    "We use the [Facebook social circles](https://snap.stanford.edu/data/ego-Facebook.html) dataset, available at the Stanford SNAP website, for friend recommendation."
   ]
  },
  {
   "cell_type": "markdown",
   "metadata": {
    "id": "2QHeHXzNLKSp"
   },
   "source": [
    "\n",
    "Obviously, we need to load the friendship (edges) into the graph. The files also provide user features information, represented by a 224-dimensional vector of 0s and 1s, so we load that as well. For the simplicity of this tutorial, we will only use one ego network (e.g. User 0's network)."
   ]
  },
  {
   "cell_type": "code",
   "execution_count": 2,
   "outputs": [
    {
     "data": {
      "text/plain": "array(['0', '107', '1684', '1912', '3437', '348', '3980', '414', '686',\n       '698'], dtype=object)"
     },
     "execution_count": 2,
     "metadata": {},
     "output_type": "execute_result"
    }
   ],
   "source": [
    "def get_user(x):\n",
    "    return x[0]\n",
    "\n",
    "user_data = pd.Series(np.char.split(np.array(os.listdir('./facebook_data')), sep='.'))\n",
    "user_ls = np.unique(np.array(user_data.apply(get_user)))\n",
    "user_ls"
   ],
   "metadata": {
    "collapsed": false
   }
  },
  {
   "cell_type": "code",
   "metadata": {
    "id": "CURrSLeNPTmV",
    "colab": {
     "base_uri": "https://localhost:8080/"
    },
    "outputId": "28a64487-ee94-49cd-d53d-95e42522e25d"
   },
   "source": [
    "# user id, which correspond to file name prefix\n",
    "USER = 0\n",
    "\n",
    "file_edges = f'facebook_data/{USER}.edges'\n",
    "file_feat = f'facebook_data/{USER}.feat'\n",
    "\n",
    "edges_u, edges_v = [], []\n",
    "\n",
    "with open(file_edges) as f:  # load edges file\n",
    "    for line in f:\n",
    "        e1, e2 = tuple(int(x) - 1 for x in line.split())\n",
    "        edges_u.append(e1)\n",
    "        edges_v.append(e2)\n",
    "\n",
    "edges_u, edges_v = np.array(edges_u), np.array(edges_v)\n",
    "\n",
    "num_nodes = 0  # assumes nodes are sequential\n",
    "feats = []  # node features\n",
    "\n",
    "with open(file_feat) as f:  # load node features file\n",
    "    for line in f:\n",
    "        num_nodes += 1\n",
    "        a = [int(x) for x in line.split()[1:]]  # 0th entry is node id\n",
    "        feats.append(torch.tensor(a, dtype=torch.float))\n",
    "\n",
    "feats = torch.stack(feats)\n",
    "# print(feats.shape)\n",
    "\n",
    "g = dgl.graph((edges_u, edges_v))  # construct graph\n",
    "g.ndata['feat'] = feats\n",
    "\n",
    "g"
   ],
   "execution_count": 4,
   "outputs": [
    {
     "data": {
      "text/plain": "Graph(num_nodes=347, num_edges=5038,\n      ndata_schemes={'feat': Scheme(shape=(224,), dtype=torch.float32)}\n      edata_schemes={})"
     },
     "execution_count": 4,
     "metadata": {},
     "output_type": "execute_result"
    }
   ]
  },
  {
   "cell_type": "markdown",
   "metadata": {
    "id": "vWlsfnO8vhuT"
   },
   "source": [
    "## Graph Visualization\n",
    "\n",
    "We use the networkx library for visualizing the friendship relationships. There are hundreds of nodes (not shown), and thousands of links, so it can seem a bit messy when the graph is drawn."
   ]
  },
  {
   "cell_type": "code",
   "metadata": {
    "id": "toeZj52TVDeR",
    "colab": {
     "base_uri": "https://localhost:8080/",
     "height": 319
    },
    "outputId": "116c13b6-8815-44cc-b38b-0c9960257528"
   },
   "source": [
    "import networkx as nx\n",
    "\n",
    "G = nx.Graph()\n",
    "G.add_nodes_from(set(edges_u + edges_v))\n",
    "G.add_edges_from(zip(edges_u, edges_v))\n",
    "\n",
    "nx.draw(G, node_size=0)"
   ],
   "execution_count": 5,
   "outputs": [
    {
     "data": {
      "text/plain": "<Figure size 640x480 with 1 Axes>",
      "image/png": "[encoded data removed]"
     },
     "metadata": {},
     "output_type": "display_data"
    }
   ]
  },
  {
   "cell_type": "markdown",
   "metadata": {
    "id": "dgwhgCwJycku"
   },
   "source": [
    "## Training/testing data construction\n",
    "\n",
    "Once we have the graph constructed, we can split it into the training set and testing set. We omit the validation set for simplicity.\n",
    "\n",
    "We construct a graph of \"negative edges\"; whenever there is a lack of an edges between two nodes `u` and `v` in the original graph, there is a corresponding edge in the negative graph. This is needed for telling the training algorithm what the \"negative examples\" are.\n",
    "\n",
    "We randomly split 30% of links for testing, and leave 70% for training. "
   ]
  },
  {
   "cell_type": "code",
   "metadata": {
    "id": "DL6aBJg2xIoc"
   },
   "source": [
    "TEST_RATIO = 0.3  # ratio for splitting the test set\n",
    "\n",
    "u, v = g.edges()\n",
    "\n",
    "eids = np.arange(g.number_of_edges())\n",
    "eids = np.random.permutation(eids)\n",
    "test_size = int(len(eids) * TEST_RATIO)  # number of edges in test set\n",
    "train_size = g.number_of_edges() - test_size  # number of edges in train set\n",
    "\n",
    "# get positive edges for test and train\n",
    "test_pos_u, test_pos_v = u[eids[:test_size]], v[eids[:test_size]]\n",
    "train_pos_u, train_pos_v = u[eids[test_size:]], v[eids[test_size:]]\n",
    "\n",
    "# Find all negative edges\n",
    "adj = sp.coo_matrix((np.ones(len(u)), (u.numpy(), v.numpy())))\n",
    "adj_neg = 1 - adj.todense() - np.eye(g.number_of_nodes())\n",
    "neg_u, neg_v = np.where(adj_neg != 0)\n",
    "\n",
    "# split the negative edges for training and testing \n",
    "neg_eids = np.random.choice(len(neg_u), g.number_of_edges())\n",
    "test_neg_u, test_neg_v = neg_u[neg_eids[:test_size]], neg_v[neg_eids[:test_size]]\n",
    "train_neg_u, train_neg_v = neg_u[neg_eids[test_size:]], neg_v[neg_eids[test_size:]]\n",
    "\n",
    "# construct positive and negative graphs for training and testing\n",
    "train_pos_g = dgl.graph((train_pos_u, train_pos_v), num_nodes=g.number_of_nodes())\n",
    "train_neg_g = dgl.graph((train_neg_u, train_neg_v), num_nodes=g.number_of_nodes())\n",
    "\n",
    "test_pos_g = dgl.graph((test_pos_u, test_pos_v), num_nodes=g.number_of_nodes())\n",
    "test_neg_g = dgl.graph((test_neg_u, test_neg_v), num_nodes=g.number_of_nodes())\n",
    "\n",
    "# training graph\n",
    "train_g = dgl.remove_edges(g, eids[:test_size])\n",
    "train_g = dgl.add_self_loop(train_g)"
   ],
   "execution_count": 6,
   "outputs": []
  },
  {
   "cell_type": "markdown",
   "metadata": {
    "id": "nPYzM9IY5gg4"
   },
   "source": [
    "## Model definition\n",
    "\n",
    "Here we build two models from the existing implementation in the DGL library. Both models consists of 2 convolutional layers. \n",
    "\n",
    "`GCN` is a standard graph convolutional network, and serves as a baseline. `GraphSAGE` is a more advanced and powerful network that we're testing.\n",
    "\n",
    "We also define the `DotPredictor`, which helps to predict the likelihood of whether an edge exists or not, by taking the dot product of two nodes. "
   ]
  },
  {
   "cell_type": "code",
   "metadata": {
    "id": "UqkZIiV_xLSs"
   },
   "source": [
    "from dgl.nn import SAGEConv\n",
    "from dgl.nn import GraphConv\n",
    "\n",
    "# ----------- create model -------------- #\n",
    "# build an ordinary GCN model\n",
    "class GCN(nn.Module):\n",
    "    def __init__(self, in_feats, h_feats):\n",
    "        super(GCN, self).__init__()\n",
    "        self.conv1 = GraphConv(in_feats, h_feats)\n",
    "        self.conv2 = GraphConv(h_feats, h_feats)\n",
    "\n",
    "    def forward(self, g, in_feat):\n",
    "        h = self.conv1(g, in_feat)\n",
    "        h = F.relu(h)\n",
    "        h = self.conv2(g, h)\n",
    "        return h\n",
    "\n",
    "\n",
    "# build a two-layer GraphSAGE model\n",
    "class GraphSAGE(nn.Module):\n",
    "    def __init__(self, in_feats, h_feats):\n",
    "        super(GraphSAGE, self).__init__()\n",
    "        self.conv1 = SAGEConv(in_feats, h_feats, 'mean')\n",
    "        self.conv2 = SAGEConv(h_feats, h_feats, 'mean')\n",
    "\n",
    "    def forward(self, g, in_feat):\n",
    "        h = self.conv1(g, in_feat)\n",
    "        h = F.relu(h)\n",
    "        h = self.conv2(g, h)\n",
    "        return h\n",
    "\n",
    "\n",
    "import dgl.function as fn\n",
    "\n",
    "class DotPredictor(nn.Module):\n",
    "    def forward(self, g, h):\n",
    "        with g.local_scope():\n",
    "            g.ndata['h'] = h\n",
    "            # Compute a new edge feature named 'score' by a dot-product between the\n",
    "            # source node feature 'h' and destination node feature 'h'.\n",
    "            g.apply_edges(fn.u_dot_v('h', 'h', 'score'))\n",
    "            # u_dot_v returns a 1-element vector for each edge so you need to squeeze it.\n",
    "            return g.edata['score'][:, 0]\n"
   ],
   "execution_count": 7,
   "outputs": []
  },
  {
   "cell_type": "markdown",
   "metadata": {
    "id": "CdTqfsc7tfsQ"
   },
   "source": [
    "## Training and testing pipeline\n",
    "\n",
    "Here, we define a pipeline for training our model, and evaluating its performance.\n",
    "\n",
    "For evaluation metric, we use AUC, which is explained in more detail in the blog post. \n",
    "\n",
    "---\n",
    "Note: In the blog post, we mentioned using ranking-based metrics such as `HitRate@K`. However, such kind of metric cannot be used in our colab implementation, since we randomly split the testing edges from the training edges. This means that some users will not have an friend in the test set, and they will never receive a hit when measuring `HitRate@K`. To solve this, we could have tried to split our dataset in a better way, if given more time."
   ]
  },
  {
   "cell_type": "code",
   "metadata": {
    "id": "nzG_l64dxQ5S"
   },
   "source": [
    "def pipeline(model_name='GCN', hidden_size=16):\n",
    "    # model_name can be GCN or SAGE\n",
    "    # hidden_size is the size of the hidden layer in the neural net\n",
    "    if model_name == 'GCN':\n",
    "        model = GCN(train_g.ndata['feat'].shape[1], hidden_size)\n",
    "    elif model_name == 'SAGE':\n",
    "        model = GraphSAGE(train_g.ndata['feat'].shape[1], hidden_size)\n",
    "        \n",
    "    pred = DotPredictor()\n",
    "\n",
    "    def compute_loss(pos_score, neg_score):  # computes the loss based on binary cross entropy\n",
    "        scores = torch.cat([pos_score, neg_score])\n",
    "        labels = torch.cat([torch.ones(pos_score.shape[0]), torch.zeros(neg_score.shape[0])])\n",
    "        return F.binary_cross_entropy_with_logits(scores, labels)\n",
    "\n",
    "    def compute_auc(pos_score, neg_score):  # computes AUC (Area-Under-Curve) score\n",
    "        scores = torch.cat([pos_score, neg_score]).numpy()\n",
    "        labels = torch.cat(\n",
    "            [torch.ones(pos_score.shape[0]), torch.zeros(neg_score.shape[0])]).numpy()\n",
    "        return roc_auc_score(labels, scores)\n",
    "\n",
    "\n",
    "    # ----------- set up loss and optimizer -------------- #\n",
    "    # in this case, loss will in training loop\n",
    "    optimizer = torch.optim.Adam(itertools.chain(model.parameters(), pred.parameters()), lr=0.01)\n",
    "\n",
    "    # ----------- training -------------------------------- #\n",
    "    all_logits = []\n",
    "    for e in range(100):\n",
    "        # forward\n",
    "        h = model(train_g, train_g.ndata['feat'])  # get node embeddings\n",
    "        pos_score = pred(train_pos_g, h)\n",
    "        neg_score = pred(train_neg_g, h)\n",
    "        loss = compute_loss(pos_score, neg_score)\n",
    "\n",
    "        # backward\n",
    "        optimizer.zero_grad()\n",
    "        loss.backward()\n",
    "        optimizer.step()\n",
    "\n",
    "        if e % 5 == 0:\n",
    "            print('In epoch {}, loss: {}'.format(e, loss))\n",
    "\n",
    "    # ----------- test and check results ---------------- #\n",
    "    from sklearn.metrics import roc_auc_score\n",
    "    with torch.no_grad():\n",
    "        pos_score = pred(test_pos_g, h)\n",
    "        neg_score = pred(test_neg_g, h)\n",
    "        print('AUC', compute_auc(pos_score, neg_score))\n",
    "    \n",
    "    return h  # return node embeddings\n"
   ],
   "execution_count": 8,
   "outputs": []
  },
  {
   "cell_type": "markdown",
   "metadata": {
    "id": "GnMhM7PTwwXk"
   },
   "source": [
    "### Training and testing GCN:"
   ]
  },
  {
   "cell_type": "code",
   "metadata": {
    "colab": {
     "base_uri": "https://localhost:8080/"
    },
    "id": "o2a67Jr2_CpI",
    "outputId": "0b0f5f9b-6495-44f3-ce71-9988f9fbee60"
   },
   "source": [
    "h = pipeline(\"GCN\")"
   ],
   "execution_count": 9,
   "outputs": [
    {
     "name": "stdout",
     "output_type": "stream",
     "text": [
      "In epoch 0, loss: 0.6642943024635315\n",
      "In epoch 5, loss: 0.5544628500938416\n",
      "In epoch 10, loss: 0.5119065642356873\n",
      "In epoch 15, loss: 0.4895871877670288\n",
      "In epoch 20, loss: 0.4737851619720459\n",
      "In epoch 25, loss: 0.46935856342315674\n",
      "In epoch 30, loss: 0.46504104137420654\n",
      "In epoch 35, loss: 0.46093085408210754\n",
      "In epoch 40, loss: 0.4562385380268097\n",
      "In epoch 45, loss: 0.4520748555660248\n",
      "In epoch 50, loss: 0.44810205698013306\n",
      "In epoch 55, loss: 0.4442232847213745\n",
      "In epoch 60, loss: 0.43980687856674194\n",
      "In epoch 65, loss: 0.43471840023994446\n",
      "In epoch 70, loss: 0.4292839765548706\n",
      "In epoch 75, loss: 0.4244341552257538\n",
      "In epoch 80, loss: 0.4202098250389099\n",
      "In epoch 85, loss: 0.4156039357185364\n",
      "In epoch 90, loss: 0.41111278533935547\n",
      "In epoch 95, loss: 0.40703460574150085\n",
      "AUC 0.9241814165784468\n"
     ]
    }
   ]
  },
  {
   "cell_type": "markdown",
   "metadata": {
    "id": "XV1RZcEow7D8"
   },
   "source": [
    "### Training and testing SAGE:"
   ]
  },
  {
   "cell_type": "code",
   "metadata": {
    "colab": {
     "base_uri": "https://localhost:8080/"
    },
    "id": "i03FVEP5_adS",
    "outputId": "8611b3a0-0464-4cb5-de87-67d70c3dbf31"
   },
   "source": [
    "h = pipeline(\"SAGE\")"
   ],
   "execution_count": 10,
   "outputs": [
    {
     "name": "stdout",
     "output_type": "stream",
     "text": [
      "In epoch 0, loss: 2.8630833625793457\n",
      "In epoch 5, loss: 0.6810189485549927\n",
      "In epoch 10, loss: 0.6799442172050476\n",
      "In epoch 15, loss: 0.6654988527297974\n",
      "In epoch 20, loss: 0.6325489282608032\n",
      "In epoch 25, loss: 0.5962938070297241\n",
      "In epoch 30, loss: 0.5709240436553955\n",
      "In epoch 35, loss: 0.5537625551223755\n",
      "In epoch 40, loss: 0.541768491268158\n",
      "In epoch 45, loss: 0.5338500142097473\n",
      "In epoch 50, loss: 0.5277358889579773\n",
      "In epoch 55, loss: 0.5229325890541077\n",
      "In epoch 60, loss: 0.5188815593719482\n",
      "In epoch 65, loss: 0.5151752829551697\n",
      "In epoch 70, loss: 0.5117619633674622\n",
      "In epoch 75, loss: 0.5084309577941895\n",
      "In epoch 80, loss: 0.5050894021987915\n",
      "In epoch 85, loss: 0.5018646121025085\n",
      "In epoch 90, loss: 0.49871936440467834\n",
      "In epoch 95, loss: 0.49563631415367126\n",
      "AUC 0.8679347261927861\n"
     ]
    }
   ]
  },
  {
   "cell_type": "markdown",
   "metadata": {
    "id": "cVmQFofwlu3e"
   },
   "source": [
    "# Friend recommendation\n",
    "\n",
    "Once we trained our model, we can finally suggest friends. To do this, we calculate the embedding dot products between a given user and all other users that he/she is currently NOT friends with. Then we choose 5 users with the highest dot product scores to recommend to him/her."
   ]
  },
  {
   "cell_type": "code",
   "metadata": {
    "id": "3yTYJKHtfvsh"
   },
   "source": [
    "# --------- generate recommendation for user -------- #\n",
    "def generate_rec(h, user_id=0):\n",
    "    # `h` represents the node embeddings, with shape [num_nodes, hidden_size]\n",
    "\n",
    "    # generate a graph with (num_nodes - num_friends_of_user) edges\n",
    "    # one end of the edge is user_id\n",
    "    # the other end is a user that's NOT friends with user_id\n",
    "    user_friends = set()\n",
    "    user_neg_u, user_neg_v = [], []\n",
    "    for n1, n2 in zip(u, v):   # get all friends of user_id\n",
    "        if int(n1) == user_id:\n",
    "            user_friends.add(int(n2))\n",
    "        if int(n2) == user_id:\n",
    "            user_friends.add(int(n1))\n",
    "\n",
    "    for i in range(num_nodes):  # generate \"negative edges\" for user_id\n",
    "        if i != user_id and i not in user_friends:\n",
    "            user_neg_u.append(user_id)\n",
    "            user_neg_v.append(i)\n",
    "            \n",
    "    user_g = dgl.graph((user_neg_u, user_neg_v), num_nodes=g.number_of_nodes())\n",
    "\n",
    "    pred = DotPredictor()\n",
    "\n",
    "    # calculate the score of each user\n",
    "    scores = [(i, score) for i, score in enumerate(pred(user_g, h))]\n",
    "\n",
    "    # produce final ranked list\n",
    "    scores.sort(key=lambda x: -x[1])\n",
    "\n",
    "    # display results\n",
    "    print(f\"List of 5 suggested friends for user {user_id}:\")\n",
    "    for i in range(5):\n",
    "        print(f'- User {scores[i][0]}, score = {scores[i][1]}')\n"
   ],
   "execution_count": 11,
   "outputs": []
  },
  {
   "cell_type": "markdown",
   "metadata": {
    "id": "JWjlH_kpmFZi"
   },
   "source": [
    "The recommended users are shown as follows:"
   ]
  },
  {
   "cell_type": "code",
   "metadata": {
    "colab": {
     "base_uri": "https://localhost:8080/"
    },
    "id": "BZcZlgbria0d",
    "outputId": "6fd06b4f-d8a9-4d8e-fd99-04ec4b70518a"
   },
   "source": [
    "generate_rec(h, user_id=0)"
   ],
   "execution_count": 14,
   "outputs": [
    {
     "name": "stdout",
     "output_type": "stream",
     "text": [
      "List of 5 suggested friends for user 0:\n",
      "- User 274, score = 0.6301855444908142\n",
      "- User 263, score = 0.6177087426185608\n",
      "- User 114, score = 0.597420871257782\n",
      "- User 43, score = 0.587447464466095\n",
      "- User 321, score = 0.5793120861053467\n"
     ]
    }
   ]
  },
  {
   "cell_type": "code",
   "source": [],
   "metadata": {
    "id": "OhPZyrmi4z4m"
   },
   "execution_count": null,
   "outputs": []
  }
 ]
}
